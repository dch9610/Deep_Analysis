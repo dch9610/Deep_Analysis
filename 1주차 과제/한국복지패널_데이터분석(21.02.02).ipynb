{
 "cells": [
  {
   "cell_type": "markdown",
   "metadata": {},
   "source": [
    "#### 데이터 명세\n",
    "- h12_g3 : 성별(1 : 남자, 2 : 여자, 9 : 모름/무응답)\n",
    "- h12_g4 : 태어난 년도(1900 ~ 2014, 9999 : 모름/무응답)\n",
    "- h12_g10 : 혼인상태(0 : 미해당, 1 : 유배우, 2 : 사별, 3 : 이혼, 4 : 별거, 5 : 미혼(18세 이상, 미혼모 포함), 6 : 기타, 9 : 모름/무응답\n",
    "- h12_g11 : 종교(1 : 있음, 2 : 없음, 9 : 모름/무응답)\n",
    "- h12_eco9 : 직종(직종코드표, 9999 : 모름/무응답)\n",
    "- p1202_8aq1 : 일을 한 달의 월 평균 임금(1 ~ 9998, 만원 단위, 9999 : 모름/무응답)\n",
    "- h12_reg7 : 7개 권역별 지역 부분(1 : 서울, 2 : 수도권(인천/경기), 3 : 부산/경남/울산, 4 : 대구/경북, 5 : 대전/충남, 6 : 강원/충북, 7 : 광주/전남/전북/제주도"
   ]
  },
  {
   "cell_type": "markdown",
   "metadata": {},
   "source": [
    "#### 분석할 내용\n",
    "- 조사 대상에서 남녀 성별 비를 파악한다.\n",
    "- 성별에 따른 평균 월급 차이 분석\n",
    "- 나이에 따른 평균 임금의 변화\n",
    "- 종교 유무에 따른 이혼비율"
   ]
  },
  {
   "cell_type": "code",
   "execution_count": 1,
   "metadata": {},
   "outputs": [],
   "source": [
    "# 기본\n",
    "import pandas as pd\n",
    "import numpy as np\n",
    "import matplotlib.pyplot as plt\n",
    "import seaborn as sns\n",
    "\n",
    "# KFold (교차 검증을 사용하기 위해)\n",
    "from sklearn.model_selection import KFold\n",
    "from sklearn.model_selection import StratifiedKFold\n",
    "\n",
    "# 교차검증 함수\n",
    "from sklearn.model_selection import cross_val_score\n",
    "from sklearn.model_selection import cross_validate\n",
    "\n",
    "# 데이터 전처리\n",
    "from sklearn.preprocessing import LabelEncoder\n",
    "from sklearn.preprocessing import StandardScaler\n",
    "\n",
    "# 하이퍼 파라미터 튜닝\n",
    "from sklearn.model_selection import GridSearchCV\n",
    "\n",
    "# 평가 함수\n",
    "from sklearn.metrics import accuracy_score\n",
    "\n",
    "# 머신러닝 알고리즘 - 분류\n",
    "from sklearn.neighbors import KNeighborsClassifier\n",
    "from sklearn.linear_model import LogisticRegression\n",
    "from sklearn.svm import SVC\n",
    "from sklearn.tree import DecisionTreeClassifier\n",
    "from sklearn.ensemble import RandomForestClassifier\n",
    "from sklearn.ensemble import GradientBoostingClassifier\n",
    "from xgboost import XGBClassifier\n",
    "\n",
    "# 머신러닝 알고리즘 - 회귀\n",
    "from sklearn.neighbors import KNeighborsRegressor\n",
    "from sklearn.linear_model import LinearRegression\n",
    "from sklearn.linear_model import Ridge\n",
    "from sklearn.linear_model import Lasso\n",
    "from sklearn.linear_model import ElasticNet\n",
    "from sklearn.svm import SVR\n",
    "from sklearn.tree import DecisionTreeRegressor\n",
    "from sklearn.ensemble import RandomForestRegressor\n",
    "from sklearn.ensemble import GradientBoostingRegressor\n",
    "from xgboost import XGBRFRegressor\n",
    "\n",
    "# 그래프 설정\n",
    "plt.rcParams['font.family'] = 'Malgun Gothic'   # 윈도우용\n",
    "# plt.rcParams['font.family'] = 'AppleGothic'   # 맥용\n",
    "plt.rcParams['font.size'] = 16                  # 폰트 크기\n",
    "plt.rcParams['figure.figsize'] = 20,10          # 그래프 크기\n",
    "plt.rcParams['axes.unicode_minus'] = False     # - 기호 깨짐 방지\n",
    "\n",
    "\n",
    "# 경고 메시지가 안나오게 \n",
    "import warnings\n",
    "warnings.filterwarnings('ignore')"
   ]
  },
  {
   "cell_type": "markdown",
   "metadata": {},
   "source": [
    "### 데이터 불러오기"
   ]
  },
  {
   "cell_type": "code",
   "execution_count": 2,
   "metadata": {
    "scrolled": true
   },
   "outputs": [
    {
     "data": {
      "text/html": [
       "<div>\n",
       "<style scoped>\n",
       "    .dataframe tbody tr th:only-of-type {\n",
       "        vertical-align: middle;\n",
       "    }\n",
       "\n",
       "    .dataframe tbody tr th {\n",
       "        vertical-align: top;\n",
       "    }\n",
       "\n",
       "    .dataframe thead th {\n",
       "        text-align: right;\n",
       "    }\n",
       "</style>\n",
       "<table border=\"1\" class=\"dataframe\">\n",
       "  <thead>\n",
       "    <tr style=\"text-align: right;\">\n",
       "      <th></th>\n",
       "      <th>h12_id</th>\n",
       "      <th>h12_ind</th>\n",
       "      <th>h12_sn</th>\n",
       "      <th>h12_merkey</th>\n",
       "      <th>h_new</th>\n",
       "      <th>h12_cobf</th>\n",
       "      <th>p12_wgl</th>\n",
       "      <th>p12_wsl</th>\n",
       "      <th>p12_wgc</th>\n",
       "      <th>p12_wsc</th>\n",
       "      <th>...</th>\n",
       "      <th>da12_326</th>\n",
       "      <th>da12_327</th>\n",
       "      <th>da12_328</th>\n",
       "      <th>da12_6aq14</th>\n",
       "      <th>da12_6aq15</th>\n",
       "      <th>h12_pers_income1</th>\n",
       "      <th>h12_pers_income2</th>\n",
       "      <th>h12_pers_income3</th>\n",
       "      <th>h12_pers_income4</th>\n",
       "      <th>h12_pers_income5</th>\n",
       "    </tr>\n",
       "  </thead>\n",
       "  <tbody>\n",
       "    <tr>\n",
       "      <th>0</th>\n",
       "      <td>1</td>\n",
       "      <td>1</td>\n",
       "      <td>1</td>\n",
       "      <td>10101</td>\n",
       "      <td>0</td>\n",
       "      <td>NaN</td>\n",
       "      <td>953.482054</td>\n",
       "      <td>0.286943</td>\n",
       "      <td>948.140524</td>\n",
       "      <td>0.285336</td>\n",
       "      <td>...</td>\n",
       "      <td>NaN</td>\n",
       "      <td>NaN</td>\n",
       "      <td>NaN</td>\n",
       "      <td>NaN</td>\n",
       "      <td>NaN</td>\n",
       "      <td>NaN</td>\n",
       "      <td>NaN</td>\n",
       "      <td>NaN</td>\n",
       "      <td>0</td>\n",
       "      <td>NaN</td>\n",
       "    </tr>\n",
       "    <tr>\n",
       "      <th>1</th>\n",
       "      <td>2</td>\n",
       "      <td>1</td>\n",
       "      <td>1</td>\n",
       "      <td>20101</td>\n",
       "      <td>0</td>\n",
       "      <td>NaN</td>\n",
       "      <td>1238.891352</td>\n",
       "      <td>0.372835</td>\n",
       "      <td>1238.891352</td>\n",
       "      <td>0.372835</td>\n",
       "      <td>...</td>\n",
       "      <td>NaN</td>\n",
       "      <td>NaN</td>\n",
       "      <td>NaN</td>\n",
       "      <td>NaN</td>\n",
       "      <td>NaN</td>\n",
       "      <td>NaN</td>\n",
       "      <td>NaN</td>\n",
       "      <td>NaN</td>\n",
       "      <td>0</td>\n",
       "      <td>NaN</td>\n",
       "    </tr>\n",
       "    <tr>\n",
       "      <th>2</th>\n",
       "      <td>3</td>\n",
       "      <td>1</td>\n",
       "      <td>1</td>\n",
       "      <td>30101</td>\n",
       "      <td>0</td>\n",
       "      <td>NaN</td>\n",
       "      <td>1282.051947</td>\n",
       "      <td>0.385824</td>\n",
       "      <td>1282.051947</td>\n",
       "      <td>0.385824</td>\n",
       "      <td>...</td>\n",
       "      <td>NaN</td>\n",
       "      <td>NaN</td>\n",
       "      <td>NaN</td>\n",
       "      <td>NaN</td>\n",
       "      <td>NaN</td>\n",
       "      <td>NaN</td>\n",
       "      <td>NaN</td>\n",
       "      <td>NaN</td>\n",
       "      <td>0</td>\n",
       "      <td>NaN</td>\n",
       "    </tr>\n",
       "    <tr>\n",
       "      <th>3</th>\n",
       "      <td>4</td>\n",
       "      <td>1</td>\n",
       "      <td>1</td>\n",
       "      <td>40101</td>\n",
       "      <td>0</td>\n",
       "      <td>NaN</td>\n",
       "      <td>1066.327201</td>\n",
       "      <td>0.320903</td>\n",
       "      <td>1066.327201</td>\n",
       "      <td>0.320903</td>\n",
       "      <td>...</td>\n",
       "      <td>NaN</td>\n",
       "      <td>NaN</td>\n",
       "      <td>NaN</td>\n",
       "      <td>NaN</td>\n",
       "      <td>NaN</td>\n",
       "      <td>NaN</td>\n",
       "      <td>3418.0</td>\n",
       "      <td>NaN</td>\n",
       "      <td>0</td>\n",
       "      <td>NaN</td>\n",
       "    </tr>\n",
       "    <tr>\n",
       "      <th>4</th>\n",
       "      <td>4</td>\n",
       "      <td>1</td>\n",
       "      <td>1</td>\n",
       "      <td>40101</td>\n",
       "      <td>0</td>\n",
       "      <td>NaN</td>\n",
       "      <td>1390.617192</td>\n",
       "      <td>0.418496</td>\n",
       "      <td>1382.826774</td>\n",
       "      <td>0.416151</td>\n",
       "      <td>...</td>\n",
       "      <td>NaN</td>\n",
       "      <td>NaN</td>\n",
       "      <td>NaN</td>\n",
       "      <td>NaN</td>\n",
       "      <td>NaN</td>\n",
       "      <td>NaN</td>\n",
       "      <td>NaN</td>\n",
       "      <td>NaN</td>\n",
       "      <td>0</td>\n",
       "      <td>NaN</td>\n",
       "    </tr>\n",
       "    <tr>\n",
       "      <th>...</th>\n",
       "      <td>...</td>\n",
       "      <td>...</td>\n",
       "      <td>...</td>\n",
       "      <td>...</td>\n",
       "      <td>...</td>\n",
       "      <td>...</td>\n",
       "      <td>...</td>\n",
       "      <td>...</td>\n",
       "      <td>...</td>\n",
       "      <td>...</td>\n",
       "      <td>...</td>\n",
       "      <td>...</td>\n",
       "      <td>...</td>\n",
       "      <td>...</td>\n",
       "      <td>...</td>\n",
       "      <td>...</td>\n",
       "      <td>...</td>\n",
       "      <td>...</td>\n",
       "      <td>...</td>\n",
       "      <td>...</td>\n",
       "      <td>...</td>\n",
       "    </tr>\n",
       "    <tr>\n",
       "      <th>15417</th>\n",
       "      <td>9800</td>\n",
       "      <td>7</td>\n",
       "      <td>1</td>\n",
       "      <td>98000701</td>\n",
       "      <td>1</td>\n",
       "      <td>NaN</td>\n",
       "      <td>735.488155</td>\n",
       "      <td>0.221339</td>\n",
       "      <td>735.488155</td>\n",
       "      <td>0.221339</td>\n",
       "      <td>...</td>\n",
       "      <td>NaN</td>\n",
       "      <td>NaN</td>\n",
       "      <td>NaN</td>\n",
       "      <td>NaN</td>\n",
       "      <td>NaN</td>\n",
       "      <td>NaN</td>\n",
       "      <td>979.0</td>\n",
       "      <td>NaN</td>\n",
       "      <td>0</td>\n",
       "      <td>NaN</td>\n",
       "    </tr>\n",
       "    <tr>\n",
       "      <th>15418</th>\n",
       "      <td>9800</td>\n",
       "      <td>7</td>\n",
       "      <td>1</td>\n",
       "      <td>98000701</td>\n",
       "      <td>1</td>\n",
       "      <td>NaN</td>\n",
       "      <td>898.395613</td>\n",
       "      <td>0.270365</td>\n",
       "      <td>898.395613</td>\n",
       "      <td>0.270365</td>\n",
       "      <td>...</td>\n",
       "      <td>NaN</td>\n",
       "      <td>NaN</td>\n",
       "      <td>NaN</td>\n",
       "      <td>NaN</td>\n",
       "      <td>NaN</td>\n",
       "      <td>NaN</td>\n",
       "      <td>NaN</td>\n",
       "      <td>NaN</td>\n",
       "      <td>0</td>\n",
       "      <td>NaN</td>\n",
       "    </tr>\n",
       "    <tr>\n",
       "      <th>15419</th>\n",
       "      <td>9800</td>\n",
       "      <td>7</td>\n",
       "      <td>1</td>\n",
       "      <td>98000701</td>\n",
       "      <td>1</td>\n",
       "      <td>NaN</td>\n",
       "      <td>2686.353997</td>\n",
       "      <td>0.808438</td>\n",
       "      <td>2676.190322</td>\n",
       "      <td>0.805379</td>\n",
       "      <td>...</td>\n",
       "      <td>NaN</td>\n",
       "      <td>NaN</td>\n",
       "      <td>NaN</td>\n",
       "      <td>NaN</td>\n",
       "      <td>NaN</td>\n",
       "      <td>NaN</td>\n",
       "      <td>868.0</td>\n",
       "      <td>NaN</td>\n",
       "      <td>0</td>\n",
       "      <td>NaN</td>\n",
       "    </tr>\n",
       "    <tr>\n",
       "      <th>15420</th>\n",
       "      <td>9800</td>\n",
       "      <td>7</td>\n",
       "      <td>1</td>\n",
       "      <td>98000701</td>\n",
       "      <td>1</td>\n",
       "      <td>NaN</td>\n",
       "      <td>841.651153</td>\n",
       "      <td>0.253288</td>\n",
       "      <td>841.651153</td>\n",
       "      <td>0.253288</td>\n",
       "      <td>...</td>\n",
       "      <td>NaN</td>\n",
       "      <td>NaN</td>\n",
       "      <td>NaN</td>\n",
       "      <td>NaN</td>\n",
       "      <td>NaN</td>\n",
       "      <td>NaN</td>\n",
       "      <td>518.0</td>\n",
       "      <td>NaN</td>\n",
       "      <td>0</td>\n",
       "      <td>NaN</td>\n",
       "    </tr>\n",
       "    <tr>\n",
       "      <th>15421</th>\n",
       "      <td>9800</td>\n",
       "      <td>7</td>\n",
       "      <td>1</td>\n",
       "      <td>98000701</td>\n",
       "      <td>1</td>\n",
       "      <td>NaN</td>\n",
       "      <td>643.650245</td>\n",
       "      <td>0.193702</td>\n",
       "      <td>643.650245</td>\n",
       "      <td>0.193702</td>\n",
       "      <td>...</td>\n",
       "      <td>NaN</td>\n",
       "      <td>NaN</td>\n",
       "      <td>NaN</td>\n",
       "      <td>NaN</td>\n",
       "      <td>NaN</td>\n",
       "      <td>NaN</td>\n",
       "      <td>NaN</td>\n",
       "      <td>NaN</td>\n",
       "      <td>0</td>\n",
       "      <td>NaN</td>\n",
       "    </tr>\n",
       "  </tbody>\n",
       "</table>\n",
       "<p>15422 rows × 1191 columns</p>\n",
       "</div>"
      ],
      "text/plain": [
       "       h12_id  h12_ind  h12_sn  h12_merkey  h_new  h12_cobf      p12_wgl  \\\n",
       "0           1        1       1       10101      0       NaN   953.482054   \n",
       "1           2        1       1       20101      0       NaN  1238.891352   \n",
       "2           3        1       1       30101      0       NaN  1282.051947   \n",
       "3           4        1       1       40101      0       NaN  1066.327201   \n",
       "4           4        1       1       40101      0       NaN  1390.617192   \n",
       "...       ...      ...     ...         ...    ...       ...          ...   \n",
       "15417    9800        7       1    98000701      1       NaN   735.488155   \n",
       "15418    9800        7       1    98000701      1       NaN   898.395613   \n",
       "15419    9800        7       1    98000701      1       NaN  2686.353997   \n",
       "15420    9800        7       1    98000701      1       NaN   841.651153   \n",
       "15421    9800        7       1    98000701      1       NaN   643.650245   \n",
       "\n",
       "        p12_wsl      p12_wgc   p12_wsc  ...  da12_326  da12_327  da12_328  \\\n",
       "0      0.286943   948.140524  0.285336  ...       NaN       NaN       NaN   \n",
       "1      0.372835  1238.891352  0.372835  ...       NaN       NaN       NaN   \n",
       "2      0.385824  1282.051947  0.385824  ...       NaN       NaN       NaN   \n",
       "3      0.320903  1066.327201  0.320903  ...       NaN       NaN       NaN   \n",
       "4      0.418496  1382.826774  0.416151  ...       NaN       NaN       NaN   \n",
       "...         ...          ...       ...  ...       ...       ...       ...   \n",
       "15417  0.221339   735.488155  0.221339  ...       NaN       NaN       NaN   \n",
       "15418  0.270365   898.395613  0.270365  ...       NaN       NaN       NaN   \n",
       "15419  0.808438  2676.190322  0.805379  ...       NaN       NaN       NaN   \n",
       "15420  0.253288   841.651153  0.253288  ...       NaN       NaN       NaN   \n",
       "15421  0.193702   643.650245  0.193702  ...       NaN       NaN       NaN   \n",
       "\n",
       "       da12_6aq14  da12_6aq15  h12_pers_income1  h12_pers_income2  \\\n",
       "0             NaN         NaN               NaN               NaN   \n",
       "1             NaN         NaN               NaN               NaN   \n",
       "2             NaN         NaN               NaN               NaN   \n",
       "3             NaN         NaN               NaN            3418.0   \n",
       "4             NaN         NaN               NaN               NaN   \n",
       "...           ...         ...               ...               ...   \n",
       "15417         NaN         NaN               NaN             979.0   \n",
       "15418         NaN         NaN               NaN               NaN   \n",
       "15419         NaN         NaN               NaN             868.0   \n",
       "15420         NaN         NaN               NaN             518.0   \n",
       "15421         NaN         NaN               NaN               NaN   \n",
       "\n",
       "       h12_pers_income3  h12_pers_income4  h12_pers_income5  \n",
       "0                   NaN                 0               NaN  \n",
       "1                   NaN                 0               NaN  \n",
       "2                   NaN                 0               NaN  \n",
       "3                   NaN                 0               NaN  \n",
       "4                   NaN                 0               NaN  \n",
       "...                 ...               ...               ...  \n",
       "15417               NaN                 0               NaN  \n",
       "15418               NaN                 0               NaN  \n",
       "15419               NaN                 0               NaN  \n",
       "15420               NaN                 0               NaN  \n",
       "15421               NaN                 0               NaN  \n",
       "\n",
       "[15422 rows x 1191 columns]"
      ]
     },
     "execution_count": 2,
     "metadata": {},
     "output_type": "execute_result"
    }
   ],
   "source": [
    "df = pd.read_excel('../dataset/dataset2017.xlsx')\n",
    "df"
   ]
  },
  {
   "cell_type": "code",
   "execution_count": 12,
   "metadata": {},
   "outputs": [],
   "source": [
    "# df['h12_g3 ','h12_g4','h12_g10','h12_g11','h12_eco9','p1202_8aq1','h12_reg7']\n",
    "df1 = df[['h12_g3','h12_g4','h12_g10','h12_g11','h12_eco9','p1202_8aq1','h12_reg7']]\n",
    "df1.columns=['성별','태어난 년도','혼인상태','종교','직종','월평균임금','지역']"
   ]
  },
  {
   "cell_type": "code",
   "execution_count": 13,
   "metadata": {},
   "outputs": [
    {
     "data": {
      "text/html": [
       "<div>\n",
       "<style scoped>\n",
       "    .dataframe tbody tr th:only-of-type {\n",
       "        vertical-align: middle;\n",
       "    }\n",
       "\n",
       "    .dataframe tbody tr th {\n",
       "        vertical-align: top;\n",
       "    }\n",
       "\n",
       "    .dataframe thead th {\n",
       "        text-align: right;\n",
       "    }\n",
       "</style>\n",
       "<table border=\"1\" class=\"dataframe\">\n",
       "  <thead>\n",
       "    <tr style=\"text-align: right;\">\n",
       "      <th></th>\n",
       "      <th>성별</th>\n",
       "      <th>태어난 년도</th>\n",
       "      <th>혼인상태</th>\n",
       "      <th>종교</th>\n",
       "      <th>직종</th>\n",
       "      <th>월평균임금</th>\n",
       "      <th>지역</th>\n",
       "    </tr>\n",
       "  </thead>\n",
       "  <tbody>\n",
       "    <tr>\n",
       "      <th>0</th>\n",
       "      <td>2</td>\n",
       "      <td>1936</td>\n",
       "      <td>2</td>\n",
       "      <td>2</td>\n",
       "      <td>NaN</td>\n",
       "      <td>NaN</td>\n",
       "      <td>1</td>\n",
       "    </tr>\n",
       "    <tr>\n",
       "      <th>1</th>\n",
       "      <td>2</td>\n",
       "      <td>1945</td>\n",
       "      <td>2</td>\n",
       "      <td>2</td>\n",
       "      <td>NaN</td>\n",
       "      <td>NaN</td>\n",
       "      <td>1</td>\n",
       "    </tr>\n",
       "    <tr>\n",
       "      <th>2</th>\n",
       "      <td>1</td>\n",
       "      <td>1948</td>\n",
       "      <td>2</td>\n",
       "      <td>2</td>\n",
       "      <td>NaN</td>\n",
       "      <td>NaN</td>\n",
       "      <td>1</td>\n",
       "    </tr>\n",
       "    <tr>\n",
       "      <th>3</th>\n",
       "      <td>1</td>\n",
       "      <td>1942</td>\n",
       "      <td>3</td>\n",
       "      <td>1</td>\n",
       "      <td>762.0</td>\n",
       "      <td>108.9</td>\n",
       "      <td>1</td>\n",
       "    </tr>\n",
       "    <tr>\n",
       "      <th>4</th>\n",
       "      <td>2</td>\n",
       "      <td>1923</td>\n",
       "      <td>2</td>\n",
       "      <td>1</td>\n",
       "      <td>NaN</td>\n",
       "      <td>NaN</td>\n",
       "      <td>1</td>\n",
       "    </tr>\n",
       "    <tr>\n",
       "      <th>...</th>\n",
       "      <td>...</td>\n",
       "      <td>...</td>\n",
       "      <td>...</td>\n",
       "      <td>...</td>\n",
       "      <td>...</td>\n",
       "      <td>...</td>\n",
       "      <td>...</td>\n",
       "    </tr>\n",
       "    <tr>\n",
       "      <th>15417</th>\n",
       "      <td>2</td>\n",
       "      <td>1967</td>\n",
       "      <td>1</td>\n",
       "      <td>1</td>\n",
       "      <td>952.0</td>\n",
       "      <td>NaN</td>\n",
       "      <td>5</td>\n",
       "    </tr>\n",
       "    <tr>\n",
       "      <th>15418</th>\n",
       "      <td>2</td>\n",
       "      <td>1992</td>\n",
       "      <td>5</td>\n",
       "      <td>1</td>\n",
       "      <td>NaN</td>\n",
       "      <td>NaN</td>\n",
       "      <td>5</td>\n",
       "    </tr>\n",
       "    <tr>\n",
       "      <th>15419</th>\n",
       "      <td>1</td>\n",
       "      <td>1995</td>\n",
       "      <td>5</td>\n",
       "      <td>1</td>\n",
       "      <td>521.0</td>\n",
       "      <td>72.0</td>\n",
       "      <td>5</td>\n",
       "    </tr>\n",
       "    <tr>\n",
       "      <th>15420</th>\n",
       "      <td>2</td>\n",
       "      <td>1998</td>\n",
       "      <td>5</td>\n",
       "      <td>1</td>\n",
       "      <td>432.0</td>\n",
       "      <td>NaN</td>\n",
       "      <td>5</td>\n",
       "    </tr>\n",
       "    <tr>\n",
       "      <th>15421</th>\n",
       "      <td>1</td>\n",
       "      <td>2001</td>\n",
       "      <td>0</td>\n",
       "      <td>1</td>\n",
       "      <td>NaN</td>\n",
       "      <td>NaN</td>\n",
       "      <td>5</td>\n",
       "    </tr>\n",
       "  </tbody>\n",
       "</table>\n",
       "<p>15422 rows × 7 columns</p>\n",
       "</div>"
      ],
      "text/plain": [
       "       성별  태어난 년도  혼인상태  종교     직종  월평균임금  지역\n",
       "0       2    1936     2   2    NaN    NaN   1\n",
       "1       2    1945     2   2    NaN    NaN   1\n",
       "2       1    1948     2   2    NaN    NaN   1\n",
       "3       1    1942     3   1  762.0  108.9   1\n",
       "4       2    1923     2   1    NaN    NaN   1\n",
       "...    ..     ...   ...  ..    ...    ...  ..\n",
       "15417   2    1967     1   1  952.0    NaN   5\n",
       "15418   2    1992     5   1    NaN    NaN   5\n",
       "15419   1    1995     5   1  521.0   72.0   5\n",
       "15420   2    1998     5   1  432.0    NaN   5\n",
       "15421   1    2001     0   1    NaN    NaN   5\n",
       "\n",
       "[15422 rows x 7 columns]"
      ]
     },
     "execution_count": 13,
     "metadata": {},
     "output_type": "execute_result"
    }
   ],
   "source": [
    "df1"
   ]
  },
  {
   "cell_type": "markdown",
   "metadata": {},
   "source": [
    "### 조사 대상에서 남녀 성별 비를 파악한다.\n",
    "- 1:남자, 2:여자, 9:무응답"
   ]
  },
  {
   "cell_type": "code",
   "execution_count": 14,
   "metadata": {},
   "outputs": [],
   "source": [
    "# 남자 인원수\n",
    "man = df1[df1['성별'] == 1]\n",
    "man_count = df1[df1['성별'] == 1]['성별'].count()\n",
    "\n",
    "# 여자 인원수\n",
    "woman = df1[df1['성별'] == 2]\n",
    "woman_count = df1[df1['성별'] == 2]['성별'].count()\n",
    "\n",
    "# 무응답 수\n",
    "count = df1[df1['성별'] == 9]['성별'].count()"
   ]
  },
  {
   "cell_type": "code",
   "execution_count": 15,
   "metadata": {
    "scrolled": true
   },
   "outputs": [
    {
     "data": {
      "text/plain": [
       "15422"
      ]
     },
     "execution_count": 15,
     "metadata": {},
     "output_type": "execute_result"
    }
   ],
   "source": [
    "man_count + woman_count"
   ]
  },
  {
   "cell_type": "code",
   "execution_count": 16,
   "metadata": {},
   "outputs": [
    {
     "data": {
      "image/png": "[encoded data removed]",
      "text/plain": [
       "<Figure size 720x576 with 1 Axes>"
      ]
     },
     "metadata": {},
     "output_type": "display_data"
    }
   ],
   "source": [
    "ratio =[man_count, woman_count, count]\n",
    "labels = ['남성','여성','무응답']\n",
    "\n",
    "plt.figure(figsize=[10,8])\n",
    "plt.pie(ratio, labels=labels, autopct='%.1f%%')\n",
    "plt.show()"
   ]
  },
  {
   "cell_type": "markdown",
   "metadata": {},
   "source": [
    "### 성별에 따른 평균 월급 차이 분석"
   ]
  },
  {
   "cell_type": "code",
   "execution_count": 17,
   "metadata": {
    "scrolled": true
   },
   "outputs": [
    {
     "data": {
      "text/plain": [
       "성별            0\n",
       "태어난 년도        0\n",
       "혼인상태          0\n",
       "종교            0\n",
       "직종         8291\n",
       "월평균임금     10915\n",
       "지역            0\n",
       "dtype: int64"
      ]
     },
     "execution_count": 17,
     "metadata": {},
     "output_type": "execute_result"
    }
   ],
   "source": [
    "df1.isna().sum()"
   ]
  },
  {
   "cell_type": "code",
   "execution_count": 18,
   "metadata": {},
   "outputs": [],
   "source": [
    "# 월평균임금 결측치 제거\n",
    "\n",
    "man_salary = man.dropna(subset=['월평균임금'])\n",
    "woman_salary = woman.dropna(subset=['월평균임금'])"
   ]
  },
  {
   "cell_type": "code",
   "execution_count": 29,
   "metadata": {},
   "outputs": [],
   "source": [
    "# 성별 월급\n",
    "\n",
    "man_salary_mean = round(man_salary['월평균임금'].mean(),2)\n",
    "woman_salary_mean = round(woman_salary['월평균임금'].mean(),2)"
   ]
  },
  {
   "cell_type": "code",
   "execution_count": 31,
   "metadata": {
    "scrolled": true
   },
   "outputs": [
    {
     "data": {
      "image/png": "[encoded data removed]",
      "text/plain": [
       "<Figure size 1440x720 with 1 Axes>"
      ]
     },
     "metadata": {
      "needs_background": "light"
     },
     "output_type": "display_data"
    }
   ],
   "source": [
    "# 시각화\n",
    "\n",
    "label = ['남성','여성']\n",
    "\n",
    "plt.bar(label[0],man_salary_mean)\n",
    "plt.bar(label[1],woman_salary_mean)\n",
    "\n",
    "plt.show()"
   ]
  },
  {
   "cell_type": "code",
   "execution_count": 34,
   "metadata": {},
   "outputs": [
    {
     "data": {
      "text/plain": [
       "157.99"
      ]
     },
     "execution_count": 34,
     "metadata": {},
     "output_type": "execute_result"
    }
   ],
   "source": [
    "round(man_salary_mean - woman_salary_mean,2)"
   ]
  },
  {
   "cell_type": "markdown",
   "metadata": {},
   "source": [
    "### 종교 유무에 따른 이혼비율"
   ]
  },
  {
   "cell_type": "code",
   "execution_count": 43,
   "metadata": {},
   "outputs": [
    {
     "data": {
      "text/plain": [
       "0"
      ]
     },
     "execution_count": 43,
     "metadata": {},
     "output_type": "execute_result"
    }
   ],
   "source": [
    "# 결측치 확인\n",
    "df1['종교'].isna().sum()"
   ]
  },
  {
   "cell_type": "code",
   "execution_count": 44,
   "metadata": {},
   "outputs": [
    {
     "data": {
      "text/plain": [
       "0"
      ]
     },
     "execution_count": 44,
     "metadata": {},
     "output_type": "execute_result"
    }
   ],
   "source": [
    "df1['혼인상태'].isna().sum()"
   ]
  },
  {
   "cell_type": "code",
   "execution_count": 41,
   "metadata": {},
   "outputs": [],
   "source": [
    "# 종교 유무 나누기\n",
    "religion = df1[df1['종교']==1]\n",
    "no_religion = df1[df1['종교']==2]"
   ]
  },
  {
   "cell_type": "code",
   "execution_count": 68,
   "metadata": {},
   "outputs": [
    {
     "name": "stdout",
     "output_type": "stream",
     "text": [
      "7300\n",
      "315\n"
     ]
    }
   ],
   "source": [
    "religion_ = religion['혼인상태'].count()\n",
    "religion_3 = religion[religion['혼인상태']==3]['혼인상태'].count()\n",
    "\n",
    "print(religion_)\n",
    "print(religion_3)"
   ]
  },
  {
   "cell_type": "code",
   "execution_count": 65,
   "metadata": {},
   "outputs": [
    {
     "name": "stdout",
     "output_type": "stream",
     "text": [
      "8122\n",
      "382\n"
     ]
    }
   ],
   "source": [
    "no_religion_ = no_religion['혼인상태'].count()\n",
    "no_religion_3 = no_religion[no_religion['혼인상태']==3]['혼인상태'].count()\n",
    "print(no_religion_)\n",
    "print(no_religion_3)"
   ]
  },
  {
   "cell_type": "code",
   "execution_count": 70,
   "metadata": {},
   "outputs": [
    {
     "data": {
      "image/png": "[encoded data removed]",
      "text/plain": [
       "<Figure size 1440x720 with 1 Axes>"
      ]
     },
     "metadata": {
      "needs_background": "light"
     },
     "output_type": "display_data"
    }
   ],
   "source": [
    "label = ['종교 유','종교 무']\n",
    "\n",
    "plt.bar(label[0],religion_/religion_3)\n",
    "plt.bar(label[1],no_religion_/no_religion_3)\n",
    "\n",
    "plt.show()"
   ]
  },
  {
   "cell_type": "code",
   "execution_count": null,
   "metadata": {},
   "outputs": [],
   "source": []
  }
 ],
 "metadata": {
  "kernelspec": {
   "display_name": "Python 3",
   "language": "python",
   "name": "python3"
  },
  "language_info": {
   "codemirror_mode": {
    "name": "ipython",
    "version": 3
   },
   "file_extension": ".py",
   "mimetype": "text/x-python",
   "name": "python",
   "nbconvert_exporter": "python",
   "pygments_lexer": "ipython3",
   "version": "3.8.5"
  }
 },
 "nbformat": 4,
 "nbformat_minor": 4
}
