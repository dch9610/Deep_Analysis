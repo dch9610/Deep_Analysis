{
 "cells": [
  {
   "cell_type": "code",
   "execution_count": 1,
   "metadata": {},
   "outputs": [],
   "source": [
    "# 기본\n",
    "import pandas as pd\n",
    "import numpy as np\n",
    "import matplotlib.pyplot as plt\n",
    "import seaborn as sns\n",
    "\n",
    "# KFold (교차 검증을 사용하기 위해)\n",
    "from sklearn.model_selection import KFold\n",
    "from sklearn.model_selection import StratifiedKFold\n",
    "\n",
    "# 교차검증 함수\n",
    "from sklearn.model_selection import cross_val_score\n",
    "from sklearn.model_selection import cross_validate\n",
    "\n",
    "# 데이터 전처리\n",
    "from sklearn.preprocessing import LabelEncoder\n",
    "from sklearn.preprocessing import StandardScaler\n",
    "\n",
    "# 하이퍼 파라미터 튜닝\n",
    "from sklearn.model_selection import train_test_split\n",
    "from sklearn.model_selection import GridSearchCV\n",
    "\n",
    "# 평가 함수\n",
    "from sklearn.metrics import accuracy_score\n",
    "\n",
    "# 머신러닝 알고리즘 - 분류\n",
    "from sklearn.neighbors import KNeighborsClassifier\n",
    "from sklearn.linear_model import LogisticRegression\n",
    "from sklearn.svm import SVC\n",
    "from sklearn.tree import DecisionTreeClassifier\n",
    "from sklearn.ensemble import RandomForestClassifier\n",
    "from sklearn.ensemble import GradientBoostingClassifier\n",
    "from xgboost import XGBClassifier\n",
    "\n",
    "# 머신러닝 알고리즘 - 회귀\n",
    "from sklearn.neighbors import KNeighborsRegressor\n",
    "from sklearn.linear_model import LinearRegression\n",
    "from sklearn.linear_model import Ridge\n",
    "from sklearn.linear_model import Lasso\n",
    "from sklearn.linear_model import ElasticNet\n",
    "from sklearn.svm import SVR\n",
    "from sklearn.tree import DecisionTreeRegressor\n",
    "from sklearn.ensemble import RandomForestRegressor\n",
    "from sklearn.ensemble import GradientBoostingRegressor\n",
    "from xgboost import XGBRFRegressor\n",
    "\n",
    "# 그래프 설정\n",
    "plt.rcParams['font.family'] = 'Malgun Gothic'   # 윈도우용\n",
    "# plt.rcParams['font.family'] = 'AppleGothic'   # 맥용\n",
    "plt.rcParams['font.size'] = 12                  # 폰트 크기\n",
    "plt.rcParams['figure.figsize'] = 10,8          # 그래프 크기\n",
    "plt.rcParams['axes.unicode_minus'] = False     # - 기호 깨짐 방지\n",
    "\n",
    "\n",
    "# 경고 메시지가 안나오게 \n",
    "import warnings\n",
    "warnings.filterwarnings('ignore')"
   ]
  },
  {
   "cell_type": "markdown",
   "metadata": {},
   "source": [
    "평균임금빼고 전부 결측치는 모름/무응답으로 \n",
    "대체\n",
    "\n",
    "평균임금을 결과 데이터로\n",
    "평균임금의 결측치가 아닌 사람의 데이터를 예측해서 ..? 에?"
   ]
  },
  {
   "cell_type": "markdown",
   "metadata": {},
   "source": [
    "### 데이터 불러오기"
   ]
  },
  {
   "cell_type": "code",
   "execution_count": 2,
   "metadata": {
    "scrolled": false
   },
   "outputs": [
    {
     "data": {
      "text/html": [
       "<div>\n",
       "<style scoped>\n",
       "    .dataframe tbody tr th:only-of-type {\n",
       "        vertical-align: middle;\n",
       "    }\n",
       "\n",
       "    .dataframe tbody tr th {\n",
       "        vertical-align: top;\n",
       "    }\n",
       "\n",
       "    .dataframe thead th {\n",
       "        text-align: right;\n",
       "    }\n",
       "</style>\n",
       "<table border=\"1\" class=\"dataframe\">\n",
       "  <thead>\n",
       "    <tr style=\"text-align: right;\">\n",
       "      <th></th>\n",
       "      <th>성별</th>\n",
       "      <th>출생년도</th>\n",
       "      <th>혼인상태</th>\n",
       "      <th>종교유무</th>\n",
       "      <th>직종</th>\n",
       "      <th>평균임금</th>\n",
       "      <th>지역</th>\n",
       "    </tr>\n",
       "  </thead>\n",
       "  <tbody>\n",
       "    <tr>\n",
       "      <th>0</th>\n",
       "      <td>2</td>\n",
       "      <td>1936</td>\n",
       "      <td>2</td>\n",
       "      <td>2</td>\n",
       "      <td>NaN</td>\n",
       "      <td>NaN</td>\n",
       "      <td>1</td>\n",
       "    </tr>\n",
       "    <tr>\n",
       "      <th>1</th>\n",
       "      <td>2</td>\n",
       "      <td>1945</td>\n",
       "      <td>2</td>\n",
       "      <td>2</td>\n",
       "      <td>NaN</td>\n",
       "      <td>NaN</td>\n",
       "      <td>1</td>\n",
       "    </tr>\n",
       "    <tr>\n",
       "      <th>2</th>\n",
       "      <td>1</td>\n",
       "      <td>1948</td>\n",
       "      <td>2</td>\n",
       "      <td>2</td>\n",
       "      <td>NaN</td>\n",
       "      <td>NaN</td>\n",
       "      <td>1</td>\n",
       "    </tr>\n",
       "    <tr>\n",
       "      <th>3</th>\n",
       "      <td>1</td>\n",
       "      <td>1942</td>\n",
       "      <td>3</td>\n",
       "      <td>1</td>\n",
       "      <td>762.0</td>\n",
       "      <td>108.9</td>\n",
       "      <td>1</td>\n",
       "    </tr>\n",
       "    <tr>\n",
       "      <th>4</th>\n",
       "      <td>2</td>\n",
       "      <td>1923</td>\n",
       "      <td>2</td>\n",
       "      <td>1</td>\n",
       "      <td>NaN</td>\n",
       "      <td>NaN</td>\n",
       "      <td>1</td>\n",
       "    </tr>\n",
       "    <tr>\n",
       "      <th>...</th>\n",
       "      <td>...</td>\n",
       "      <td>...</td>\n",
       "      <td>...</td>\n",
       "      <td>...</td>\n",
       "      <td>...</td>\n",
       "      <td>...</td>\n",
       "      <td>...</td>\n",
       "    </tr>\n",
       "    <tr>\n",
       "      <th>15417</th>\n",
       "      <td>2</td>\n",
       "      <td>1967</td>\n",
       "      <td>1</td>\n",
       "      <td>1</td>\n",
       "      <td>952.0</td>\n",
       "      <td>NaN</td>\n",
       "      <td>5</td>\n",
       "    </tr>\n",
       "    <tr>\n",
       "      <th>15418</th>\n",
       "      <td>2</td>\n",
       "      <td>1992</td>\n",
       "      <td>5</td>\n",
       "      <td>1</td>\n",
       "      <td>NaN</td>\n",
       "      <td>NaN</td>\n",
       "      <td>5</td>\n",
       "    </tr>\n",
       "    <tr>\n",
       "      <th>15419</th>\n",
       "      <td>1</td>\n",
       "      <td>1995</td>\n",
       "      <td>5</td>\n",
       "      <td>1</td>\n",
       "      <td>521.0</td>\n",
       "      <td>72.0</td>\n",
       "      <td>5</td>\n",
       "    </tr>\n",
       "    <tr>\n",
       "      <th>15420</th>\n",
       "      <td>2</td>\n",
       "      <td>1998</td>\n",
       "      <td>5</td>\n",
       "      <td>1</td>\n",
       "      <td>432.0</td>\n",
       "      <td>NaN</td>\n",
       "      <td>5</td>\n",
       "    </tr>\n",
       "    <tr>\n",
       "      <th>15421</th>\n",
       "      <td>1</td>\n",
       "      <td>2001</td>\n",
       "      <td>0</td>\n",
       "      <td>1</td>\n",
       "      <td>NaN</td>\n",
       "      <td>NaN</td>\n",
       "      <td>5</td>\n",
       "    </tr>\n",
       "  </tbody>\n",
       "</table>\n",
       "<p>15422 rows × 7 columns</p>\n",
       "</div>"
      ],
      "text/plain": [
       "       성별  출생년도  혼인상태  종교유무     직종   평균임금  지역\n",
       "0       2  1936     2     2    NaN    NaN   1\n",
       "1       2  1945     2     2    NaN    NaN   1\n",
       "2       1  1948     2     2    NaN    NaN   1\n",
       "3       1  1942     3     1  762.0  108.9   1\n",
       "4       2  1923     2     1    NaN    NaN   1\n",
       "...    ..   ...   ...   ...    ...    ...  ..\n",
       "15417   2  1967     1     1  952.0    NaN   5\n",
       "15418   2  1992     5     1    NaN    NaN   5\n",
       "15419   1  1995     5     1  521.0   72.0   5\n",
       "15420   2  1998     5     1  432.0    NaN   5\n",
       "15421   1  2001     0     1    NaN    NaN   5\n",
       "\n",
       "[15422 rows x 7 columns]"
      ]
     },
     "execution_count": 2,
     "metadata": {},
     "output_type": "execute_result"
    }
   ],
   "source": [
    "df = pd.read_csv('df_all.csv')\n",
    "df.drop('Unnamed: 0',axis=1,inplace=True)\n",
    "df"
   ]
  },
  {
   "cell_type": "markdown",
   "metadata": {},
   "source": [
    "### 결측치 확인"
   ]
  },
  {
   "cell_type": "code",
   "execution_count": 3,
   "metadata": {},
   "outputs": [
    {
     "data": {
      "text/plain": [
       "성별          0\n",
       "출생년도        0\n",
       "혼인상태        0\n",
       "종교유무        0\n",
       "직종       8291\n",
       "평균임금    10915\n",
       "지역          0\n",
       "dtype: int64"
      ]
     },
     "execution_count": 3,
     "metadata": {},
     "output_type": "execute_result"
    }
   ],
   "source": [
    "df.isna().sum()"
   ]
  },
  {
   "cell_type": "code",
   "execution_count": 4,
   "metadata": {
    "scrolled": true
   },
   "outputs": [],
   "source": [
    "# 직종 결측치 9999(모름/무응답)로 채우기\n",
    "df['직종'].fillna(9999,inplace=True)"
   ]
  },
  {
   "cell_type": "markdown",
   "metadata": {},
   "source": [
    "### 학습할 데이터 전처리\n",
    "- 1. 평균임금이 Nan인 데이터 제거후 학습\n",
    "- 2. 모두 포함하여 학습 (Nan값이 존재하여 학습이 안됨)"
   ]
  },
  {
   "cell_type": "markdown",
   "metadata": {},
   "source": [
    "#### 1. 평균임금이 Nan인 데이터 제거후 학습"
   ]
  },
  {
   "cell_type": "code",
   "execution_count": 5,
   "metadata": {},
   "outputs": [
    {
     "data": {
      "text/html": [
       "<div>\n",
       "<style scoped>\n",
       "    .dataframe tbody tr th:only-of-type {\n",
       "        vertical-align: middle;\n",
       "    }\n",
       "\n",
       "    .dataframe tbody tr th {\n",
       "        vertical-align: top;\n",
       "    }\n",
       "\n",
       "    .dataframe thead th {\n",
       "        text-align: right;\n",
       "    }\n",
       "</style>\n",
       "<table border=\"1\" class=\"dataframe\">\n",
       "  <thead>\n",
       "    <tr style=\"text-align: right;\">\n",
       "      <th></th>\n",
       "      <th>성별</th>\n",
       "      <th>출생년도</th>\n",
       "      <th>혼인상태</th>\n",
       "      <th>종교유무</th>\n",
       "      <th>직종</th>\n",
       "      <th>평균임금</th>\n",
       "      <th>지역</th>\n",
       "    </tr>\n",
       "  </thead>\n",
       "  <tbody>\n",
       "    <tr>\n",
       "      <th>0</th>\n",
       "      <td>2</td>\n",
       "      <td>1936</td>\n",
       "      <td>2</td>\n",
       "      <td>2</td>\n",
       "      <td>9999.0</td>\n",
       "      <td>NaN</td>\n",
       "      <td>1</td>\n",
       "    </tr>\n",
       "    <tr>\n",
       "      <th>1</th>\n",
       "      <td>2</td>\n",
       "      <td>1945</td>\n",
       "      <td>2</td>\n",
       "      <td>2</td>\n",
       "      <td>9999.0</td>\n",
       "      <td>NaN</td>\n",
       "      <td>1</td>\n",
       "    </tr>\n",
       "    <tr>\n",
       "      <th>2</th>\n",
       "      <td>1</td>\n",
       "      <td>1948</td>\n",
       "      <td>2</td>\n",
       "      <td>2</td>\n",
       "      <td>9999.0</td>\n",
       "      <td>NaN</td>\n",
       "      <td>1</td>\n",
       "    </tr>\n",
       "    <tr>\n",
       "      <th>3</th>\n",
       "      <td>1</td>\n",
       "      <td>1942</td>\n",
       "      <td>3</td>\n",
       "      <td>1</td>\n",
       "      <td>762.0</td>\n",
       "      <td>108.9</td>\n",
       "      <td>1</td>\n",
       "    </tr>\n",
       "    <tr>\n",
       "      <th>4</th>\n",
       "      <td>2</td>\n",
       "      <td>1923</td>\n",
       "      <td>2</td>\n",
       "      <td>1</td>\n",
       "      <td>9999.0</td>\n",
       "      <td>NaN</td>\n",
       "      <td>1</td>\n",
       "    </tr>\n",
       "  </tbody>\n",
       "</table>\n",
       "</div>"
      ],
      "text/plain": [
       "   성별  출생년도  혼인상태  종교유무      직종   평균임금  지역\n",
       "0   2  1936     2     2  9999.0    NaN   1\n",
       "1   2  1945     2     2  9999.0    NaN   1\n",
       "2   1  1948     2     2  9999.0    NaN   1\n",
       "3   1  1942     3     1   762.0  108.9   1\n",
       "4   2  1923     2     1  9999.0    NaN   1"
      ]
     },
     "execution_count": 5,
     "metadata": {},
     "output_type": "execute_result"
    }
   ],
   "source": [
    "df_1 = df.copy()\n",
    "df_1.head()"
   ]
  },
  {
   "cell_type": "code",
   "execution_count": 6,
   "metadata": {},
   "outputs": [],
   "source": [
    "df_1.dropna(inplace=True)"
   ]
  },
  {
   "cell_type": "code",
   "execution_count": 7,
   "metadata": {},
   "outputs": [],
   "source": [
    "x_data = df_1.drop('평균임금', axis=1)\n",
    "y_data = df_1['평균임금']"
   ]
  },
  {
   "cell_type": "code",
   "execution_count": 8,
   "metadata": {},
   "outputs": [],
   "source": [
    "# 데이터 나누기\n",
    "x_train, x_test, y_train, y_test=train_test_split(x_data, y_data, test_size=0.2, random_state=1)"
   ]
  },
  {
   "cell_type": "code",
   "execution_count": 9,
   "metadata": {},
   "outputs": [],
   "source": [
    "fold1=KFold(n_splits=10, shuffle=True, random_state=1)"
   ]
  },
  {
   "cell_type": "markdown",
   "metadata": {},
   "source": [
    "#### KNN"
   ]
  },
  {
   "cell_type": "code",
   "execution_count": 10,
   "metadata": {},
   "outputs": [
    {
     "name": "stdout",
     "output_type": "stream",
     "text": [
      "최적의 하이퍼 파라미터 : {'n_neighbors': 8}\n",
      "최적의 모델 평균 성능 : 0.4171210594783825\n"
     ]
    }
   ],
   "source": [
    "params ={\n",
    "    'n_neighbors' : [1,2,3,4,5,6,7,8,9,10]\n",
    "}\n",
    "\n",
    "model1 = KNeighborsRegressor()\n",
    "grid1 = GridSearchCV(model1, param_grid=params, scoring='r2', cv=fold1)\n",
    "grid1.fit(x_train,y_train)\n",
    "print(f'최적의 하이퍼 파라미터 : {grid1.best_params_}')\n",
    "print(f'최적의 모델 평균 성능 : {grid1.best_score_}') # 정확도는 아님 (1에 가까울수록 좋음)"
   ]
  },
  {
   "cell_type": "code",
   "execution_count": 11,
   "metadata": {},
   "outputs": [],
   "source": [
    "best1 = grid1.best_estimator_"
   ]
  },
  {
   "cell_type": "code",
   "execution_count": 12,
   "metadata": {},
   "outputs": [
    {
     "name": "stdout",
     "output_type": "stream",
     "text": [
      "KNeighborsRegressor(algorithm='auto', leaf_size=30, metric='minkowski',\n",
      "                    metric_params=None, n_jobs=None, n_neighbors=8, p=2,\n",
      "                    weights='uniform')\n"
     ]
    }
   ],
   "source": [
    "print(best1)"
   ]
  },
  {
   "cell_type": "code",
   "execution_count": 13,
   "metadata": {},
   "outputs": [
    {
     "name": "stdout",
     "output_type": "stream",
     "text": [
      "0.4171210594783825\n"
     ]
    }
   ],
   "source": [
    "# 교차 검증\n",
    "r1 = cross_val_score(best1, x_train,y_train, scoring='r2', cv=fold1)\n",
    "print(r1.mean())"
   ]
  },
  {
   "cell_type": "code",
   "execution_count": 14,
   "metadata": {
    "scrolled": true
   },
   "outputs": [
    {
     "data": {
      "text/plain": [
       "KNeighborsRegressor(algorithm='auto', leaf_size=30, metric='minkowski',\n",
       "                    metric_params=None, n_jobs=None, n_neighbors=8, p=2,\n",
       "                    weights='uniform')"
      ]
     },
     "execution_count": 14,
     "metadata": {},
     "output_type": "execute_result"
    }
   ],
   "source": [
    "# 모델에 학습\n",
    "best1.fit(x_train, y_train)"
   ]
  },
  {
   "cell_type": "code",
   "execution_count": 15,
   "metadata": {},
   "outputs": [
    {
     "data": {
      "text/plain": [
       "array([ 40.75   , 109.475  , 345.5    , 132.0125 , 559.725  , 333.25   ,\n",
       "       354.4125 , 417.25   , 357.9625 , 305.     , 420.     ,  73.75   ,\n",
       "       183.5    , 269.5    , 102.375  , 490.875  , 134.75   ,  82.375  ,\n",
       "       330.     , 264.375  , 173.375  , 238.375  , 135.375  , 441.25   ,\n",
       "       216.5    , 129.875  , 143.25   , 345.5    , 528.7    , 457.125  ,\n",
       "       175.0875 , 223.25   , 189.875  ,  94.625  , 162.125  , 119.35   ,\n",
       "       139.875  , 448.125  , 123.25   , 372.125  , 168.25   , 409.125  ,\n",
       "       109.475  , 393.     , 177.25   , 183.     , 151.85   , 267.125  ,\n",
       "       322.25   ,  21.25   , 459.75   , 444.875  , 416.0875 , 449.875  ,\n",
       "       546.7875 , 171.875  , 371.     , 523.6625 , 136.6875 , 128.3    ,\n",
       "       152.     ,  71.     , 482.975  ,  93.125  , 165.     , 285.875  ,\n",
       "       408.4125 ,  82.25   , 244.575  , 354.25   , 162.125  , 446.25   ,\n",
       "       403.625  , 304.875  , 113.625  , 316.2875 , 196.4125 , 491.375  ,\n",
       "       154.75   , 223.45   , 158.125  , 561.1375 , 297.875  , 151.375  ,\n",
       "       144.675  , 199.875  , 351.875  ,  79.125  , 139.3125 , 158.375  ,\n",
       "        67.25   , 146.625  , 256.     , 478.1    , 108.375  , 115.125  ,\n",
       "       233.875  , 210.125  , 367.3125 , 151.25   , 195.25   , 157.4375 ,\n",
       "       234.125  , 188.25   ,  20.     , 353.     , 154.625  , 215.     ,\n",
       "       121.     , 168.125  , 156.375  , 128.75   ,  60.125  , 257.875  ,\n",
       "       225.4125 , 191.     , 476.75   , 262.375  , 175.9375 , 251.125  ,\n",
       "       290.625  , 233.625  , 174.125  , 192.5    ,  71.625  , 131.75   ,\n",
       "       208.25   , 469.5    , 173.     , 170.5    , 373.     , 228.875  ,\n",
       "       299.625  , 448.125  , 231.5    , 192.75   , 207.25   , 395.9625 ,\n",
       "       175.375  , 147.75   , 176.3025 , 130.375  , 532.625  , 425.25   ,\n",
       "       231.5    , 135.25   , 118.     , 273.875  , 468.5    , 115.75   ,\n",
       "       156.25   , 117.875  , 379.475  , 442.59625, 198.625  , 157.5    ,\n",
       "       321.125  , 472.225  , 215.25   ,  22.5    , 557.75   , 292.525  ,\n",
       "        39.625  , 177.5    , 235.5    , 492.375  , 154.125  , 375.125  ,\n",
       "       247.5    , 226.75   , 204.875  , 351.875  , 140.125  , 581.9375 ,\n",
       "        20.625  , 449.875  , 238.125  , 455.34625, 155.375  , 364.625  ,\n",
       "       733.25   , 495.6625 , 143.25   , 325.125  , 197.125  , 230.125  ,\n",
       "       221.1625 , 184.125  , 218.     , 118.875  , 404.4    , 133.25   ,\n",
       "       409.5    , 137.625  , 223.45   , 244.5    , 225.125  , 178.625  ,\n",
       "       308.5375 , 328.9125 , 420.     , 155.375  , 268.625  , 566.25   ,\n",
       "       184.875  , 494.7875 , 524.375  , 546.875  , 271.125  , 199.5    ,\n",
       "       284.5    , 331.25   , 381.8375 ,  76.375  , 238.75   , 350.25   ,\n",
       "        20.     , 327.875  , 152.75   , 289.375  ,  64.     , 163.625  ,\n",
       "        51.625  , 240.125  , 181.875  , 180.625  , 173.     , 385.625  ,\n",
       "       185.125  , 164.625  , 387.     , 168.5    , 559.725  , 291.25   ,\n",
       "       295.35   , 396.5    , 204.25   , 245.     , 210.125  , 381.25   ,\n",
       "       204.9375 ,  82.     , 382.875  , 304.125  , 375.75   , 150.75   ,\n",
       "       430.625  , 300.75   , 221.3875 , 192.0375 , 192.75   , 121.625  ,\n",
       "       295.375  , 299.125  , 112.75   ,  79.375  , 243.125  , 267.375  ,\n",
       "       413.125  , 400.7125 , 448.125  , 173.375  , 468.5    , 145.25   ,\n",
       "        77.25   , 412.375  , 546.875  , 236.625  , 292.25   , 275.25   ,\n",
       "       451.625  , 196.875  , 139.375  , 274.5    , 390.0375 , 162.875  ,\n",
       "       224.75   , 430.5    , 118.625  , 159.675  , 148.25   , 231.0375 ,\n",
       "       379.25   , 203.125  , 209.5    ,  51.25   , 149.125  , 113.25   ,\n",
       "       140.125  , 432.5    , 463.25   , 131.25   , 125.     , 168.625  ,\n",
       "       409.     , 148.125  , 160.75   , 273.375  , 628.25   , 276.125  ,\n",
       "       156.125  , 148.0375 , 300.625  , 636.     , 209.875  , 329.6625 ,\n",
       "       272.125  , 139.25   , 318.625  , 244.5    , 330.75   ,  62.5    ,\n",
       "       285.5    , 159.5625 , 209.     , 253.875  , 269.625  , 335.75   ,\n",
       "       160.75   , 223.2875 , 559.25   , 124.     , 671.25   , 291.875  ,\n",
       "       262.75   , 163.375  , 390.4875 , 360.     , 102.375  , 175.0875 ,\n",
       "       194.375  , 425.2875 , 167.     , 355.25   , 458.25   , 230.75   ,\n",
       "       546.125  , 244.5    , 205.125  , 206.375  , 145.75   ,  20.     ,\n",
       "       278.5    , 148.375  , 209.25   , 203.125  , 354.5875 ,  91.375  ,\n",
       "       182.125  , 366.5    , 199.625  , 105.5    , 579.25   , 349.     ,\n",
       "       308.225  , 360.9375 , 321.5    , 178.75   , 244.75   , 542.5    ,\n",
       "       231.5    ,  87.375  , 413.2875 , 160.875  , 181.75   , 438.375  ,\n",
       "       623.25   , 126.125  , 235.625  , 217.95   , 549.1    , 210.5125 ,\n",
       "       159.6875 , 263.875  , 275.625  ,  96.75   , 165.125  , 211.25   ,\n",
       "       490.625  , 175.325  , 390.0375 , 233.125  , 327.5    , 335.     ,\n",
       "       270.25   , 503.875  , 168.25   ,  20.     , 525.875  , 242.625  ,\n",
       "       547.625  , 372.625  ,  37.625  , 113.75   , 136.375  , 197.9375 ,\n",
       "       130.5    ,  81.     , 559.875  , 291.     , 155.875  , 116.225  ,\n",
       "       149.125  , 211.875  , 614.875  , 316.2875 ,  56.75   ,  19.     ,\n",
       "       176.75   ,  20.     , 208.9375 , 588.625  , 165.875  , 199.125  ,\n",
       "       139.625  , 137.75   , 183.     , 426.875  , 447.625  , 219.875  ,\n",
       "       307.5    , 199.625  , 281.25   , 206.125  , 282.     , 246.875  ,\n",
       "       305.5    , 140.75   , 701.5    ,  33.75   , 215.     , 531.875  ,\n",
       "       335.2125 , 157.625  , 319.375  ,  60.75   , 132.625  , 294.375  ,\n",
       "        20.     , 219.     , 307.625  , 251.5125 , 430.1875 , 414.3375 ,\n",
       "       255.125  , 168.     , 228.     , 347.975  ,  80.75   , 191.125  ,\n",
       "       326.5    , 491.25   , 330.     , 475.575  , 291.     , 148.875  ,\n",
       "       458.375  , 150.625  , 102.25   , 624.     , 258.875  ,  98.125  ,\n",
       "        49.625  , 223.45   , 353.5    , 320.875  , 136.6    , 204.875  ,\n",
       "       290.625  , 108.75   , 256.25   , 334.125  , 573.5    , 114.75   ,\n",
       "       154.625  , 156.875  , 435.75   , 114.55   ,  20.     , 315.25   ,\n",
       "       181.1625 ,  60.875  , 615.875  , 430.125  , 241.875  , 282.6875 ,\n",
       "       268.625  , 209.5    , 350.75   , 229.625  , 298.5    ,  90.875  ,\n",
       "       147.125  , 302.125  , 286.275  , 308.225  , 240.625  , 410.625  ,\n",
       "       120.625  , 171.125  , 183.5    , 691.     , 258.875  , 219.7875 ,\n",
       "       128.625  , 293.25   , 139.75   , 168.875  , 379.375  , 234.5    ,\n",
       "        97.125  ,  96.125  , 255.75   , 329.125  , 122.8875 , 409.625  ,\n",
       "       212.9125 , 585.125  , 196.5    , 266.25   , 331.5375 , 579.     ,\n",
       "       214.25   , 301.0375 , 172.625  ,  22.     , 335.375  , 143.75   ,\n",
       "       274.125  ,  31.875  , 237.375  , 109.625  , 140.5    , 257.     ,\n",
       "       240.175  , 178.5    , 266.25   , 186.125  , 477.75   ,  74.0375 ,\n",
       "       187.9125 , 235.75   , 131.0375 , 492.25   , 688.25   , 201.25   ,\n",
       "       262.     ,  96.375  , 227.625  , 342.375  , 234.875  , 290.125  ,\n",
       "       283.625  , 481.47125, 313.85   , 235.75   , 173.5    , 138.     ,\n",
       "       167.375  , 224.25   , 210.     , 211.25   , 241.875  , 230.75   ,\n",
       "       416.9125 , 153.125  , 366.775  ,  99.875  , 126.     ,  84.625  ,\n",
       "       235.75   ,  44.25   , 370.375  , 174.5    , 307.5625 , 281.75   ,\n",
       "       374.875  , 333.375  , 203.375  , 379.475  , 140.75   , 197.1    ,\n",
       "       258.875  , 186.875  , 223.45   , 249.75   , 358.625  , 290.8375 ,\n",
       "       560.375  ,  21.25   ,  26.375  , 418.875  , 172.0875 , 177.5    ,\n",
       "       141.125  , 210.625  , 242.875  , 617.075  , 240.875  , 268.875  ,\n",
       "        85.125  , 110.5    , 159.75   , 143.75   , 288.125  , 165.25   ,\n",
       "       173.375  , 213.75   , 306.5    , 294.25   , 399.125  , 265.     ,\n",
       "       306.25   , 145.4125 , 257.075  , 255.75   , 238.5    ,  78.5    ,\n",
       "       108.125  , 455.875  ,  54.125  , 173.08375, 277.125  , 112.25   ,\n",
       "       289.625  , 124.125  , 189.375  , 390.4875 ,  44.125  , 132.3125 ,\n",
       "       162.125  , 115.25   , 193.     , 188.375  , 335.75   , 221.     ,\n",
       "       468.125  , 230.375  , 192.875  , 170.5    , 313.25   , 579.875  ,\n",
       "       223.25   , 282.     , 221.1625 , 184.625  , 259.125  , 110.875  ,\n",
       "       248.25   , 420.6625 , 159.6875 , 230.5    , 426.75   , 155.375  ,\n",
       "       158.375  , 204.75   , 367.125  , 515.     , 321.5    , 195.     ,\n",
       "       465.2    , 448.125  , 282.875  ,  22.     , 302.9125 ,  90.875  ,\n",
       "       419.875  , 324.     , 436.125  , 336.8375 , 379.25   , 379.475  ,\n",
       "       264.25   , 320.625  , 207.875  , 361.125  ,  87.375  , 207.     ,\n",
       "       109.85   , 525.5    , 433.375  , 280.375  , 160.6875 , 307.5625 ,\n",
       "       193.125  , 228.875  , 509.9125 , 229.75   , 410.3375 , 476.375  ,\n",
       "       261.875  , 473.5    , 142.625  , 424.25   , 233.5    , 144.375  ,\n",
       "       162.25   ,  20.     , 299.5    , 459.625  , 164.25   , 132.875  ,\n",
       "       100.375  , 189.25   , 302.875  , 555.25   , 113.875  ,  43.     ,\n",
       "       251.875  , 496.875  ,  21.25   , 204.     , 583.5    , 205.75   ,\n",
       "        88.     , 144.125  , 199.25   , 285.5    , 123.75   , 177.75   ,\n",
       "       114.5    , 481.     , 339.625  , 233.7    , 187.625  ,  67.25   ,\n",
       "       209.75   , 196.8    , 444.875  , 592.875  , 167.375  , 351.8    ,\n",
       "       522.75   , 257.625  , 150.875  , 275.875  , 100.375  , 139.875  ,\n",
       "       142.4375 , 215.     , 366.775  , 344.625  , 182.75   , 231.5    ,\n",
       "       212.25   , 558.375  , 130.5    , 244.5    , 130.0375 ,  44.625  ,\n",
       "       421.25   , 138.25   , 345.375  , 287.775  , 644.     , 237.1375 ,\n",
       "       191.7    , 364.15   , 240.75   , 100.475  , 444.1375 , 347.975  ,\n",
       "       225.125  , 134.25   , 166.375  , 288.9125 , 259.25   , 419.4375 ,\n",
       "       288.125  ,  97.125  , 170.125  , 467.25   , 125.875  , 154.875  ,\n",
       "       293.125  , 328.25   , 121.625  ,  62.625  , 160.975  , 198.     ,\n",
       "       347.975  , 459.0625 , 223.625  , 194.5    , 521.125  , 190.9275 ,\n",
       "       378.375  , 544.475  , 200.125  , 397.75   , 142.5    , 244.25   ,\n",
       "       213.5    , 237.1375 , 184.5    , 138.     , 184.875  , 167.375  ,\n",
       "       137.75   , 394.5    , 236.5    , 581.625  , 165.6375 , 266.125  ,\n",
       "       289.025  , 180.75   , 201.625  , 139.825  , 219.5    , 158.     ,\n",
       "       209.875  , 361.375  , 369.1    , 198.     , 202.375  , 157.75   ,\n",
       "       237.25   , 196.8    , 601.75   , 395.75   , 271.125  , 186.0375 ,\n",
       "       189.     , 417.     , 360.75   , 342.125  , 212.475  , 164.125  ,\n",
       "       458.5    , 245.7    , 218.5    , 404.875  , 304.75   , 515.     ,\n",
       "       230.125  , 126.625  , 470.125  , 305.5    , 142.     , 275.375  ,\n",
       "       206.625  , 131.375  , 169.25   , 202.625  , 139.625  , 114.125  ,\n",
       "       373.25   , 559.75   , 240.875  , 187.125  , 356.125  , 346.275  ,\n",
       "       201.25   , 395.75   , 245.     , 283.5    , 321.5    , 259.125  ,\n",
       "       284.5    , 144.375  , 418.875  , 272.125  , 123.5    , 166.     ,\n",
       "       586.4625 , 172.125  ,  88.     , 185.5    , 149.25   , 126.125  ,\n",
       "       125.75   , 186.625  , 167.375  , 624.75   , 260.625  , 274.125  ,\n",
       "       128.5125 , 317.125  , 539.5    , 182.5    ,  20.     , 148.5    ,\n",
       "       195.8125 , 200.     , 142.375  , 550.75   , 246.     , 189.     ,\n",
       "       234.4125 , 613.325  , 697.25   , 201.     , 185.75   , 140.25   ,\n",
       "       353.875  ,  78.625  , 300.75   , 505.5    , 149.75   , 326.625  ,\n",
       "       392.075  , 527.75   ])"
      ]
     },
     "execution_count": 15,
     "metadata": {},
     "output_type": "execute_result"
    }
   ],
   "source": [
    "pred1 = best1.predict(x_test)\n",
    "pred1"
   ]
  },
  {
   "cell_type": "code",
   "execution_count": 16,
   "metadata": {
    "scrolled": true
   },
   "outputs": [
    {
     "data": {
      "text/plain": [
       "0.394348751993219"
      ]
     },
     "execution_count": 16,
     "metadata": {},
     "output_type": "execute_result"
    }
   ],
   "source": [
    "best1.score(x_test,y_test)"
   ]
  },
  {
   "cell_type": "markdown",
   "metadata": {},
   "source": [
    "#### Ridge"
   ]
  },
  {
   "cell_type": "code",
   "execution_count": 17,
   "metadata": {},
   "outputs": [
    {
     "name": "stdout",
     "output_type": "stream",
     "text": [
      "최적의 하이퍼 파라미터 : {'alpha': 10}\n",
      "최적의 모델 평균 성능 : 0.34274900818111886\n"
     ]
    }
   ],
   "source": [
    "# Ridge\n",
    "\n",
    "params = {\n",
    "    # 값이 낮으면 규제가 약해지고 값이 크면 규제가 강해진다\n",
    "    'alpha' : [0.0001, 0.001, 0.01, 0.1, 1, 10, 100, 1000, 1000]\n",
    "}\n",
    "\n",
    "model2 = Ridge()\n",
    "grid2 = GridSearchCV(model2, param_grid=params, scoring='r2', cv=fold1)\n",
    "grid2.fit(x_train,y_train)\n",
    "print(f'최적의 하이퍼 파라미터 : {grid2.best_params_}')\n",
    "print(f'최적의 모델 평균 성능 : {grid2.best_score_}')\n"
   ]
  },
  {
   "cell_type": "markdown",
   "metadata": {},
   "source": [
    "#### Lasso"
   ]
  },
  {
   "cell_type": "code",
   "execution_count": 18,
   "metadata": {},
   "outputs": [
    {
     "name": "stdout",
     "output_type": "stream",
     "text": [
      "최적의 하이퍼 파라미터 : {'alpha': 0.1}\n",
      "최적의 모델 평균 성능 : 0.3427281444534969\n"
     ]
    }
   ],
   "source": [
    "# Lasso\n",
    "\n",
    "params = {\n",
    "    # 값이 낮으면 규제가 약해지고 값이 크면 규제가 강해진다\n",
    "    'alpha' : [0.0001, 0.001, 0.01, 0.1, 1, 10, 100, 1000, 1000]\n",
    "}\n",
    "\n",
    "model3 = Lasso()\n",
    "grid3 = GridSearchCV(model3, param_grid=params, scoring='r2', cv=fold1)\n",
    "grid3.fit(x_train,y_train)\n",
    "print(f'최적의 하이퍼 파라미터 : {grid3.best_params_}')\n",
    "print(f'최적의 모델 평균 성능 : {grid3.best_score_}')"
   ]
  },
  {
   "cell_type": "markdown",
   "metadata": {},
   "source": [
    "#### ElasticNet"
   ]
  },
  {
   "cell_type": "code",
   "execution_count": 19,
   "metadata": {},
   "outputs": [
    {
     "name": "stdout",
     "output_type": "stream",
     "text": [
      "최적의 하이퍼 파라미터 : {'alpha': 0.01}\n",
      "최적의 모델 평균 성능 : 0.3427401670839959\n"
     ]
    }
   ],
   "source": [
    "# ElasticNet\n",
    "\n",
    "params = {\n",
    "    # 값이 낮으면 규제가 약해지고 값이 크면 규제가 강해진다\n",
    "    'alpha' : [0.0001, 0.001, 0.01, 0.1, 1, 10, 100, 1000, 1000]\n",
    "}\n",
    "\n",
    "model4 = ElasticNet()\n",
    "grid4 = GridSearchCV(model4, param_grid=params, scoring='r2', cv=fold1)\n",
    "grid4.fit(x_train,y_train)\n",
    "print(f'최적의 하이퍼 파라미터 : {grid4.best_params_}')\n",
    "print(f'최적의 모델 평균 성능 : {grid4.best_score_}')"
   ]
  },
  {
   "cell_type": "markdown",
   "metadata": {},
   "source": [
    "### KNN 모델 선정 값 예측하기"
   ]
  },
  {
   "cell_type": "code",
   "execution_count": 37,
   "metadata": {},
   "outputs": [],
   "source": [
    "x_data_all = df.drop('평균임금', axis=1)\n",
    "y_data_all = df['평균임금']"
   ]
  },
  {
   "cell_type": "code",
   "execution_count": 39,
   "metadata": {},
   "outputs": [
    {
     "data": {
      "text/plain": [
       "array([515.2625, 515.2625, 515.2625, ..., 124.    , 173.375 , 338.1125])"
      ]
     },
     "execution_count": 39,
     "metadata": {},
     "output_type": "execute_result"
    }
   ],
   "source": [
    "pred100 = best1.predict(x_data_all)\n",
    "pred100"
   ]
  },
  {
   "cell_type": "code",
   "execution_count": 42,
   "metadata": {},
   "outputs": [],
   "source": [
    "x_data_all['예측평균임금'] = pred100\n",
    "x_data_all['예측평균임금'] = x_data_all['예측평균임금'].round(decimals=2)"
   ]
  },
  {
   "cell_type": "code",
   "execution_count": 43,
   "metadata": {},
   "outputs": [
    {
     "data": {
      "text/html": [
       "<div>\n",
       "<style scoped>\n",
       "    .dataframe tbody tr th:only-of-type {\n",
       "        vertical-align: middle;\n",
       "    }\n",
       "\n",
       "    .dataframe tbody tr th {\n",
       "        vertical-align: top;\n",
       "    }\n",
       "\n",
       "    .dataframe thead th {\n",
       "        text-align: right;\n",
       "    }\n",
       "</style>\n",
       "<table border=\"1\" class=\"dataframe\">\n",
       "  <thead>\n",
       "    <tr style=\"text-align: right;\">\n",
       "      <th></th>\n",
       "      <th>성별</th>\n",
       "      <th>출생년도</th>\n",
       "      <th>혼인상태</th>\n",
       "      <th>종교유무</th>\n",
       "      <th>직종</th>\n",
       "      <th>지역</th>\n",
       "      <th>예측평균임금</th>\n",
       "    </tr>\n",
       "  </thead>\n",
       "  <tbody>\n",
       "    <tr>\n",
       "      <th>0</th>\n",
       "      <td>2</td>\n",
       "      <td>1936</td>\n",
       "      <td>2</td>\n",
       "      <td>2</td>\n",
       "      <td>9999.0</td>\n",
       "      <td>1</td>\n",
       "      <td>515.26</td>\n",
       "    </tr>\n",
       "    <tr>\n",
       "      <th>1</th>\n",
       "      <td>2</td>\n",
       "      <td>1945</td>\n",
       "      <td>2</td>\n",
       "      <td>2</td>\n",
       "      <td>9999.0</td>\n",
       "      <td>1</td>\n",
       "      <td>515.26</td>\n",
       "    </tr>\n",
       "    <tr>\n",
       "      <th>2</th>\n",
       "      <td>1</td>\n",
       "      <td>1948</td>\n",
       "      <td>2</td>\n",
       "      <td>2</td>\n",
       "      <td>9999.0</td>\n",
       "      <td>1</td>\n",
       "      <td>515.26</td>\n",
       "    </tr>\n",
       "    <tr>\n",
       "      <th>3</th>\n",
       "      <td>1</td>\n",
       "      <td>1942</td>\n",
       "      <td>3</td>\n",
       "      <td>1</td>\n",
       "      <td>762.0</td>\n",
       "      <td>1</td>\n",
       "      <td>222.49</td>\n",
       "    </tr>\n",
       "    <tr>\n",
       "      <th>4</th>\n",
       "      <td>2</td>\n",
       "      <td>1923</td>\n",
       "      <td>2</td>\n",
       "      <td>1</td>\n",
       "      <td>9999.0</td>\n",
       "      <td>1</td>\n",
       "      <td>515.26</td>\n",
       "    </tr>\n",
       "    <tr>\n",
       "      <th>...</th>\n",
       "      <td>...</td>\n",
       "      <td>...</td>\n",
       "      <td>...</td>\n",
       "      <td>...</td>\n",
       "      <td>...</td>\n",
       "      <td>...</td>\n",
       "      <td>...</td>\n",
       "    </tr>\n",
       "    <tr>\n",
       "      <th>15417</th>\n",
       "      <td>2</td>\n",
       "      <td>1967</td>\n",
       "      <td>1</td>\n",
       "      <td>1</td>\n",
       "      <td>952.0</td>\n",
       "      <td>5</td>\n",
       "      <td>133.25</td>\n",
       "    </tr>\n",
       "    <tr>\n",
       "      <th>15418</th>\n",
       "      <td>2</td>\n",
       "      <td>1992</td>\n",
       "      <td>5</td>\n",
       "      <td>1</td>\n",
       "      <td>9999.0</td>\n",
       "      <td>5</td>\n",
       "      <td>338.11</td>\n",
       "    </tr>\n",
       "    <tr>\n",
       "      <th>15419</th>\n",
       "      <td>1</td>\n",
       "      <td>1995</td>\n",
       "      <td>5</td>\n",
       "      <td>1</td>\n",
       "      <td>521.0</td>\n",
       "      <td>5</td>\n",
       "      <td>124.00</td>\n",
       "    </tr>\n",
       "    <tr>\n",
       "      <th>15420</th>\n",
       "      <td>2</td>\n",
       "      <td>1998</td>\n",
       "      <td>5</td>\n",
       "      <td>1</td>\n",
       "      <td>432.0</td>\n",
       "      <td>5</td>\n",
       "      <td>173.38</td>\n",
       "    </tr>\n",
       "    <tr>\n",
       "      <th>15421</th>\n",
       "      <td>1</td>\n",
       "      <td>2001</td>\n",
       "      <td>0</td>\n",
       "      <td>1</td>\n",
       "      <td>9999.0</td>\n",
       "      <td>5</td>\n",
       "      <td>338.11</td>\n",
       "    </tr>\n",
       "  </tbody>\n",
       "</table>\n",
       "<p>15422 rows × 7 columns</p>\n",
       "</div>"
      ],
      "text/plain": [
       "       성별  출생년도  혼인상태  종교유무      직종  지역  예측평균임금\n",
       "0       2  1936     2     2  9999.0   1  515.26\n",
       "1       2  1945     2     2  9999.0   1  515.26\n",
       "2       1  1948     2     2  9999.0   1  515.26\n",
       "3       1  1942     3     1   762.0   1  222.49\n",
       "4       2  1923     2     1  9999.0   1  515.26\n",
       "...    ..   ...   ...   ...     ...  ..     ...\n",
       "15417   2  1967     1     1   952.0   5  133.25\n",
       "15418   2  1992     5     1  9999.0   5  338.11\n",
       "15419   1  1995     5     1   521.0   5  124.00\n",
       "15420   2  1998     5     1   432.0   5  173.38\n",
       "15421   1  2001     0     1  9999.0   5  338.11\n",
       "\n",
       "[15422 rows x 7 columns]"
      ]
     },
     "execution_count": 43,
     "metadata": {},
     "output_type": "execute_result"
    }
   ],
   "source": [
    "x_data_all"
   ]
  }
 ],
 "metadata": {
  "kernelspec": {
   "display_name": "Python 3",
   "language": "python",
   "name": "python3"
  },
  "language_info": {
   "codemirror_mode": {
    "name": "ipython",
    "version": 3
   },
   "file_extension": ".py",
   "mimetype": "text/x-python",
   "name": "python",
   "nbconvert_exporter": "python",
   "pygments_lexer": "ipython3",
   "version": "3.8.5"
  }
 },
 "nbformat": 4,
 "nbformat_minor": 4
}
