{
 "cells": [
  {
   "cell_type": "code",
   "execution_count": 1,
   "metadata": {},
   "outputs": [],
   "source": [
    "# 분석 및 수집\n",
    "from bs4 import BeautifulSoup\n",
    "# 요청\n",
    "import requests\n",
    "\n",
    "import pandas as pd\n",
    "import numpy as np"
   ]
  },
  {
   "cell_type": "code",
   "execution_count": 2,
   "metadata": {},
   "outputs": [],
   "source": [
    "# 요청 함수\n",
    "def getConnection(site) :\n",
    "    # 헤더 정보 셋팅\n",
    "    request_headers = {\n",
    "        'User-Agent' : 'Mozilla/5.0 (Windows NT 10.0; Win64; x64) AppleWebKit/537.36 (KHTML, like Gecko) Chrome/88.0.4324.104 Safari/537.36'\n",
    "    }\n",
    "    # 요청\n",
    "    response = requests.get(site, headers=request_headers)\n",
    "    # 응답 결과를 가지고 bs4 객체를 생성한다.\n",
    "    soup = BeautifulSoup(response.text, 'lxml')\n",
    "    return soup"
   ]
  },
  {
   "cell_type": "code",
   "execution_count": 3,
   "metadata": {},
   "outputs": [],
   "source": [
    "# 분석 및 수집, 저장\n",
    "def getData(soup) :\n",
    "    # 한 페이지에서 추출하고자 하는 데이터를 모두 추출해 저장한다.\n",
    "    # 영화 전체를 가지고 있는 태그를 가져온다.\n",
    "    a1 = soup.select_one('#mArticle > ul.list_movie')\n",
    "    # print(a1)\n",
    "    \n",
    "    # 영화정보가 담겨있는 li 태그들을 가져온다.\n",
    "    a2 = a1.select('li')\n",
    "    # print(a2)\n",
    "    \n",
    "    # li 태그의 수 만큼 반복한다.\n",
    "    for a3 in a2 :\n",
    "        # 영화 제목을 가져온다.\n",
    "        a4 = a3.select_one('div.wrap_movie > div > a')\n",
    "        print(a4.text.strip())"
   ]
  },
  {
   "cell_type": "code",
   "execution_count": 4,
   "metadata": {},
   "outputs": [],
   "source": [
    "# 다음 페이지 존재 여부 확인\n",
    "def getNextPage(soup) :\n",
    "    # 다음 페이지 존재 여부를 확인하는 작업을 한다.\n",
    "    pass"
   ]
  },
  {
   "cell_type": "code",
   "execution_count": 5,
   "metadata": {},
   "outputs": [
    {
     "name": "stdout",
     "output_type": "stream",
     "text": [
      "극장판 귀멸의 칼날: 무한열차편\n",
      "소울\n",
      "세자매\n",
      "사일런싱\n",
      "캐롤\n",
      "명탐정 코난: 진홍의 수학여행\n",
      "북스마트\n",
      "나는 나를 해고하지 않는다\n",
      "큰엄마의 미친봉고\n",
      "더 시크릿\n",
      "게임의 법칙: 인간사냥\n",
      "화양연화\n",
      "블라인드\n",
      "관계의 가나다에 있는 우리는\n",
      "원더 우먼 1984\n",
      "해수의 아이\n",
      "아이 엠 우먼\n",
      "파힘\n",
      "늑대와 춤을\n",
      "커넥트\n"
     ]
    }
   ],
   "source": [
    "a1 = 'https://movie.daum.net/premovie/released'\n",
    "\n",
    "soup = getConnection(a1)\n",
    "\n",
    "getData(soup)"
   ]
  },
  {
   "cell_type": "code",
   "execution_count": null,
   "metadata": {},
   "outputs": [],
   "source": []
  }
 ],
 "metadata": {
  "kernelspec": {
   "display_name": "Python 3",
   "language": "python",
   "name": "python3"
  },
  "language_info": {
   "codemirror_mode": {
    "name": "ipython",
    "version": 3
   },
   "file_extension": ".py",
   "mimetype": "text/x-python",
   "name": "python",
   "nbconvert_exporter": "python",
   "pygments_lexer": "ipython3",
   "version": "3.8.5"
  }
 },
 "nbformat": 4,
 "nbformat_minor": 4
}
