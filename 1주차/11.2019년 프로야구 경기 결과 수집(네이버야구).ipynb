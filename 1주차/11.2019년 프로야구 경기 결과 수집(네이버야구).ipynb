{
 "cells": [
  {
   "cell_type": "code",
   "execution_count": 1,
   "metadata": {},
   "outputs": [],
   "source": [
    "import bs4\n",
    "import requests\n",
    "import pandas as pd\n",
    "import numpy as np\n",
    "import time\n",
    "import os\n",
    "\n",
    "from urllib.request import urlopen\n",
    "\n",
    "# 출력화면 초기화 하는 모듈\n",
    "from IPython.display import clear_output"
   ]
  },
  {
   "cell_type": "markdown",
   "metadata": {},
   "source": [
    "- 소스보기에서 데이터가 없었다.\n",
    "- iframe도 없다.\n",
    "- 비동기 통신인지 확인\n",
    "    - crome에서 f12를 눌러 개발자 도구를 띄우고 네트워크 탭을 띄워준다.\n",
    "  \n",
    "- 변화를 주고 네트워크를 확인했을때 XHR이라고 나온다면 비동기 통신이다.\n",
    "- 네트워크에 탭에 나와있는 주소를 더블클릭해서 브라우저에서 주조를 확인한다."
   ]
  },
  {
   "cell_type": "markdown",
   "metadata": {},
   "source": [
    "### 요청함수"
   ]
  },
  {
   "cell_type": "code",
   "execution_count": 3,
   "metadata": {},
   "outputs": [],
   "source": [
    "def getSource(site):\n",
    "    # 헤더 정보\n",
    "    header_info = {\n",
    "        'User-Agent' : 'Mozilla/5.0 (Windows NT 10.0; Win64; x64) AppleWebKit/537.36 (KHTML, like Gecko) Chrome/88.0.4324.146 Safari/537.36',   \n",
    "    }\n",
    "    \n",
    "    # 요청한다.\n",
    "    response = requests.get(site, headers = header_info)\n",
    "#     print(response.text)\n",
    "\n",
    "    # bs4 객체 생성\n",
    "    soup = bs4.BeautifulSoup(response.text,'lxml')\n",
    "    \n",
    "    return soup"
   ]
  },
  {
   "cell_type": "markdown",
   "metadata": {},
   "source": [
    "### 하루의 경기 결과를 가져오는 함수"
   ]
  },
  {
   "cell_type": "code",
   "execution_count": 93,
   "metadata": {},
   "outputs": [],
   "source": [
    "def getData(soup):\n",
    "    \n",
    "    # 데이터를 담을 딕셔너리 생성\n",
    "    data_dict ={\n",
    "        '팀1' : [],\n",
    "        '팀1_투수': [],\n",
    "        '팀1_점수' : [],\n",
    "        '팀2' : [],\n",
    "        '팀2_투수' : [],\n",
    "        '팀2_점수' : []\n",
    "    }\n",
    "    \n",
    "    \n",
    "    # 경기 결과 전체를 가져온다.\n",
    "    a1 = soup.select_one('#todaySchedule')\n",
    "    \n",
    "    # li 클래스 end 태그들을 가져온다.\n",
    "    a2 = a1.select('li.end')\n",
    "    \n",
    "    # li 태그의 수 만큼 반복\n",
    "    for a3 in a2:\n",
    "        # 경기 결과\n",
    "        \n",
    "        # 팀1 이름을 가져온다.\n",
    "        a4 = a3.select_one('div.vs_lft > p > strong')\n",
    "        data1 = a4.text.strip()\n",
    "        \n",
    "        # 팀1의 투수\n",
    "        a5 = a3.select_one('div.vs_lft > p > span > a')\n",
    "        if a5 != None:\n",
    "            data2 = a5.text.strip()\n",
    "        else:\n",
    "            data2 = np.nan\n",
    "        \n",
    "        # 팀1 점수\n",
    "        a6 = a3.select_one('div.vs_lft > strong')\n",
    "        data3 = a6.text.strip()\n",
    "        \n",
    "        # 팀2 이름을 가져온다.\n",
    "        a7 = a3.select_one('div.vs_rgt > p > strong')\n",
    "        data4 = a7.text.strip()\n",
    "       \n",
    "        # 팀2 투수\n",
    "        a8 = a3.select_one('div.vs_rgt > p > span > a')\n",
    "        if a8 != None:\n",
    "            data5 = a8.text.strip()\n",
    "        else:\n",
    "            data5 = np.nan\n",
    "        \n",
    "        # 팀2 점수\n",
    "        a9 = a3.select_one('div.vs_rgt > strong')\n",
    "        data6 = a9.text.strip()\n",
    "        \n",
    "        # 딕셔너리에 추가\n",
    "        data_dict['팀1'].append(data1)\n",
    "        data_dict['팀1_투수'].append(data2)\n",
    "        data_dict['팀1_점수'].append(data3)\n",
    "        data_dict['팀2'].append(data4)\n",
    "        data_dict['팀2_투수'].append(data5)\n",
    "        data_dict['팀2_점수'].append(data6)\n",
    "        \n",
    "        \n",
    "    df1 = pd.DataFrame(data_dict)\n",
    "    display(df1)\n",
    "    \n",
    "    # 데이터 프레임 저장\n",
    "    if os.path.exists('baseball_2019.csv') == False:\n",
    "        df1.to_csv('baseball_2019.csv', encoding='utf-8-sig', index=False)\n",
    "    else:\n",
    "        df1.to_csv('baseball_2019.csv', encoding='utf-8-sig', index=False, header=False, mode='a')\n",
    "    \n",
    "#         print(\"패배팀\")\n",
    "#         print(data1)\n",
    "#         print(data2)\n",
    "#         print(data3)\n",
    "#         print(\"승리팀\")\n",
    "#         print(data4)\n",
    "#         print(data5)\n",
    "#         print(data6)\n",
    "#         print('-'*20)"
   ]
  },
  {
   "cell_type": "markdown",
   "metadata": {},
   "source": [
    "### 다음 날짜 값을 가지고 오는 함수"
   ]
  },
  {
   "cell_type": "code",
   "execution_count": 94,
   "metadata": {},
   "outputs": [],
   "source": [
    "def getNext(soup):\n",
    "    a1 = soup.select_one('body > div > ul > li:nth-child(6) > a')\n",
    "    onclick = a1.attrs['onclick']\n",
    "    data1 = onclick.split(\"'\")\n",
    "    data1 = data1[1]\n",
    "    \n",
    "    return data1"
   ]
  },
  {
   "cell_type": "code",
   "execution_count": 95,
   "metadata": {},
   "outputs": [
    {
     "name": "stdout",
     "output_type": "stream",
     "text": [
      "20191026 데이터 수집중\n"
     ]
    },
    {
     "data": {
      "text/html": [
       "<div>\n",
       "<style scoped>\n",
       "    .dataframe tbody tr th:only-of-type {\n",
       "        vertical-align: middle;\n",
       "    }\n",
       "\n",
       "    .dataframe tbody tr th {\n",
       "        vertical-align: top;\n",
       "    }\n",
       "\n",
       "    .dataframe thead th {\n",
       "        text-align: right;\n",
       "    }\n",
       "</style>\n",
       "<table border=\"1\" class=\"dataframe\">\n",
       "  <thead>\n",
       "    <tr style=\"text-align: right;\">\n",
       "      <th></th>\n",
       "      <th>팀1</th>\n",
       "      <th>팀1_투수</th>\n",
       "      <th>팀1_점수</th>\n",
       "      <th>팀2</th>\n",
       "      <th>팀2_투수</th>\n",
       "      <th>팀2_점수</th>\n",
       "    </tr>\n",
       "  </thead>\n",
       "  <tbody>\n",
       "    <tr>\n",
       "      <th>0</th>\n",
       "      <td>두산</td>\n",
       "      <td>이용찬</td>\n",
       "      <td>11</td>\n",
       "      <td>키움</td>\n",
       "      <td>브리검</td>\n",
       "      <td>9</td>\n",
       "    </tr>\n",
       "  </tbody>\n",
       "</table>\n",
       "</div>"
      ],
      "text/plain": [
       "   팀1 팀1_투수 팀1_점수  팀2 팀2_투수 팀2_점수\n",
       "0  두산   이용찬    11  키움   브리검     9"
      ]
     },
     "metadata": {},
     "output_type": "display_data"
    },
    {
     "name": "stdout",
     "output_type": "stream",
     "text": [
      "20200421\n",
      "2019년 데이터 수집완료\n"
     ]
    }
   ],
   "source": [
    "now = '20190312'\n",
    "\n",
    "\n",
    "while True:\n",
    "    time.sleep(1)\n",
    "    clear_output(wait=True)\n",
    "    print(f'{now} 데이터 수집중')\n",
    "    site = f'https://sports.news.naver.com/schedule/scoreBoard.nhn?date={now}&category=kbo'\n",
    "\n",
    "    soup = getSource(site)\n",
    "    now = getNext(soup)\n",
    "    getData(soup)\n",
    "    \n",
    "    print(now)\n",
    "    \n",
    "    if now[:4] == '2020':\n",
    "        print('2019년 데이터 수집완료')\n",
    "        break;\n",
    "    "
   ]
  }
 ],
 "metadata": {
  "kernelspec": {
   "display_name": "Python 3",
   "language": "python",
   "name": "python3"
  },
  "language_info": {
   "codemirror_mode": {
    "name": "ipython",
    "version": 3
   },
   "file_extension": ".py",
   "mimetype": "text/x-python",
   "name": "python",
   "nbconvert_exporter": "python",
   "pygments_lexer": "ipython3",
   "version": "3.8.5"
  }
 },
 "nbformat": 4,
 "nbformat_minor": 4
}
