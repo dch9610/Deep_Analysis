{
 "cells": [
  {
   "cell_type": "code",
   "execution_count": 1,
   "metadata": {},
   "outputs": [],
   "source": [
    "import bs4\n",
    "import requests\n",
    "import pandas as pd\n",
    "import numpy as np\n",
    "import time\n",
    "import os\n",
    "\n",
    "from urllib.request import urlopen\n",
    "\n",
    "# 출력화면 초기화 하는 모듈\n",
    "from IPython.display import clear_output"
   ]
  },
  {
   "cell_type": "markdown",
   "metadata": {},
   "source": [
    "- 네이버 영화 140자평 데이터 수집\n",
    "- 소스보기 했을 때 원하는 데이터가 없었다.\n",
    "- iframe 있는지 확인\n",
    "- iframe의 src 속성의 주소를 요청해서 원하는 데이터가 있는지 확읺나다."
   ]
  },
  {
   "cell_type": "markdown",
   "metadata": {},
   "source": [
    "### 요청함수"
   ]
  },
  {
   "cell_type": "code",
   "execution_count": 2,
   "metadata": {},
   "outputs": [],
   "source": [
    "def getSource(site):\n",
    "    # 헤더 정보\n",
    "    header_info = {\n",
    "        'User-Agent' : 'Mozilla/5.0 (Windows NT 10.0; Win64; x64) AppleWebKit/537.36 (KHTML, like Gecko) Chrome/88.0.4324.146 Safari/537.36',   \n",
    "    }\n",
    "    \n",
    "    # 요청한다.\n",
    "    response = requests.get(site, headers = header_info)\n",
    "#     print(response.text)\n",
    "\n",
    "    # bs4 객체 생성\n",
    "    soup = bs4.BeautifulSoup(response.text,'lxml')\n",
    "    \n",
    "    return soup"
   ]
  },
  {
   "cell_type": "markdown",
   "metadata": {},
   "source": [
    "### 한 페이지의 데이터를 수집해 저장하는 함수"
   ]
  },
  {
   "cell_type": "code",
   "execution_count": 158,
   "metadata": {},
   "outputs": [
    {
     "data": {
      "text/plain": [
       "[(0, 10), (1, 20), (2, 30), (3, 40), (4, 50)]"
      ]
     },
     "execution_count": 158,
     "metadata": {},
     "output_type": "execute_result"
    }
   ],
   "source": [
    "# (인덱스, 값) 형태\n",
    "k1 = enumerate([10,20,30,40,50])\n",
    "list(k1)"
   ]
  },
  {
   "cell_type": "code",
   "execution_count": 161,
   "metadata": {},
   "outputs": [],
   "source": [
    "def getData1(soup):\n",
    "    # ul태그를 가져온다.\n",
    "    a1 = soup.select_one('body > div > div > div.score_result > ul')\n",
    "    \n",
    "    # li 태그를 가져온다.\n",
    "    a2 = a1.select('li')\n",
    "    \n",
    "    # li 태그의 수만큼 반복하기 위해 값을 가져옴\n",
    "    for a3 in a2:\n",
    "        # 평점을 가져온다.\n",
    "        a4 = a3.select_one('div.star_score > em')\n",
    "        data1 = a4.text.strip()\n",
    "        \n",
    "        # 관람평 데이터\n",
    "        a5 = a3.select('div.score_reple > p > span')\n",
    "        data2 = a5[-1].text.strip()\n",
    "      \n",
    "        # 작성자 데이터\n",
    "        a6 = a3.select_one('div.score_reple > dl > dt > em > a > span')\n",
    "        data3 = a6.text.strip()\n",
    "        \n",
    "        # 작성일자 데이터\n",
    "        a7 = a3.select('div.score_reple > dl > dt > em')\n",
    "        data4 = a7[-1].text.strip() \n",
    "        print(data2)"
   ]
  },
  {
   "cell_type": "code",
   "execution_count": 162,
   "metadata": {},
   "outputs": [
    {
     "name": "stdout",
     "output_type": "stream",
     "text": [
      "\n",
      "좋은스토리, 극장판다운 연출, 앞부분이 별로인 사람들도 입을 다물게하는 마지막부분. 살면서 애니영화보고 관객들 우는거처음본 명작 영화!!\n",
      "우리들이 바라는 참된어른\n",
      "말 그대로 영혼을 갈아 넣어버렸습니다..애니메이션을  이만큼 정밀하게 그릴 수 있다는 것에 놀라웠어요! 다시 보러 가고 싶어집니다.\n",
      "저야말로 당신같은 분께서 낳아주셔서 영광이었습니다.\n",
      "애니를 평소에 안보던 사람인데, 유일하게 원작완결까지 찾아보게한 만화.. 애니를 영화관에서 보니 좀 신기하기도 했는데, 전율도 배로 느껴지더라구요.. ㅋㅋ 만화로 볼 때도 감동적이었는데, 애니화된걸보니 작화가 어마무...\n",
      "다 좋은데 단한가지 우울한점은 다음스토리가 도대체 언제쯤 애니로나올까...네요 ㅠㅠ얼른 규타로편도 애니나 극장판으로 나왔으면좋겠습니다\n",
      "렌고쿠의 렌고쿠 그냥 미쳤다고밖에 말할 수 없다.\n",
      "너무 감동적이고 재밌었습니다!!!\n",
      "너무 재미있어서 태어나서 처음으로 별점줍니다.\n"
     ]
    }
   ],
   "source": [
    "site = 'https://movie.naver.com/movie/bi/mi/pointWriteFormList.nhn?code=196051&type=after&isActualPointWriteExecute=false&isMileageSubscriptionAlready=false&isMileageSubscriptionReject=false&page=2'\n",
    "\n",
    "soup = getSource(site)\n",
    "getData(soup)"
   ]
  },
  {
   "cell_type": "markdown",
   "metadata": {},
   "source": [
    "## 강사님 풀이"
   ]
  },
  {
   "cell_type": "markdown",
   "metadata": {},
   "source": [
    "### 영화 코드 수집함수"
   ]
  },
  {
   "cell_type": "code",
   "execution_count": 192,
   "metadata": {},
   "outputs": [],
   "source": [
    "def getMovieCode():\n",
    "    site = 'https://movie.naver.com/movie/running/current.nhn'\n",
    "    soup = getSource(site)\n",
    "    \n",
    "    # ul태그를 가져옴\n",
    "    a = soup.select_one('#content > div.article > div:nth-child(1) > div.lst_wrap > ul')\n",
    "    \n",
    "    # li태그를 가져온다.\n",
    "    a1 = a.select('li')\n",
    "    \n",
    "    # 영화코드를 담을 리스트\n",
    "    code_list = []\n",
    "    \n",
    "    # li 태그의 수만큼 반복한다.\n",
    "    for a2 in a1:\n",
    "        a3 = a2.select_one('dl > dt > a')\n",
    "        \n",
    "        # href 속성값을 가져온다.\n",
    "        href = a3.attrs['href']\n",
    "        # =를 기준으로 문자열 나누기\n",
    "        data1 = href.split('=')[1]\n",
    "        code_list.append(data1.strip())\n",
    "    return code_list"
   ]
  },
  {
   "cell_type": "markdown",
   "metadata": {},
   "source": [
    "### 한 페이지의 데이터를 수집해 저장하는 함수"
   ]
  },
  {
   "cell_type": "code",
   "execution_count": 203,
   "metadata": {},
   "outputs": [],
   "source": [
    "def getData(soup, page):\n",
    "    \n",
    "    # 데이터를 담을 딕셔너리 생성\n",
    "    data_dict ={\n",
    "        '평점' : [],\n",
    "        '네티즌평': [],\n",
    "        '작성자' : [],\n",
    "        '작성시간' : []\n",
    "    }\n",
    "    \n",
    "    \n",
    "    # ul태그를 가져온다.\n",
    "    a1 = soup.select_one('body > div > div > div.score_result > ul')\n",
    "    \n",
    "    # li 태그를 가져온다.\n",
    "    a2 = a1.select('li')\n",
    "\n",
    "    for idx,a3 in enumerate(a2):\n",
    "        # 평점을 가져온다.\n",
    "        a4 = a3.select_one('div.star_score > em')\n",
    "        data1 = a4.text.strip()\n",
    "        \n",
    "        # 관람평 데이터\n",
    "        a5 = a3.select_one(f'#_filtered_ment_{idx}')\n",
    "        data2 = a5.text.strip()\n",
    "\n",
    "        # 작성자 데이터\n",
    "        a6 = a3.select_one('div.score_reple > dl > dt > em > a > span')\n",
    "        data3 = a6.text.strip()\n",
    "        \n",
    "        # 작성일자 데이터\n",
    "        a7 = a3.select('div.score_reple > dl > dt > em')\n",
    "        data4 = a7[-1].text.strip()\n",
    "        \n",
    "        # 딕셔너리에 추가\n",
    "        data_dict['평점'].append(data1)\n",
    "        data_dict['네티즌평'].append(data2)\n",
    "        data_dict['작성자'].append(data3)\n",
    "        data_dict['작성시간'].append(data4)\n",
    "        \n",
    "        \n",
    "        print(data1)\n",
    "        print(data2)\n",
    "        print(data3)\n",
    "        print(data4)\n",
    "        print('-'*20)\n",
    "    \n",
    "    # 데이터 프레임 생성\n",
    "    df1 = pd.DataFrame(data_dict)\n",
    "\n",
    "            \n",
    "#     # 데이터 프레임 저장\n",
    "#     if os.path.exists('Naver_moive.csv') == False:\n",
    "#         df1.to_csv('Naver_moive.csv', encoding='utf-8-sig', index=False)\n",
    "#     else:\n",
    "#         df1.to_csv('Naver_moive.csv', encoding='utf-8-sig', index=False, header=False, mode='a')\n",
    "    \n",
    "    \n",
    "    \n",
    "    \n",
    "    # 전체 페이지의 수를 계산한다. (갯수가 나와있는경우)\n",
    "    a8 = soup.select_one('body > div > div > div.score_total > strong > em')\n",
    "    data5 =  a8.text.strip()\n",
    "    data5 = data5.replace(',','') # 쉼표제거\n",
    "    total_page = int(data5) // 10\n",
    "    \n",
    "    if int(data5) % 10  > 0:\n",
    "        total_page +=1\n",
    "    \n",
    "    # 테스트용\n",
    "    total_page = 4\n",
    "    \n",
    "    if total_page > page :\n",
    "        # 전체 페이지수가  현재 페이지번호보다 크면 True\n",
    "        return True\n",
    "    else:\n",
    "        return False\n",
    "        \n",
    "        "
   ]
  },
  {
   "cell_type": "markdown",
   "metadata": {},
   "source": [
    "### 결과확인"
   ]
  },
  {
   "cell_type": "code",
   "execution_count": 205,
   "metadata": {},
   "outputs": [
    {
     "name": "stdout",
     "output_type": "stream",
     "text": [
      "19335 : 4 수집중\n",
      "9\n",
      "아휘의 집에서 혼자 울부짖던 보영이 가장 기억에 남는다. 돌아올 곳 없는 보영의 방랑이 다시 시작될 것을 알아서 더 마음이 아팠다.\n",
      "llilllilllil(niob****)\n",
      "2017.03.14 02:01\n",
      "--------------------\n",
      "10\n",
      "그냥 이게 인생같다. 인위적인 해피엔딩이 아닌 진짜 인생... 그리고 아...장국영....miss you much\n",
      "별빛K(feel****)\n",
      "2017.02.12 02:28\n",
      "--------------------\n",
      "10\n",
      "왕가위 영화 주인공들 중 최고의 케미스트리가 돋보인 수작\n",
      "무서워하구나 연어(ciph****)\n",
      "2013.04.03 00:13\n",
      "--------------------\n",
      "8\n",
      "장국영은 떠났지만, 부에노스 아이레스 어딘가에는 보영이 살아 있을것만 같다. 눈물겨운 아휘, 양조위와 푸른 장첸 모두 오랫동안 기억에 남을듯\n",
      "ㅋㅋㅋ(7282****)\n",
      "2014.06.13 02:16\n",
      "--------------------\n",
      "10\n",
      "마치 다큐를 보는 듯한 미친 연기력 !!!\n",
      "onod****\n",
      "2013.12.02 01:06\n",
      "--------------------\n",
      "10\n",
      "스무살 무렵 개봉당시 볼땐 답답하고 우울하기만 했는데 나이들어 다시보니  레알 감동.. 레슬리 그립소~~ ㅜㅠ\n",
      "chic****\n",
      "2016.05.06 05:43\n",
      "--------------------\n",
      "10\n",
      "스크린 속 장국영은 늙지 않는다. 장첸도, 양조위도. 그때 그 시절의 지독하게 외로운 영화는 지금 봐도 아름다웠다.\n",
      "Colorful Life(fina****)\n",
      "2013.08.21 02:12\n",
      "--------------------\n",
      "9\n",
      "굳이 동성애로 국한시키지 않아도 모든 면에서 뛰어난 최고의 사랑 영화\n",
      "바람의언덕(sipj****)\n",
      "2014.12.30 21:23\n",
      "--------------------\n",
      "10\n",
      "왕가위 감독의 최고의 걸작...\n",
      "iufe****\n",
      "2013.04.02 09:54\n",
      "--------------------\n",
      "10\n",
      "게이양화인줄 알고 봤는데 방황하는 우리들의 청춘 모든 것을 담은 영화. 찾아 나설텐가 기다리기만 할텐가\n",
      "aquarius(shak****)\n",
      "2017.01.02 00:28\n",
      "--------------------\n",
      "4\n",
      "수집완료\n"
     ]
    }
   ],
   "source": [
    "page = 1  \n",
    "\n",
    "# 영화 코드들을 가져온다.\n",
    "movie_code_list = getMovieCode()\n",
    "\n",
    "# 테스트용 코드\n",
    "movie_code_list = movie_code_list[:3]\n",
    "\n",
    "# 실행부\n",
    "for movie_code in movie_code_list:\n",
    "    page = 1  \n",
    "    while True:\n",
    "        time.sleep(1)\n",
    "        clear_output(wait=True)\n",
    "        print(f'{movie_code} : {page} 수집중' )\n",
    "        site = f'https://movie.naver.com/movie/bi/mi/pointWriteFormList.nhn?code={movie_code}&type=after&isActualPointWriteExecute=false&isMileageSubscriptionAlready=false&isMileageSubscriptionReject=false&page={page}'\n",
    "        soup = getSource(site)\n",
    "        chk  = getData(soup, page)\n",
    "        if chk == True:\n",
    "            page = page + 1\n",
    "        else:\n",
    "            print('수집완료')\n",
    "            break"
   ]
  }
 ],
 "metadata": {
  "kernelspec": {
   "display_name": "Python 3",
   "language": "python",
   "name": "python3"
  },
  "language_info": {
   "codemirror_mode": {
    "name": "ipython",
    "version": 3
   },
   "file_extension": ".py",
   "mimetype": "text/x-python",
   "name": "python",
   "nbconvert_exporter": "python",
   "pygments_lexer": "ipython3",
   "version": "3.8.5"
  }
 },
 "nbformat": 4,
 "nbformat_minor": 4
}
