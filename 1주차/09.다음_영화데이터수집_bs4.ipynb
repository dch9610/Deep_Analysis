{
 "cells": [
  {
   "cell_type": "markdown",
   "metadata": {},
   "source": [
    "- 다음 영화 정보를 수집한다.\n",
    "    - https://movie.daum.net/premovie/released\n",
    "    "
   ]
  },
  {
   "cell_type": "code",
   "execution_count": 46,
   "metadata": {},
   "outputs": [],
   "source": [
    "import bs4\n",
    "import requests\n",
    "import pandas as pd\n",
    "import numpy as np\n",
    "import time\n",
    "import os\n",
    "\n",
    "from urllib.request import urlopen\n",
    "\n",
    "# 출력화면 초기화 하는 모듈\n",
    "from IPython.display import clear_output"
   ]
  },
  {
   "cell_type": "markdown",
   "metadata": {},
   "source": [
    "### 요청하는 함수"
   ]
  },
  {
   "cell_type": "code",
   "execution_count": 3,
   "metadata": {},
   "outputs": [],
   "source": [
    "def getSource(site):\n",
    "    # 헤더 정보\n",
    "    header_info = {\n",
    "        'User-Agent' : 'Mozilla/5.0 (Windows NT 10.0; Win64; x64) AppleWebKit/537.36 (KHTML, like Gecko) Chrome/88.0.4324.146 Safari/537.36',   \n",
    "    }\n",
    "    \n",
    "    # 요청한다.\n",
    "    response = requests.get(site, headers = header_info)\n",
    "#     print(response.text)\n",
    "\n",
    "    # bs4 객체 생성\n",
    "    soup = bs4.BeautifulSoup(response.text,'lxml')\n",
    "    \n",
    "    return soup"
   ]
  },
  {
   "cell_type": "markdown",
   "metadata": {},
   "source": [
    "### 한 페이지의 데이터를 수집해 저장하는 함수"
   ]
  },
  {
   "cell_type": "code",
   "execution_count": 4,
   "metadata": {},
   "outputs": [],
   "source": [
    "def getData(soup):\n",
    "    # 전체를 가지고 있는 태그를 가지고 온다.\n",
    "    a1 = soup.select_one('#mArticle > ul.list_movie')\n",
    "\n",
    "    # 영화 데이터 가져오기\n",
    "    a2 = a1.select('li')\n",
    "    \n",
    "    # 데이터를 담을 딕셔너리 생성\n",
    "    data_dict ={\n",
    "        '영화제목' :[],\n",
    "        '평점' : [],\n",
    "        '개봉날짜': [],\n",
    "        '예매율' : []\n",
    "    }\n",
    "    \n",
    "    # 영화의 수만큼 반복한다.\n",
    "    for a3 in a2:\n",
    "        a4 = a3.select_one('div.wrap_movie > div > a')\n",
    "        data1 = a4.text.strip()\n",
    "        \n",
    "        # 평점을 가져온다.\n",
    "        a5 = a3.select('div.wrap_movie > span.info_grade > a > span.wrap_grade.grade_netizen > span.num_grade')\n",
    "        b1 = int(a5[0].text)\n",
    "        b2 = int(a5[0].text)\n",
    "        data2 = f'{b1}.{b2}'\n",
    "        \n",
    "        # 개봉날짜와 예매율\n",
    "        a6 = a3.select_one('div.wrap_movie > span.info_state')\n",
    "        \n",
    "        if len(a6.select('span')) == 0:\n",
    "            data31 = a6.text.strip()\n",
    "            \n",
    "        elif len(a6.select('span')) == 1:\n",
    "            b3 = a6.text.split('・')\n",
    "            \n",
    "        data3 = b3[0].strip()\n",
    "        data4 = b3[1].strip()\n",
    "\n",
    "        # 개봉 날짜에서 '개봉일' 문자열 제거\n",
    "        data3 = data3.replace('개봉','').strip()\n",
    "        data3 = data3.replace('재','').strip()\n",
    "        data4 = data4.replace('예매율','').strip()\n",
    "        data4 = data4.replace('%','').strip()\n",
    "        \n",
    "        # 딕셔너리에 데이터담기\n",
    "        data_dict['영화제목'].append(data1)\n",
    "        data_dict['평점'].append(data2)\n",
    "        data_dict['개봉날짜'].append(data3)\n",
    "        data_dict['예매율'].append(data4)\n",
    "        \n",
    "        \n",
    "    # 데이터 프레임 생성\n",
    "    df1 = pd.DataFrame(data_dict)\n",
    "    print(df1)\n",
    "    \n",
    "            \n",
    "            \n",
    "#     # 데이터 프레임 저장\n",
    "#     if os.path.exists('Daum_moive.csv') == False:\n",
    "#         df1.to_csv('Daum_moive.csv', encoding='utf-8-sig', index=False)\n",
    "#     else:\n",
    "#         df1.to_csv('Daum_moive.csv', encoding='utf-8-sig', index=False, header=False, mode='a')\n",
    "    \n",
    "    \n",
    "#         print(data1)\n",
    "#         print(data2)\n",
    "#         print(data3)\n",
    "#         print(data4)\n",
    "#         print('-' * 20)"
   ]
  },
  {
   "cell_type": "code",
   "execution_count": 5,
   "metadata": {},
   "outputs": [
    {
     "name": "stdout",
     "output_type": "stream",
     "text": [
      "         영화제목     평점      개봉날짜  예매율\n",
      "0  마이 미씽 발렌타인    8.8  21.01.14  0.0\n",
      "1     아이 엠 우먼    8.8  21.01.14  0.0\n",
      "2           걸    8.8  21.01.07  0.0\n",
      "3     미드나잇 버스  10.10  21.02.04  0.0\n",
      "4    천사는 바이러스    8.8  21.02.04  0.0\n"
     ]
    }
   ],
   "source": [
    "site = 'https://movie.daum.net/premovie/released?reservationOnly=N&sort=reservation&page=3'\n",
    "soup = getSource(site)\n",
    "getData(soup)"
   ]
  },
  {
   "cell_type": "markdown",
   "metadata": {},
   "source": [
    "### 다음페이지 존재 여부 확인"
   ]
  },
  {
   "cell_type": "code",
   "execution_count": 6,
   "metadata": {},
   "outputs": [],
   "source": [
    "def getNextPage(soup):\n",
    "    pages = soup.select_one('#mArticle > div.paging_movie > span ')\n",
    "    b = pages.get_text()\n",
    "    b = b.replace('현재페이지','')\n",
    "    total_pages= b.split(\"\\n\")[1:-1]\n",
    "    \n",
    "    for page in total_pages:\n",
    "        return page\n",
    "    \n",
    "#     # next 버튼 태그를 가져온다.\n",
    "#     for i in range(0,len(total_pages)+1):\n",
    "#         a=f'https://movie.daum.net/premovie/released?reservationOnly=N&sort=reservation&page={i}'\n",
    "#         getSource(a)\n",
    "#         soup = getSource(a)\n",
    "#         return soup"
   ]
  },
  {
   "cell_type": "code",
   "execution_count": 7,
   "metadata": {
    "scrolled": false
   },
   "outputs": [
    {
     "data": {
      "text/plain": [
       "'1'"
      ]
     },
     "execution_count": 7,
     "metadata": {},
     "output_type": "execute_result"
    }
   ],
   "source": [
    "getNextPage(soup)"
   ]
  },
  {
   "cell_type": "code",
   "execution_count": 7,
   "metadata": {},
   "outputs": [],
   "source": [
    "# def getNextPage(soup,i):\n",
    "#     pages = soup.select('#mArticle > div.paging_movie > span > a')\n",
    "#     if pages[i].attrs['href'] \n",
    "#     return pages[i].attrs['href']\n",
    "\n",
    "# #     for page in pages:\n",
    "# #         # 만약 가져온 것이 있다면\n",
    "# #         if page != None:\n",
    "# #             # a 태그의 href 속성 값을 가져온다.\n",
    "# #             href = page.attrs['href']\n",
    "# #             return href\n",
    "# #         else:\n",
    "# #             return None"
   ]
  },
  {
   "cell_type": "code",
   "execution_count": 8,
   "metadata": {
    "scrolled": true
   },
   "outputs": [],
   "source": [
    "# site = 'https://movie.daum.net/premovie/released?reservationOnly=N&sort=reservation&page=2'\n",
    "# soup = getSource(site)\n",
    "# getNextPage(soup,1)"
   ]
  },
  {
   "cell_type": "markdown",
   "metadata": {},
   "source": [
    "### 결과확인"
   ]
  },
  {
   "cell_type": "code",
   "execution_count": 9,
   "metadata": {},
   "outputs": [
    {
     "name": "stdout",
     "output_type": "stream",
     "text": [
      "                 영화제목     평점      개봉날짜   예매율\n",
      "0   극장판 귀멸의 칼날: 무한열차편    5.5  21.01.27  31.5\n",
      "1                  소울    8.8  21.01.20  21.3\n",
      "2             어니스트 씨프    6.6  21.02.03   6.2\n",
      "3              해피 투게더    8.8  21.02.04   3.1\n",
      "4                 페어웰    8.8  21.02.04   2.1\n",
      "5           서바이브 더 나잇    5.5  21.02.03   1.8\n",
      "6               칙 파이트  10.10  21.02.04   1.6\n",
      "7             스트레스 제로  10.10  21.02.03   1.4\n",
      "8                북스마트    6.6  21.01.27   1.2\n",
      "9   세상의 모든 디저트: 러브 사라    0.0  21.02.04   1.2\n",
      "10               스푸트닉    4.4  21.02.04   1.1\n",
      "11                세자매    8.8  21.01.27   0.9\n",
      "12     나는 나를 해고하지 않는다    9.9  21.01.28   0.8\n",
      "13               사일런싱    6.6  21.01.28   0.8\n",
      "14                 캐롤    7.7  21.01.27   0.7\n",
      "15   명탐정 코난: 진홍의 수학여행    7.7  21.01.27   0.6\n",
      "16       게임의 법칙: 인간사냥    3.3  21.01.28   0.5\n",
      "17               화양연화    8.8  20.12.24   0.4\n",
      "18       이 안에 외계인이 있다  10.10  21.02.03   0.2\n",
      "19    관계의 가나다에 있는 우리는  10.10  21.01.28   0.1\n"
     ]
    },
    {
     "ename": "KeyboardInterrupt",
     "evalue": "",
     "output_type": "error",
     "traceback": [
      "\u001b[1;31m---------------------------------------------------------------------------\u001b[0m",
      "\u001b[1;31mKeyboardInterrupt\u001b[0m                         Traceback (most recent call last)",
      "\u001b[1;32m<ipython-input-9-1ed8aad6161b>\u001b[0m in \u001b[0;36m<module>\u001b[1;34m\u001b[0m\n\u001b[0;32m      4\u001b[0m \u001b[1;32mwhile\u001b[0m \u001b[1;32mTrue\u001b[0m\u001b[1;33m:\u001b[0m\u001b[1;33m\u001b[0m\u001b[1;33m\u001b[0m\u001b[0m\n\u001b[0;32m      5\u001b[0m     \u001b[1;31m# 딜레이\u001b[0m\u001b[1;33m\u001b[0m\u001b[1;33m\u001b[0m\u001b[1;33m\u001b[0m\u001b[0m\n\u001b[1;32m----> 6\u001b[1;33m     \u001b[0mtime\u001b[0m\u001b[1;33m.\u001b[0m\u001b[0msleep\u001b[0m\u001b[1;33m(\u001b[0m\u001b[1;36m2\u001b[0m\u001b[1;33m)\u001b[0m\u001b[1;33m\u001b[0m\u001b[1;33m\u001b[0m\u001b[0m\n\u001b[0m\u001b[0;32m      7\u001b[0m \u001b[1;33m\u001b[0m\u001b[0m\n\u001b[0;32m      8\u001b[0m     \u001b[1;31m# 기존 출력된거 정리\u001b[0m\u001b[1;33m\u001b[0m\u001b[1;33m\u001b[0m\u001b[1;33m\u001b[0m\u001b[0m\n",
      "\u001b[1;31mKeyboardInterrupt\u001b[0m: "
     ]
    }
   ],
   "source": [
    "site = 'https://movie.daum.net/premovie/released?reservationOnly=N&sort=reservation&page='\n",
    "page = '1'\n",
    "\n",
    "while True:\n",
    "    # 딜레이\n",
    "    time.sleep(2)\n",
    "    \n",
    "    # 기존 출력된거 정리\n",
    "    clear_output(wait=True)\n",
    "    \n",
    "    # 페이지 요청\n",
    "    soup = getSource(site+page)\n",
    "    \n",
    "    # 데이터 수집 및 저장\n",
    "    getData(soup)\n",
    "    \n",
    "    #  다음 페이지 이동\n",
    "    page = getNextPage(soup)\n",
    "    \n",
    "    # 다음페이지가 없다면 중단\n",
    "    if page == None:\n",
    "        print('수집완료')\n",
    "        break"
   ]
  },
  {
   "cell_type": "markdown",
   "metadata": {},
   "source": [
    "## 강사님 풀이"
   ]
  },
  {
   "cell_type": "markdown",
   "metadata": {},
   "source": [
    "### 요청하는 함수"
   ]
  },
  {
   "cell_type": "code",
   "execution_count": 26,
   "metadata": {},
   "outputs": [],
   "source": [
    "def getSource(site):\n",
    "    # 헤더 정보\n",
    "    header_info = {\n",
    "        'User-Agent' : 'Mozilla/5.0 (Windows NT 10.0; Win64; x64) AppleWebKit/537.36 (KHTML, like Gecko) Chrome/88.0.4324.146 Safari/537.36',   \n",
    "    }\n",
    "    \n",
    "    # 요청한다.\n",
    "    response = requests.get(site, headers = header_info)\n",
    "#     print(response.text)\n",
    "\n",
    "    # bs4 객체 생성\n",
    "    soup = bs4.BeautifulSoup(response.text,'lxml')\n",
    "    \n",
    "    return soup"
   ]
  },
  {
   "cell_type": "markdown",
   "metadata": {},
   "source": [
    "### 한 페이지의 데이터를 수집해 저장하는 함수"
   ]
  },
  {
   "cell_type": "code",
   "execution_count": 54,
   "metadata": {},
   "outputs": [],
   "source": [
    "def getData(soup):\n",
    "    # 전체를 가지고 있는 태그를 가지고 온다.\n",
    "    a1 = soup.select_one('#mArticle > ul.list_movie')\n",
    "\n",
    "    # 영화 데이터 가져오기\n",
    "    a2 = a1.select('li')\n",
    "    \n",
    "    # 데이터를 담을 딕셔너리 생성\n",
    "    data_dict ={\n",
    "        '영화제목' :[],\n",
    "        '평점' : [],\n",
    "        '개봉날짜': [],\n",
    "        '예매율' : []\n",
    "    }\n",
    "    \n",
    "    # 영화의 수만큼 반복한다.\n",
    "    for a3 in a2:\n",
    "        a4 = a3.select_one('div.wrap_movie > div > a')\n",
    "        data1 = a4.text.strip()\n",
    "        \n",
    "        # 평점을 가져온다.\n",
    "        a5 = a3.select('div.wrap_movie > span.info_grade > a > span.wrap_grade.grade_netizen > span.num_grade')\n",
    "        b1 = int(a5[0].text)\n",
    "        b2 = int(a5[0].text)\n",
    "        data2 = f'{b1}.{b2}'\n",
    "        \n",
    "        # 개봉날짜와 예매율\n",
    "        a6 = a3.select_one('div.wrap_movie > span.info_state')\n",
    "        b3 = a6.text.split('・')\n",
    "        data3 = b3[0].strip()\n",
    "        \n",
    "        if len(b3) == 2 :    \n",
    "            data4 = b3[1].strip()\n",
    "        else :\n",
    "            data4 = np.nan\n",
    "    \n",
    "        # 개봉 날짜에서 '개봉일' 문자열 제거\n",
    "        data3 = data3.replace('개봉','').strip()\n",
    "        data3 = data3.replace('재','').strip()\n",
    "        if len(b3) == 2:\n",
    "            data4 = data4.replace('예매율','').strip()\n",
    "            data4 = data4.replace('%','').strip()\n",
    "        \n",
    "        # 딕셔너리에 데이터담기\n",
    "        data_dict['영화제목'].append(data1)\n",
    "        data_dict['평점'].append(data2)\n",
    "        data_dict['개봉날짜'].append(data3)\n",
    "        data_dict['예매율'].append(data4)\n",
    "        \n",
    "        # 영화 포스터 가져오기\n",
    "        a7 = a3.select_one('div.info_movie > span > img')\n",
    "        # src 속성값을 가져온다.\n",
    "        src_attr = a7.attrs['src']\n",
    "        print(src_attr)\n",
    "        \n",
    "        if len(src_attr)>0:\n",
    "            # 포스터 이미지가 존재할 경우\n",
    "            # 이미지 데이터를 읽어온다.\n",
    "            with urlopen('http:' + src_attr) as f1:\n",
    "                img_data = f1.read()\n",
    "                \n",
    "            # 영화 제목의 특수문자를 제거한다.\n",
    "            filename = data1.replace(':','-')\n",
    "            filename = filename.replace('/',' ')\n",
    "            filename = filename.replace(';','')\n",
    "            \n",
    "            \n",
    "            # 저장\n",
    "            with open(f'poster/{filename}.jpg','wb') as f2:\n",
    "                f2.write(img_data)\n",
    "        \n",
    "        \n",
    "        \n",
    "        \n",
    "        \n",
    "#     # 데이터 프레임 생성\n",
    "#     df1 = pd.DataFrame(data_dict)\n",
    "#     display(df1)\n",
    "    \n",
    "    \n",
    "            \n",
    "            \n",
    "#     # 데이터 프레임 저장\n",
    "#     if os.path.exists('Daum_moive.csv') == False:\n",
    "#         df1.to_csv('Daum_moive.csv', encoding='utf-8-sig', index=False)\n",
    "#     else:\n",
    "#         df1.to_csv('Daum_moive.csv', encoding='utf-8-sig', index=False, header=False, mode='a')\n",
    "    \n",
    "    \n",
    "#         print(data1)\n",
    "#         print(data2)\n",
    "#         print(data3)\n",
    "#         print(data4)\n",
    "#         print('-' * 20)"
   ]
  },
  {
   "cell_type": "code",
   "execution_count": 55,
   "metadata": {
    "scrolled": true
   },
   "outputs": [
    {
     "name": "stdout",
     "output_type": "stream",
     "text": [
      "//img1.daumcdn.net/thumb/C236x340/?fname=https://t1.daumcdn.net/movie/b6a55c2b29c5dd00700e6226283f79e72292f882\n",
      "//img1.daumcdn.net/thumb/C236x340/?fname=https://t1.daumcdn.net/movie/6006f9662caa592e42cb7dbda628260ab5078a92\n",
      "//img1.daumcdn.net/thumb/C236x340/?fname=https://t1.daumcdn.net/movie/1b55b9499efe917dff37b5b122232f4fded7fcde\n",
      "//img1.daumcdn.net/thumb/C236x340/?fname=https://t1.daumcdn.net/movie/a4844e99f4278db0f745db46a4858b6669ff9cb2\n",
      "//img1.daumcdn.net/thumb/C236x340/?fname=https://t1.daumcdn.net/movie/d80c63d8d759d43efbcfc0aa62dfd6419326758c\n",
      "//img1.daumcdn.net/thumb/C236x340/?fname=https://t1.daumcdn.net/movie/5709f9cfabc9537fc26610e98a6197556a315e31\n",
      "//img1.daumcdn.net/thumb/C236x340/?fname=https://t1.daumcdn.net/movie/f16ee067963316310d61dd068e19d2ccb4fad24f\n",
      "\n",
      "//img1.daumcdn.net/thumb/C236x340/?fname=https://t1.daumcdn.net/movie/489848c875d8c1ab27edeb8d1b2ca63d0034f935\n",
      "//img1.daumcdn.net/thumb/C236x340/?fname=https://t1.daumcdn.net/movie/7924c44d525d793e68103a41de3f29aa4701cae2\n",
      "//img1.daumcdn.net/thumb/C236x340/?fname=https://t1.daumcdn.net/movie/db8752efa87a2f559c1865f128bf19c098f24b0a\n",
      "//img1.daumcdn.net/thumb/C236x340/?fname=https://t1.daumcdn.net/movie/04c15be5f08f5ea6fc931267b7f5b0545c6ef165\n",
      "//img1.daumcdn.net/thumb/C236x340/?fname=https://t1.daumcdn.net/movie/266dcfb956685b1d5ccd463f493716427bba1596\n",
      "//img1.daumcdn.net/thumb/C236x340/?fname=https://t1.daumcdn.net/movie/b5d7d3b44a51b812da3297593812c1661066682e\n",
      "//img1.daumcdn.net/thumb/C236x340/?fname=https://t1.daumcdn.net/movie/2cdb22feb39015873f370e3e69df16612c9a2c87\n",
      "//img1.daumcdn.net/thumb/C236x340/?fname=https://t1.daumcdn.net/movie/25ae6db50cdbb5739666c2dcd262d38643cc32d4\n",
      "//img1.daumcdn.net/thumb/C236x340/?fname=https://t1.daumcdn.net/movie/ac7736de4b40d6fe337db9b227384be79acb9b74\n",
      "//img1.daumcdn.net/thumb/C236x340/?fname=https://t1.daumcdn.net/movie/e3ea1cd72f0f57606f6d30ee7b94faf1bd6af629\n",
      "//img1.daumcdn.net/thumb/C236x340/?fname=https://t1.daumcdn.net/movie/5f604f3e4bfb0ad2bb97a45647c82f7a0861133e\n",
      "//img1.daumcdn.net/thumb/C236x340/?fname=https://t1.daumcdn.net/movie/34cc8871f8b503d12806f2268a01c052198fafbc\n"
     ]
    }
   ],
   "source": [
    "site = 'https://movie.daum.net/premovie/scheduled?reservationOnly=N&sort=reservation&page=2'\n",
    "soup = getSource(site)\n",
    "getData(soup)"
   ]
  },
  {
   "cell_type": "markdown",
   "metadata": {},
   "source": [
    "### 다음페이지 존재 여부 확인"
   ]
  },
  {
   "cell_type": "code",
   "execution_count": 56,
   "metadata": {},
   "outputs": [],
   "source": [
    "def getNext(soup):\n",
    "    # 페이지 번호중 a 태그를 가져온다.\n",
    "    a_tag = soup.select('#mArticle > div.paging_movie > span > a')\n",
    "    \n",
    "    # 페이지 번호중 em 태그를 가져온다.\n",
    "    em_tag = soup.select_one('#mArticle > div.paging_movie > span > em')\n",
    "\n",
    "    # a 태그 중 제일 마지막 태그의 숫자 값을 가져온다.\n",
    "    a1 = a_tag[-1].text.strip()\n",
    "    \n",
    "    # em 태그의 숫자값을 가져온다.\n",
    "    a2 = em_tag.text.strip()\n",
    "    a2 = a2.replace('현재페이지','')\n",
    "    \n",
    "    if int(a1) > int(a2):\n",
    "        return True\n",
    "    else:\n",
    "        return False"
   ]
  },
  {
   "cell_type": "code",
   "execution_count": 57,
   "metadata": {},
   "outputs": [
    {
     "data": {
      "text/plain": [
       "False"
      ]
     },
     "execution_count": 57,
     "metadata": {},
     "output_type": "execute_result"
    }
   ],
   "source": [
    "site = 'https://movie.daum.net/premovie/released?reservationOnly=N&sort=reservation&page=3'\n",
    "soup = getSource(site)\n",
    "getNext(soup)"
   ]
  },
  {
   "cell_type": "markdown",
   "metadata": {},
   "source": [
    "### 결과확인"
   ]
  },
  {
   "cell_type": "code",
   "execution_count": 58,
   "metadata": {
    "scrolled": true
   },
   "outputs": [
    {
     "name": "stdout",
     "output_type": "stream",
     "text": [
      "//img1.daumcdn.net/thumb/C236x340/?fname=https://t1.daumcdn.net/movie/2b1d3188c817fa8feb1c3f78a2625ec71481c673\n",
      "//img1.daumcdn.net/thumb/C236x340/?fname=https://t1.daumcdn.net/movie/e6827930fecc0f415ee58d3d697be22d7fcba989\n",
      "//img1.daumcdn.net/thumb/C236x340/?fname=https://t1.daumcdn.net/movie/8f6d909119d250749366527dfaa0e7977e165f22\n",
      "//img1.daumcdn.net/thumb/C236x340/?fname=https://t1.daumcdn.net/movie/7efe89a90a6ba8d42acf5613746d0fe8cb03d40e\n",
      "//img1.daumcdn.net/thumb/C236x340/?fname=https://t1.daumcdn.net/movie/5c3475daf193ecf66a90278c5dafafc3ee69782d\n",
      "\n",
      "//img1.daumcdn.net/thumb/C236x340/?fname=https://t1.daumcdn.net/movie/daba12924aec5f38a76d5143cbe62edacc605e7a\n",
      "//img1.daumcdn.net/thumb/C236x340/?fname=https://t1.daumcdn.net/movie/ca80929bf7acd77089fc9656bda496cfe4855d08\n",
      "수집완료\n"
     ]
    }
   ],
   "source": [
    "page_name = 'released'\n",
    "page = 1\n",
    "\n",
    "while True:\n",
    "    # 주소\n",
    "    site = f'https://movie.daum.net/premovie/{page_name}?reservationOnly=N&sort=reservation&page={str(page)}'\n",
    "    \n",
    "    print(f'{page_name} : {page} 수집중')\n",
    "    # 딜레이\n",
    "    time.sleep(2)\n",
    "    \n",
    "    # 기존 출력된거 정리\n",
    "    clear_output(wait=True)\n",
    "    \n",
    "    # 페이지 요청\n",
    "    soup = getSource(site)\n",
    "    \n",
    "    # 데이터 수집 및 저장\n",
    "    getData(soup)\n",
    "    \n",
    "    #  다음 페이지 이동\n",
    "    chk = getNext(soup)\n",
    "    \n",
    "    # 다음페이지가 없다면 중단\n",
    "    if chk == False:\n",
    "        print('수집완료')\n",
    "        if page_name =='released':\n",
    "            page_name = 'scheduled'\n",
    "            page =1\n",
    "        else:\n",
    "              break\n",
    "    else: \n",
    "        page += 1"
   ]
  },
  {
   "cell_type": "markdown",
   "metadata": {},
   "source": [
    "### 최종 데이터 프레임을 생성"
   ]
  },
  {
   "cell_type": "code",
   "execution_count": 36,
   "metadata": {},
   "outputs": [
    {
     "data": {
      "text/html": [
       "<div>\n",
       "<style scoped>\n",
       "    .dataframe tbody tr th:only-of-type {\n",
       "        vertical-align: middle;\n",
       "    }\n",
       "\n",
       "    .dataframe tbody tr th {\n",
       "        vertical-align: top;\n",
       "    }\n",
       "\n",
       "    .dataframe thead th {\n",
       "        text-align: right;\n",
       "    }\n",
       "</style>\n",
       "<table border=\"1\" class=\"dataframe\">\n",
       "  <thead>\n",
       "    <tr style=\"text-align: right;\">\n",
       "      <th></th>\n",
       "      <th>영화제목</th>\n",
       "      <th>평점</th>\n",
       "      <th>개봉날짜</th>\n",
       "      <th>예매율</th>\n",
       "    </tr>\n",
       "  </thead>\n",
       "  <tbody>\n",
       "    <tr>\n",
       "      <th>0</th>\n",
       "      <td>극장판 귀멸의 칼날: 무한열차편</td>\n",
       "      <td>5.5</td>\n",
       "      <td>21.01.27</td>\n",
       "      <td>31.6</td>\n",
       "    </tr>\n",
       "    <tr>\n",
       "      <th>1</th>\n",
       "      <td>소울</td>\n",
       "      <td>8.8</td>\n",
       "      <td>21.01.20</td>\n",
       "      <td>25.5</td>\n",
       "    </tr>\n",
       "    <tr>\n",
       "      <th>2</th>\n",
       "      <td>어니스트 씨프</td>\n",
       "      <td>6.6</td>\n",
       "      <td>21.02.03</td>\n",
       "      <td>5.9</td>\n",
       "    </tr>\n",
       "    <tr>\n",
       "      <th>3</th>\n",
       "      <td>해피 투게더</td>\n",
       "      <td>8.8</td>\n",
       "      <td>21.02.04</td>\n",
       "      <td>2.9</td>\n",
       "    </tr>\n",
       "    <tr>\n",
       "      <th>4</th>\n",
       "      <td>페어웰</td>\n",
       "      <td>8.8</td>\n",
       "      <td>21.02.04</td>\n",
       "      <td>1.8</td>\n",
       "    </tr>\n",
       "    <tr>\n",
       "      <th>...</th>\n",
       "      <td>...</td>\n",
       "      <td>...</td>\n",
       "      <td>...</td>\n",
       "      <td>...</td>\n",
       "    </tr>\n",
       "    <tr>\n",
       "      <th>147</th>\n",
       "      <td>꿈꾸는 고양이</td>\n",
       "      <td>10.1</td>\n",
       "      <td>21.06.04</td>\n",
       "      <td>NaN</td>\n",
       "    </tr>\n",
       "    <tr>\n",
       "      <th>148</th>\n",
       "      <td>달이 지는 밤</td>\n",
       "      <td>10.1</td>\n",
       "      <td>21.09.01</td>\n",
       "      <td>NaN</td>\n",
       "    </tr>\n",
       "    <tr>\n",
       "      <th>149</th>\n",
       "      <td>물방울을 그리는 남자</td>\n",
       "      <td>0.0</td>\n",
       "      <td>21.10.19</td>\n",
       "      <td>NaN</td>\n",
       "    </tr>\n",
       "    <tr>\n",
       "      <th>150</th>\n",
       "      <td>007 노 타임 투 다이</td>\n",
       "      <td>7.7</td>\n",
       "      <td>21.10</td>\n",
       "      <td>NaN</td>\n",
       "    </tr>\n",
       "    <tr>\n",
       "      <th>151</th>\n",
       "      <td>쥬라기 월드: 도미니언</td>\n",
       "      <td>10.1</td>\n",
       "      <td>22.06.10</td>\n",
       "      <td>NaN</td>\n",
       "    </tr>\n",
       "  </tbody>\n",
       "</table>\n",
       "<p>152 rows × 4 columns</p>\n",
       "</div>"
      ],
      "text/plain": [
       "                  영화제목    평점      개봉날짜   예매율\n",
       "0    극장판 귀멸의 칼날: 무한열차편   5.5  21.01.27  31.6\n",
       "1                   소울   8.8  21.01.20  25.5\n",
       "2              어니스트 씨프   6.6  21.02.03   5.9\n",
       "3               해피 투게더   8.8  21.02.04   2.9\n",
       "4                  페어웰   8.8  21.02.04   1.8\n",
       "..                 ...   ...       ...   ...\n",
       "147            꿈꾸는 고양이  10.1  21.06.04   NaN\n",
       "148            달이 지는 밤  10.1  21.09.01   NaN\n",
       "149        물방울을 그리는 남자   0.0  21.10.19   NaN\n",
       "150      007 노 타임 투 다이   7.7     21.10   NaN\n",
       "151       쥬라기 월드: 도미니언  10.1  22.06.10   NaN\n",
       "\n",
       "[152 rows x 4 columns]"
      ]
     },
     "execution_count": 36,
     "metadata": {},
     "output_type": "execute_result"
    }
   ],
   "source": [
    "df10 = pd.read_csv('Daum_moive.csv')\n",
    "df10"
   ]
  }
 ],
 "metadata": {
  "kernelspec": {
   "display_name": "Python 3",
   "language": "python",
   "name": "python3"
  },
  "language_info": {
   "codemirror_mode": {
    "name": "ipython",
    "version": 3
   },
   "file_extension": ".py",
   "mimetype": "text/x-python",
   "name": "python",
   "nbconvert_exporter": "python",
   "pygments_lexer": "ipython3",
   "version": "3.8.5"
  }
 },
 "nbformat": 4,
 "nbformat_minor": 4
}
