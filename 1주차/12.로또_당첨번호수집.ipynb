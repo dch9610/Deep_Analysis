{
 "cells": [
  {
   "cell_type": "code",
   "execution_count": 8,
   "metadata": {},
   "outputs": [],
   "source": [
    "import bs4\n",
    "import requests\n",
    "import pandas as pd\n",
    "import numpy as np\n",
    "import time\n",
    "import os\n",
    "import json\n",
    "\n",
    "from urllib.request import urlopen\n",
    "\n",
    "# 출력화면 초기화 하는 모듈\n",
    "from IPython.display import clear_output"
   ]
  },
  {
   "cell_type": "markdown",
   "metadata": {},
   "source": [
    "### 요청함수"
   ]
  },
  {
   "cell_type": "code",
   "execution_count": 9,
   "metadata": {},
   "outputs": [],
   "source": [
    "def getSource(site):\n",
    "    # 헤더 정보\n",
    "    header_info = {\n",
    "        'User-Agent' : 'Mozilla/5.0 (Windows NT 10.0; Win64; x64) AppleWebKit/537.36 (KHTML, like Gecko) Chrome/88.0.4324.146 Safari/537.36',   \n",
    "    }\n",
    "    \n",
    "    # 요청한다.\n",
    "    response = requests.get(site, headers = header_info)\n",
    "\n",
    "    # bs4 객체 생성 (xml, html)\n",
    "    # soup = bs4.BeautifulSoup(response.text,'lxml') \n",
    "    \n",
    "   # json 객체 생성\n",
    "    obj = json.loads(response.text)\n",
    "    return obj"
   ]
  },
  {
   "cell_type": "markdown",
   "metadata": {},
   "source": [
    "### 한 회차의 데이터를 추출한다."
   ]
  },
  {
   "cell_type": "code",
   "execution_count": 33,
   "metadata": {},
   "outputs": [],
   "source": [
    "def getData(obj):\n",
    "    data_dict ={\n",
    "        '추천날짜' : [obj['drwNoDate']],\n",
    "        '번호1' : [obj['drwtNo1']],\n",
    "        '번호2' : [obj['drwtNo2']],\n",
    "        '번호3' : [obj['drwtNo3']],\n",
    "        '번호4' : [obj['drwtNo4']],\n",
    "        '번호5' : [obj['drwtNo5']],\n",
    "        '번호6' : [obj['drwtNo6']],\n",
    "        '보너스 번호' : [obj['bnusNo']]\n",
    "    }\n",
    "    \n",
    "    df1 = pd.DataFrame(data_dict)\n",
    "    \n",
    "    # 데이터 프레임 저장\n",
    "    if os.path.exists('Lotto.csv') == False:\n",
    "        df1.to_csv('Lotto.csv', encoding='utf-8-sig', index=False)\n",
    "    else:\n",
    "        df1.to_csv('Lotto.csv', encoding='utf-8-sig', index=False, header=False, mode='a')\n",
    "#     data_dict['추천날짜'].append(obj['drwNoDate'])\n",
    "#     data_dict['번호1'].append(obj['drwtNo1'])\n",
    "#     data_dict['번호2'].append(obj['drwtNo2'])\n",
    "#     data_dict['번호3'].append(obj['drwtNo3'])\n",
    "#     data_dict['번호4'].append(obj['drwtNo4'])\n",
    "#     data_dict['팀2_점수'].append(obj['drwtNo5'])\n",
    "    \n",
    "#     print(obj['drwNoDate'])\n",
    "#     print(obj['drwtNo1'])\n",
    "#     print(obj['drwtNo2'])\n",
    "#     print(obj['drwtNo3'])\n",
    "#     print(obj['drwtNo4'])\n",
    "#     print(obj['drwtNo5'])\n",
    "#     print(obj['drwtNo6'])\n",
    "#     print(obj['bnusNo'])"
   ]
  },
  {
   "cell_type": "markdown",
   "metadata": {},
   "source": [
    "### 현재 회차를 수집할 것인지 판별"
   ]
  },
  {
   "cell_type": "code",
   "execution_count": 34,
   "metadata": {},
   "outputs": [],
   "source": [
    "def getNext(obj):\n",
    "    if obj['returnValue'] == 'success':\n",
    "        return True\n",
    "    else:\n",
    "        return False"
   ]
  },
  {
   "cell_type": "markdown",
   "metadata": {},
   "source": [
    "### 결과"
   ]
  },
  {
   "cell_type": "code",
   "execution_count": 37,
   "metadata": {},
   "outputs": [
    {
     "name": "stdout",
     "output_type": "stream",
     "text": [
      "수집완료\n"
     ]
    }
   ],
   "source": [
    "drwNo = 1\n",
    "\n",
    "while True:\n",
    "#     time.sleep(1)\n",
    "    clear_output(wait=True)\n",
    "    site = f'https://www.dhlottery.co.kr/common.do?method=getLottoNumber&drwNo={drwNo}'\n",
    "\n",
    "    obj = getSource(site)\n",
    "    \n",
    "    # 현재 회차를 수집할 것인지\n",
    "    chk = getNext(obj)\n",
    "    \n",
    "    if chk == True:\n",
    "        print(f'{drwNo}회차 수집')\n",
    "        getData(obj)\n",
    "        drwNo = drwNo + 1\n",
    "    else:\n",
    "        print(\"수집완료\")\n",
    "        break"
   ]
  },
  {
   "cell_type": "code",
   "execution_count": null,
   "metadata": {},
   "outputs": [],
   "source": []
  }
 ],
 "metadata": {
  "kernelspec": {
   "display_name": "Python 3",
   "language": "python",
   "name": "python3"
  },
  "language_info": {
   "codemirror_mode": {
    "name": "ipython",
    "version": 3
   },
   "file_extension": ".py",
   "mimetype": "text/x-python",
   "name": "python",
   "nbconvert_exporter": "python",
   "pygments_lexer": "ipython3",
   "version": "3.8.5"
  }
 },
 "nbformat": 4,
 "nbformat_minor": 4
}
