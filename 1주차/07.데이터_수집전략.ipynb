{
 "cells": [
  {
   "cell_type": "markdown",
   "metadata": {},
   "source": [
    "## 수집 방법"
   ]
  },
  {
   "cell_type": "markdown",
   "metadata": {},
   "source": [
    "- request 모듈 : 직접 주소를 입력하여 요청할 수 있다. requests 모듈을 통해 요청해서 받아오는 데이터는 웹 브라우저에서 소스보기 했을  때 나오는 코드이다. 웹 브라우저는 이 코드를 분석 실행하여 다른 코드를 생성한 다음 그 생성된 코드로 눈에 보이는 화면을 구성한다. 따라서 request 모듈을 통해 받아온 데이터에는 브라우저 화면에 있는 데이터가 없을 수도 있다. \n",
    "\n",
    "\n",
    "- selenium : 웹 브라우저를 조작하여 원하는 페이지로 이동한 다음에 데이터를 받아온다. 크롬 개발자 도구의 elements 탭에 있는 데이터를 받아 올 수 있다.\n",
    "\n",
    "\n",
    "- bs4 : 받아온 html, xml 데이터를 분석하여 수집한다. \n",
    "\n",
    "\n",
    "- json : 받아온 json 데이터를 분석하여 수집한다. \n",
    "\n",
    "\n",
    "- feedparser : 받아온 rss 데이터를 분석하여 수집한다. "
   ]
  },
  {
   "cell_type": "markdown",
   "metadata": {},
   "source": [
    "- 주소 분석이 가능하다면 requests 모듈로 요청한다.\n",
    "- 주소 분석이 어렵다면 selenium을 사용한다.\n",
    "- requests는 속도가 빠르고 selenium은 속도가 느리다.\n",
    "\n",
    "\n",
    "- 소스보기 했을 때 데이터가 있다면 : requests 모듈로 요청하고 bs4로 수집한다.\n",
    "- 소스보기 했을 때 데이터가 없고 elements 탭에 데이터가 있는 경우 : ajax인가, 웹 소켓인가??..\n",
    "    * ajax라면 주소를 분석하여 직접 요청해서 수집한다.\n",
    "    * 웹 소켓이라고 한다면 selenium을 사용한다.\n",
    "    \n",
    "- 소스보기 했을 때 데이터가 없고 elements 탭에도 데이터가 없는 경우 : iframe\n",
    "    - iframe이 있는지 확인해 보고 iframe이 있다면 iframe에 셋팅된 주소로 요청해서 수집한다.\n",
    "    \n"
   ]
  },
  {
   "cell_type": "markdown",
   "metadata": {},
   "source": [
    "- id 속성 : HTML에서 사용하는 모든 태그에 사용할 수 있는 속성. 이 속성은 하나의 HTML 문서 안에서 같은 id를 가지고 있는 태그는 없다.\n",
    "    - id는 웹 개발자가 특정 태그 하나를 지칭하기 위해 사용하는 태그\n",
    "\n",
    "- class 속성 : css는 html 태그를 꾸미는 용도로 사용한다.\n",
    "- nth-child : 같은 태그가 동시에 여러개 나열되어 있을 경우 그 순서를 구분하기 위해 사용하는 필터 (1부터 시작)\n",
    "\n",
    "- 여러 항목들을 가져오고자 할 때는 그 항목들을 둘러싸고 있는 태그부터 가져온다."
   ]
  },
  {
   "cell_type": "markdown",
   "metadata": {},
   "source": [
    "## 수집 순서"
   ]
  },
  {
   "cell_type": "markdown",
   "metadata": {},
   "source": [
    "1. 주소 분석\n",
    "2. 한 페이지의 데이터를 수집한다.\n",
    "3. 다음 페이지로 넘어갈 수 있는 방법을 찾아야한다.\n",
    "4. 마지막 페이지를 어떻게 구분할 수 있는가\n",
    "5. while문을 만들어 마지막 페이지까지 갈 수 있도록 구성해준다.\n",
    "6. 반드시 종료가 되게 만들어야 한다.\n",
    "7. 매 반복마다 딜레이를 줘야한다. (권장 3초)"
   ]
  },
  {
   "cell_type": "code",
   "execution_count": null,
   "metadata": {},
   "outputs": [],
   "source": []
  }
 ],
 "metadata": {
  "kernelspec": {
   "display_name": "Python 3",
   "language": "python",
   "name": "python3"
  },
  "language_info": {
   "codemirror_mode": {
    "name": "ipython",
    "version": 3
   },
   "file_extension": ".py",
   "mimetype": "text/x-python",
   "name": "python",
   "nbconvert_exporter": "python",
   "pygments_lexer": "ipython3",
   "version": "3.8.5"
  }
 },
 "nbformat": 4,
 "nbformat_minor": 4
}
