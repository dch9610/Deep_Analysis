{
 "cells": [
  {
   "cell_type": "code",
   "execution_count": 1,
   "metadata": {},
   "outputs": [],
   "source": [
    "import numpy as np"
   ]
  },
  {
   "cell_type": "code",
   "execution_count": 20,
   "metadata": {},
   "outputs": [],
   "source": [
    "# 기울기 a와 y절편 b\n",
    "a = 2.3\n",
    "b = 79"
   ]
  },
  {
   "cell_type": "code",
   "execution_count": 21,
   "metadata": {},
   "outputs": [],
   "source": [
    "# 입력과 결과\n",
    "x = [2,4,6,8]\n",
    "y = [81, 93, 91, 97]"
   ]
  },
  {
   "cell_type": "code",
   "execution_count": 22,
   "metadata": {},
   "outputs": [],
   "source": [
    "# 입력된 값에 따라 결과를 예측하는 함수\n",
    "def predict(x):\n",
    "    return a * x + b"
   ]
  },
  {
   "cell_type": "code",
   "execution_count": 23,
   "metadata": {},
   "outputs": [
    {
     "data": {
      "text/plain": [
       "[83.6, 88.2, 92.8, 97.4]"
      ]
     },
     "execution_count": 23,
     "metadata": {},
     "output_type": "execute_result"
    }
   ],
   "source": [
    "# 예측 결과를 추출한다.\n",
    "# 예측 결과를 담을 리스트\n",
    "pred_list = []\n",
    "\n",
    "for v1 in x:\n",
    "    a1 = predict(v1)\n",
    "    pred_list.append(a1)\n",
    "pred_list"
   ]
  },
  {
   "cell_type": "code",
   "execution_count": 24,
   "metadata": {},
   "outputs": [
    {
     "name": "stdout",
     "output_type": "stream",
     "text": [
      "[83.6 88.2 92.8 97.4]\n",
      "[81 93 91 97]\n"
     ]
    }
   ],
   "source": [
    "# 계산을 쉽게 하기 위해 ndarray를 생성한다.\n",
    "array1 = np.array(pred_list)\n",
    "array2 = np.array(y)\n",
    "\n",
    "print(array1)\n",
    "print(array2)"
   ]
  },
  {
   "cell_type": "code",
   "execution_count": 25,
   "metadata": {},
   "outputs": [
    {
     "name": "stdout",
     "output_type": "stream",
     "text": [
      "[ 2.6 -4.8  1.8  0.4]\n"
     ]
    }
   ],
   "source": [
    "# 진짜 결과와 예측 결과를 뺀 값을 가져온다.\n",
    "array3 = array1 - array2\n",
    "print(array3)"
   ]
  },
  {
   "cell_type": "code",
   "execution_count": 26,
   "metadata": {},
   "outputs": [
    {
     "name": "stdout",
     "output_type": "stream",
     "text": [
      "[ 6.76 23.04  3.24  0.16]\n"
     ]
    }
   ],
   "source": [
    "# 제곱을 구한다.\n",
    "array4 = array3 ** 2\n",
    "print(array4)"
   ]
  },
  {
   "cell_type": "code",
   "execution_count": 27,
   "metadata": {},
   "outputs": [
    {
     "name": "stdout",
     "output_type": "stream",
     "text": [
      "평균 제곱오차값 : 8.299999999999985\n"
     ]
    }
   ],
   "source": [
    "# 평균을 구한다.\n",
    "mse = array4.mean()\n",
    "print(f'평균 제곱오차값 : {mse}')"
   ]
  }
 ],
 "metadata": {
  "kernelspec": {
   "display_name": "Python 3",
   "language": "python",
   "name": "python3"
  },
  "language_info": {
   "codemirror_mode": {
    "name": "ipython",
    "version": 3
   },
   "file_extension": ".py",
   "mimetype": "text/x-python",
   "name": "python",
   "nbconvert_exporter": "python",
   "pygments_lexer": "ipython3",
   "version": "3.8.5"
  }
 },
 "nbformat": 4,
 "nbformat_minor": 4
}
