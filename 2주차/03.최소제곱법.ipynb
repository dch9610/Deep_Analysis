{
 "cells": [
  {
   "cell_type": "code",
   "execution_count": 1,
   "metadata": {},
   "outputs": [],
   "source": [
    "import numpy as np"
   ]
  },
  {
   "cell_type": "code",
   "execution_count": 2,
   "metadata": {},
   "outputs": [],
   "source": [
    "# 학습할 데이터\n",
    "x = [2,4,6,8]        # 공부한시간\n",
    "y = [81, 93, 91, 97] # 성적"
   ]
  },
  {
   "cell_type": "markdown",
   "metadata": {},
   "source": [
    "### 평균 재곱법 계산공식\n",
    "<img src='image/1.png'>"
   ]
  },
  {
   "cell_type": "code",
   "execution_count": 42,
   "metadata": {},
   "outputs": [],
   "source": [
    "# x와 y의 평균을 구하는 함수\n",
    "def getMean(x,y):\n",
    "    a1 = np.mean(x)\n",
    "    a2 = np.mean(y)\n",
    "    return(a1,a2)"
   ]
  },
  {
   "cell_type": "code",
   "execution_count": 43,
   "metadata": {},
   "outputs": [],
   "source": [
    "# 분자를 구하는 함수\n",
    "def getDividend(x, y, x_mean, y_mean):\n",
    "    x_sum = 0\n",
    "    for idx in range(len(x)):\n",
    "        a1 = (x[idx] - x_mean) * (y[idx] - y_mean) #(x - x평균) * (y-y의 평균)\n",
    "        x_sum = x_sum + a1\n",
    "    return x_sum"
   ]
  },
  {
   "cell_type": "code",
   "execution_count": 50,
   "metadata": {},
   "outputs": [],
   "source": [
    "# 분모를 구하는 함수\n",
    "def getDivider(x, x평균):\n",
    "    a1 = [(i - x_mean)**2 for i in x]\n",
    "    return sum(a1)"
   ]
  },
  {
   "cell_type": "code",
   "execution_count": 52,
   "metadata": {},
   "outputs": [],
   "source": [
    "# 기울기와 절편을 구하는 함수\n",
    "def getAB(dividend, divider, x_mean, y_mean):\n",
    "    a = dividend / divider # 기울기\n",
    "    b = y_mean - (x_mean * a) # y 절편\n",
    "    return a,b"
   ]
  },
  {
   "cell_type": "code",
   "execution_count": 54,
   "metadata": {},
   "outputs": [
    {
     "name": "stdout",
     "output_type": "stream",
     "text": [
      "5.0 90.5\n",
      "46.0\n",
      "20.0\n",
      "기울기 : 2.3, y절편: 79.0\n"
     ]
    }
   ],
   "source": [
    "# x, y 값 평균\n",
    "x_mean, y_mean = getMean(x,y)\n",
    "print(x_mean, y_mean)\n",
    "\n",
    "# 분자 출력\n",
    "dividend = getDividend(x, y, x_mean, y_mean)\n",
    "print(dividend)\n",
    "\n",
    "# 분모 출력\n",
    "divider = getDivider(x,x_mean)\n",
    "print(divider)\n",
    "\n",
    "# 기울기와 y절편 출력\n",
    "A, B = getAB(dividend, divider, x_mean, y_mean)\n",
    "print(f'기울기 : {A}, y절편: {B}')"
   ]
  },
  {
   "cell_type": "code",
   "execution_count": 57,
   "metadata": {},
   "outputs": [
    {
     "name": "stdout",
     "output_type": "stream",
     "text": [
      "83.6\n",
      "88.2\n",
      "92.8\n",
      "97.4\n"
     ]
    },
    {
     "data": {
      "text/plain": [
       "[81, 93, 91, 97]"
      ]
     },
     "execution_count": 57,
     "metadata": {},
     "output_type": "execute_result"
    }
   ],
   "source": [
    "# 예측결과를 출력\n",
    "for v1 in x:\n",
    "    predict = (A * v1) + B\n",
    "    print(predict)\n",
    "    \n",
    "# 실제 결과\n",
    "y"
   ]
  }
 ],
 "metadata": {
  "kernelspec": {
   "display_name": "Python 3",
   "language": "python",
   "name": "python3"
  },
  "language_info": {
   "codemirror_mode": {
    "name": "ipython",
    "version": 3
   },
   "file_extension": ".py",
   "mimetype": "text/x-python",
   "name": "python",
   "nbconvert_exporter": "python",
   "pygments_lexer": "ipython3",
   "version": "3.8.5"
  }
 },
 "nbformat": 4,
 "nbformat_minor": 4
}
