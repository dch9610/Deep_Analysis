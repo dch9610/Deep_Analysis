{
 "cells": [
  {
   "cell_type": "code",
   "execution_count": 1,
   "metadata": {},
   "outputs": [],
   "source": [
    "# 기본\n",
    "import pandas as pd\n",
    "import numpy as np\n",
    "import matplotlib.pyplot as plt\n",
    "import seaborn as sns\n",
    "\n",
    "# KFold (교차 검증을 사용하기 위해)\n",
    "from sklearn.model_selection import KFold\n",
    "from sklearn.model_selection import StratifiedKFold\n",
    "\n",
    "# 교차검증 함수\n",
    "from sklearn.model_selection import cross_val_score\n",
    "from sklearn.model_selection import cross_validate\n",
    "\n",
    "# 학습 데이터와 검증 데이터로 나누는 함수\n",
    "from sklearn.model_selection import train_test_split\n",
    "\n",
    "# 데이터 전처리\n",
    "from sklearn.preprocessing import LabelEncoder\n",
    "from sklearn.preprocessing import StandardScaler\n",
    "\n",
    "# 하이퍼 파라미터 튜닝\n",
    "from sklearn.model_selection import GridSearchCV\n",
    "\n",
    "# 평가 함수\n",
    "from sklearn.metrics import accuracy_score\n",
    "\n",
    "# 머신러닝 알고리즘 - 분류\n",
    "from sklearn.neighbors import KNeighborsClassifier\n",
    "from sklearn.linear_model import LogisticRegression\n",
    "from sklearn.svm import SVC\n",
    "from sklearn.tree import DecisionTreeClassifier\n",
    "from sklearn.ensemble import RandomForestClassifier\n",
    "from sklearn.ensemble import GradientBoostingClassifier\n",
    "from xgboost import XGBClassifier\n",
    "\n",
    "# 머신러닝 알고리즘 - 회귀\n",
    "from sklearn.neighbors import KNeighborsRegressor\n",
    "from sklearn.linear_model import LinearRegression\n",
    "from sklearn.linear_model import Ridge\n",
    "from sklearn.linear_model import Lasso\n",
    "from sklearn.linear_model import ElasticNet\n",
    "from sklearn.svm import SVR\n",
    "from sklearn.tree import DecisionTreeRegressor\n",
    "from sklearn.ensemble import RandomForestRegressor\n",
    "from sklearn.ensemble import GradientBoostingRegressor\n",
    "from xgboost import  XGBRegressor\n",
    "\n",
    "# 머신러닝 알고리즘 - 군집\n",
    "from sklearn.cluster import KMeans\n",
    "from sklearn.cluster import MeanShift\n",
    "\n",
    "# 머신러닝 알고리즘 - 차원축소\n",
    "from sklearn.decomposition import PCA\n",
    "from sklearn.discriminant_analysis import LinearDiscriminantAnalysis\n",
    "\n",
    "# 딥러닝 알고리즘 \n",
    "from keras.models import Sequential\n",
    "from keras.layers import Dense\n",
    "import tensorflow as tf\n",
    "\n",
    "# 저장\n",
    "import pickle\n",
    "\n",
    "# 그래프 설정\n",
    "# plt.rcParams['font.family'] = 'Malgun Gothic'   # 윈도우용\n",
    "plt.rcParams['font.family'] = 'AppleGothic'   # 맥용\n",
    "plt.rcParams['font.size'] = 16                  # 폰트 크기\n",
    "plt.rcParams['figure.figsize'] = 10,8          # 그래프 크기\n",
    "plt.rcParams['axes.unicode_minus'] = False     # - 기호 깨짐 방지\n",
    "\n",
    "\n",
    "# 경고 메시지가 안나오게 하기\n",
    "import warnings\n",
    "warnings.filterwarnings('ignore')"
   ]
  },
  {
   "cell_type": "code",
   "execution_count": 2,
   "metadata": {},
   "outputs": [],
   "source": [
    "# 공부시간 데이터와 성적데이터 리스트 만들기\n",
    "x = [2,4,6,8]\n",
    "y = [81, 93, 91, 97]"
   ]
  },
  {
   "cell_type": "code",
   "execution_count": 3,
   "metadata": {},
   "outputs": [
    {
     "data": {
      "image/png": "[encoded data removed]",
      "text/plain": [
       "<Figure size 720x576 with 1 Axes>"
      ]
     },
     "metadata": {
      "needs_background": "light"
     },
     "output_type": "display_data"
    }
   ],
   "source": [
    "# 그래프로 그리기\n",
    "plt.scatter(x,y)\n",
    "plt.ylabel('성적')\n",
    "plt.xlabel('학습시간')\n",
    "plt.show()"
   ]
  },
  {
   "cell_type": "code",
   "execution_count": 4,
   "metadata": {},
   "outputs": [
    {
     "name": "stdout",
     "output_type": "stream",
     "text": [
      "<class 'numpy.ndarray'>\n"
     ]
    }
   ],
   "source": [
    "# 데이터를 ndarray로 생성\n",
    "x_data = np.array(x)\n",
    "y_data = np.array(y)\n",
    "\n",
    "print(type(x_data))"
   ]
  },
  {
   "cell_type": "code",
   "execution_count": 5,
   "metadata": {},
   "outputs": [],
   "source": [
    "# 임의의 기울기와 절편\n",
    "a = 0\n",
    "b = 0"
   ]
  },
  {
   "cell_type": "code",
   "execution_count": 6,
   "metadata": {},
   "outputs": [],
   "source": [
    "# 학습률 정하기\n",
    "lr = 0.03"
   ]
  },
  {
   "cell_type": "code",
   "execution_count": 7,
   "metadata": {},
   "outputs": [],
   "source": [
    "# 몇번 반복할지 \n",
    "epochs = 2001"
   ]
  },
  {
   "cell_type": "code",
   "execution_count": 8,
   "metadata": {},
   "outputs": [
    {
     "name": "stdout",
     "output_type": "stream",
     "text": [
      "epochs : 0, 기울기 : 27.84, 절편 : 5.43\n",
      "epochs : 100, 기울기 : 7.073858435872394, 절편 : 50.51166161138297\n",
      "epochs : 200, 기울기 : 4.095999380762421, 절편 : 68.28224379060177\n",
      "epochs : 300, 기울기 : 2.9756829100119027, 절편 : 74.96781336233505\n",
      "epochs : 400, 기울기 : 2.5542024233262106, 절편 : 77.48302865233052\n",
      "epochs : 500, 기울기 : 2.3956349066513707, 절편 : 78.42929177728175\n",
      "epochs : 600, 기울기 : 2.3359793398132864, 절편 : 78.78529068727728\n",
      "epochs : 700, 기울기 : 2.313535987420573, 절편 : 78.91922301600925\n",
      "epochs : 800, 기울기 : 2.3050924490666174, 절편 : 78.96961044185792\n",
      "epochs : 900, 기울기 : 2.3019158585694823, 절편 : 78.98856697541248\n",
      "epochs : 1000, 기울기 : 2.3007207758016315, 절편 : 78.99569871827002\n",
      "epochs : 1100, 기울기 : 2.300271167070735, 절편 : 78.99838179089187\n",
      "epochs : 1200, 기울기 : 2.3001020172709508, 절편 : 78.9993912045567\n",
      "epochs : 1300, 기울기 : 2.300038380484562, 절편 : 78.99977096168232\n",
      "epochs : 1400, 기울기 : 2.3000144393354365, 절편 : 78.9999138322214\n",
      "epochs : 1500, 기울기 : 2.3000054323026444, 절편 : 78.99996758234106\n",
      "epochs : 1600, 기울기 : 2.300002043716771, 절편 : 78.99998780397235\n",
      "epochs : 1700, 기울기 : 2.3000007688780433, 절편 : 78.99999541166466\n",
      "epochs : 1800, 기울기 : 2.300000289263884, 절편 : 78.99999827379686\n",
      "epochs : 1900, 기울기 : 2.3000001088255795, 절편 : 78.9999993505755\n",
      "epochs : 2000, 기울기 : 2.3000000409418653, 절편 : 78.99999975567644\n"
     ]
    }
   ],
   "source": [
    "# 경사하강법\n",
    "# 에포크 수 만큼 반복\n",
    "for i in range(epochs):\n",
    "    # 현재의 기울기와 절편을 이용해 값을 예측\n",
    "    y_pred = a * x_data + b\n",
    "    \n",
    "    # 오차를 구한다.\n",
    "    error = y_data - y_pred\n",
    "    \n",
    "    # 오차 함수를 a로 미분한 값\n",
    "    a_diff = -(2 / len(x_data)) * sum(x_data * (error))\n",
    "    \n",
    "    # 오차 함수를 b로 미분한 값\n",
    "    b_diff = -(2 / len(x_data)) * sum(error)\n",
    "    \n",
    "    # 학습률을 곱해 기존의 a, b값을 업데이트 한다.\n",
    "    a = a - lr * a_diff\n",
    "    b = b - lr * b_diff\n",
    "    \n",
    "    # 100회마다 기울기와 절편을 출력한다.\n",
    "    if i % 100 == 0:\n",
    "        print(f'epochs : {i}, 기울기 : {a}, 절편 : {b}')\n",
    "    "
   ]
  },
  {
   "cell_type": "code",
   "execution_count": 9,
   "metadata": {},
   "outputs": [
    {
     "data": {
      "text/plain": [
       "array([83.59999984, 88.19999992, 92.8       , 97.40000008])"
      ]
     },
     "execution_count": 9,
     "metadata": {},
     "output_type": "execute_result"
    }
   ],
   "source": [
    "# 발견한 기울기와 절편을 통해 예측 결과를 추출한다.\n",
    "y_pred = a * x_data + b\n",
    "y_pred"
   ]
  },
  {
   "cell_type": "code",
   "execution_count": 15,
   "metadata": {},
   "outputs": [
    {
     "data": {
      "image/png": "[encoded data removed]",
      "text/plain": [
       "<Figure size 720x576 with 1 Axes>"
      ]
     },
     "metadata": {
      "needs_background": "light"
     },
     "output_type": "display_data"
    }
   ],
   "source": [
    "# 그래프로 그리기\n",
    "plt.scatter(x,y)\n",
    "plt.ylabel('성적')\n",
    "plt.xlabel('학습시간')\n",
    "# 예측 결과\n",
    "plt.scatter(x, y_pred)\n",
    "\n",
    "plt.plot(x, y_pred,'r')\n",
    "plt.show()"
   ]
  }
 ],
 "metadata": {
  "kernelspec": {
   "display_name": "Python 3",
   "language": "python",
   "name": "python3"
  },
  "language_info": {
   "codemirror_mode": {
    "name": "ipython",
    "version": 3
   },
   "file_extension": ".py",
   "mimetype": "text/x-python",
   "name": "python",
   "nbconvert_exporter": "python",
   "pygments_lexer": "ipython3",
   "version": "3.8.5"
  }
 },
 "nbformat": 4,
 "nbformat_minor": 4
}
