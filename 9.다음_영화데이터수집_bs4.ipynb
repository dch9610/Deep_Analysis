{
 "cells": [
  {
   "cell_type": "markdown",
   "metadata": {},
   "source": [
    "- 다음 영화 정보를 수집한다.\n",
    "    - https://movie.daum.net/premovie/released\n",
    "    "
   ]
  },
  {
   "cell_type": "code",
   "execution_count": 1,
   "metadata": {},
   "outputs": [],
   "source": [
    "import bs4\n",
    "import requests\n",
    "import pandas as pd\n",
    "import numpy as np\n",
    "import time\n",
    "import os\n",
    "\n",
    "# 출력화면 초기화 하는 모듈\n",
    "from IPython.display import clear_output"
   ]
  },
  {
   "cell_type": "markdown",
   "metadata": {},
   "source": [
    "### 요청하는 함수"
   ]
  },
  {
   "cell_type": "code",
   "execution_count": 2,
   "metadata": {},
   "outputs": [],
   "source": [
    "def getSource(site):\n",
    "    # 헤더 정보\n",
    "    header_info = {\n",
    "        'User-Agent' : 'Mozilla/5.0 (Windows NT 10.0; Win64; x64) AppleWebKit/537.36 (KHTML, like Gecko) Chrome/88.0.4324.146 Safari/537.36',   \n",
    "    }\n",
    "    \n",
    "    # 요청한다.\n",
    "    response = requests.get(site, headers = header_info)\n",
    "#     print(response.text)\n",
    "\n",
    "    # bs4 객체 생성\n",
    "    soup = bs4.BeautifulSoup(response.text,'lxml')\n",
    "    \n",
    "    return soup"
   ]
  },
  {
   "cell_type": "markdown",
   "metadata": {},
   "source": [
    "### 한 페이지의 데이터를 수집해 저장하는 함수"
   ]
  },
  {
   "cell_type": "code",
   "execution_count": 3,
   "metadata": {},
   "outputs": [],
   "source": [
    "def getData(soup):\n",
    "    # 전체를 가지고 있는 태그를 가지고 온다.\n",
    "    a1 = soup.select_one('#mArticle > ul.list_movie')\n",
    "\n",
    "    # 영화 데이터 가져오기\n",
    "    a2 = a1.select('li')\n",
    "    \n",
    "    # 데이터를 담을 딕셔너리 생성\n",
    "    data_dict ={\n",
    "        '영화제목' :[],\n",
    "        '평점' : [],\n",
    "        '개봉날짜': [],\n",
    "        '예매율' : []\n",
    "    }\n",
    "    \n",
    "    # 영화의 수만큼 반복한다.\n",
    "    for a3 in a2:\n",
    "        a4 = a3.select_one('div.wrap_movie > div > a')\n",
    "        data1 = a4.text.strip()\n",
    "        \n",
    "        # 평점을 가져온다.\n",
    "        a5 = a3.select('div.wrap_movie > span.info_grade > a > span.wrap_grade.grade_netizen > span.num_grade')\n",
    "        b1 = int(a5[0].text)\n",
    "        b2 = int(a5[0].text)\n",
    "        data2 = f'{b1}.{b2}'\n",
    "        \n",
    "        # 개봉날짜와 예매율\n",
    "        a6 = a3.select_one('div.wrap_movie > span.info_state')\n",
    "        \n",
    "        if len(a6.select('span')) == 0:\n",
    "            data31 = a6.text.strip()\n",
    "            \n",
    "        elif len(a6.select('span')) == 1:\n",
    "            b3 = a6.text.split('・')\n",
    "            \n",
    "        data3 = b3[0].strip()\n",
    "        data4 = b3[1].strip()\n",
    "\n",
    "        # 개봉 날짜에서 '개봉일' 문자열 제거\n",
    "        data3 = data3.replace('개봉','').strip()\n",
    "        data3 = data3.replace('재','').strip()\n",
    "        data4 = data4.replace('예매율','').strip()\n",
    "        data4 = data4.replace('%','').strip()\n",
    "        \n",
    "        # 딕셔너리에 데이터담기\n",
    "        data_dict['영화제목'].append(data1)\n",
    "        data_dict['평점'].append(data2)\n",
    "        data_dict['개봉날짜'].append(data3)\n",
    "        data_dict['예매율'].append(data4)\n",
    "        \n",
    "        \n",
    "    # 데이터 프레임 생성\n",
    "    df1 = pd.DataFrame(data_dict)\n",
    "    print(df1)\n",
    "    \n",
    "            \n",
    "            \n",
    "#     # 데이터 프레임 저장\n",
    "#     if os.path.exists('Daum_moive.csv') == False:\n",
    "#         df1.to_csv('Daum_moive.csv', encoding='utf-8-sig', index=False)\n",
    "#     else:\n",
    "#         df1.to_csv('Daum_moive.csv', encoding='utf-8-sig', index=False, header=False, mode='a')\n",
    "    \n",
    "    \n",
    "#         print(data1)\n",
    "#         print(data2)\n",
    "#         print(data3)\n",
    "#         print(data4)\n",
    "#         print('-' * 20)"
   ]
  },
  {
   "cell_type": "code",
   "execution_count": 4,
   "metadata": {},
   "outputs": [
    {
     "name": "stdout",
     "output_type": "stream",
     "text": [
      "         영화제목     평점      개봉날짜  예매율\n",
      "0  마이 미씽 발렌타인    8.8  21.01.14  0.0\n",
      "1     아이 엠 우먼    8.8  21.01.14  0.0\n",
      "2           걸    8.8  21.01.07  0.0\n",
      "3     미드나잇 버스  10.10  21.02.04  0.0\n",
      "4    천사는 바이러스    8.8  21.02.04  0.0\n",
      "5   늑대와 빨간 재킷    4.4  21.02.04  0.0\n"
     ]
    }
   ],
   "source": [
    "site = 'https://movie.daum.net/premovie/released?reservationOnly=N&sort=reservation&page=3'\n",
    "soup = getSource(site)\n",
    "getData(soup)"
   ]
  },
  {
   "cell_type": "markdown",
   "metadata": {},
   "source": [
    "### 다음페이지 존재 여부 확인"
   ]
  },
  {
   "cell_type": "code",
   "execution_count": 5,
   "metadata": {},
   "outputs": [],
   "source": [
    "def getNextPage(soup):\n",
    "    pages = soup.select_one('#mArticle > div.paging_movie > span ')\n",
    "    b = pages.get_text()\n",
    "    b =b.replace('현재페이지','')\n",
    "    total_pages= b.split(\"\\n\")[1:-1]\n",
    "    \n",
    "    for page in total_pages:\n",
    "        return page\n",
    "    \n",
    "#     # next 버튼 태그를 가져온다.\n",
    "#     for i in range(0,len(total_pages)+1):\n",
    "#         a=f'https://movie.daum.net/premovie/released?reservationOnly=N&sort=reservation&page={i}'\n",
    "#         getSource(a)\n",
    "#         soup = getSource(a)\n",
    "#         return soup"
   ]
  },
  {
   "cell_type": "code",
   "execution_count": 6,
   "metadata": {
    "scrolled": false
   },
   "outputs": [
    {
     "data": {
      "text/plain": [
       "'1'"
      ]
     },
     "execution_count": 6,
     "metadata": {},
     "output_type": "execute_result"
    }
   ],
   "source": [
    "getNextPage(soup)"
   ]
  },
  {
   "cell_type": "code",
   "execution_count": 7,
   "metadata": {},
   "outputs": [],
   "source": [
    "# def getNextPage(soup,i):\n",
    "#     pages = soup.select('#mArticle > div.paging_movie > span > a')\n",
    "#     if pages[i].attrs['href'] \n",
    "#     return pages[i].attrs['href']\n",
    "\n",
    "# #     for page in pages:\n",
    "# #         # 만약 가져온 것이 있다면\n",
    "# #         if page != None:\n",
    "# #             # a 태그의 href 속성 값을 가져온다.\n",
    "# #             href = page.attrs['href']\n",
    "# #             return href\n",
    "# #         else:\n",
    "# #             return None"
   ]
  },
  {
   "cell_type": "code",
   "execution_count": 8,
   "metadata": {
    "scrolled": true
   },
   "outputs": [],
   "source": [
    "# site = 'https://movie.daum.net/premovie/released?reservationOnly=N&sort=reservation&page=2'\n",
    "# soup = getSource(site)\n",
    "# getNextPage(soup,1)"
   ]
  },
  {
   "cell_type": "markdown",
   "metadata": {},
   "source": [
    "### 결과확인"
   ]
  },
  {
   "cell_type": "code",
   "execution_count": 9,
   "metadata": {},
   "outputs": [
    {
     "name": "stdout",
     "output_type": "stream",
     "text": [
      "                 영화제목     평점      개봉날짜   예매율\n",
      "0   극장판 귀멸의 칼날: 무한열차편    5.5  21.01.27  31.5\n",
      "1                  소울    8.8  21.01.20  21.3\n",
      "2             어니스트 씨프    6.6  21.02.03   6.2\n",
      "3              해피 투게더    8.8  21.02.04   3.1\n",
      "4                 페어웰    8.8  21.02.04   2.1\n",
      "5           서바이브 더 나잇    5.5  21.02.03   1.8\n",
      "6               칙 파이트  10.10  21.02.04   1.6\n",
      "7             스트레스 제로  10.10  21.02.03   1.4\n",
      "8                북스마트    6.6  21.01.27   1.2\n",
      "9   세상의 모든 디저트: 러브 사라    0.0  21.02.04   1.2\n",
      "10               스푸트닉    4.4  21.02.04   1.1\n",
      "11                세자매    8.8  21.01.27   0.9\n",
      "12     나는 나를 해고하지 않는다    9.9  21.01.28   0.8\n",
      "13               사일런싱    6.6  21.01.28   0.8\n",
      "14                 캐롤    7.7  21.01.27   0.7\n",
      "15   명탐정 코난: 진홍의 수학여행    7.7  21.01.27   0.6\n",
      "16       게임의 법칙: 인간사냥    3.3  21.01.28   0.5\n",
      "17               화양연화    8.8  20.12.24   0.4\n",
      "18       이 안에 외계인이 있다  10.10  21.02.03   0.2\n",
      "19    관계의 가나다에 있는 우리는  10.10  21.01.28   0.1\n"
     ]
    },
    {
     "ename": "KeyboardInterrupt",
     "evalue": "",
     "output_type": "error",
     "traceback": [
      "\u001b[1;31m---------------------------------------------------------------------------\u001b[0m",
      "\u001b[1;31mKeyboardInterrupt\u001b[0m                         Traceback (most recent call last)",
      "\u001b[1;32m<ipython-input-9-1ed8aad6161b>\u001b[0m in \u001b[0;36m<module>\u001b[1;34m\u001b[0m\n\u001b[0;32m      4\u001b[0m \u001b[1;32mwhile\u001b[0m \u001b[1;32mTrue\u001b[0m\u001b[1;33m:\u001b[0m\u001b[1;33m\u001b[0m\u001b[1;33m\u001b[0m\u001b[0m\n\u001b[0;32m      5\u001b[0m     \u001b[1;31m# 딜레이\u001b[0m\u001b[1;33m\u001b[0m\u001b[1;33m\u001b[0m\u001b[1;33m\u001b[0m\u001b[0m\n\u001b[1;32m----> 6\u001b[1;33m     \u001b[0mtime\u001b[0m\u001b[1;33m.\u001b[0m\u001b[0msleep\u001b[0m\u001b[1;33m(\u001b[0m\u001b[1;36m2\u001b[0m\u001b[1;33m)\u001b[0m\u001b[1;33m\u001b[0m\u001b[1;33m\u001b[0m\u001b[0m\n\u001b[0m\u001b[0;32m      7\u001b[0m \u001b[1;33m\u001b[0m\u001b[0m\n\u001b[0;32m      8\u001b[0m     \u001b[1;31m# 기존 출력된거 정리\u001b[0m\u001b[1;33m\u001b[0m\u001b[1;33m\u001b[0m\u001b[1;33m\u001b[0m\u001b[0m\n",
      "\u001b[1;31mKeyboardInterrupt\u001b[0m: "
     ]
    }
   ],
   "source": [
    "site = 'https://movie.daum.net/premovie/released?reservationOnly=N&sort=reservation&page='\n",
    "page = '1'\n",
    "\n",
    "while True:\n",
    "    # 딜레이\n",
    "    time.sleep(2)\n",
    "    \n",
    "    # 기존 출력된거 정리\n",
    "    clear_output(wait=True)\n",
    "    \n",
    "    # 페이지 요청\n",
    "    soup = getSource(site+page)\n",
    "    \n",
    "    # 데이터 수집 및 저장\n",
    "    getData(soup)\n",
    "    \n",
    "    #  다음 페이지 이동\n",
    "    page = getNextPage(soup)\n",
    "    \n",
    "    # 다음페이지가 없다면 중단\n",
    "    if page == None:\n",
    "        print('수집완료')\n",
    "        break"
   ]
  },
  {
   "cell_type": "code",
   "execution_count": null,
   "metadata": {},
   "outputs": [],
   "source": []
  },
  {
   "cell_type": "code",
   "execution_count": null,
   "metadata": {},
   "outputs": [],
   "source": []
  }
 ],
 "metadata": {
  "kernelspec": {
   "display_name": "Python 3",
   "language": "python",
   "name": "python3"
  },
  "language_info": {
   "codemirror_mode": {
    "name": "ipython",
    "version": 3
   },
   "file_extension": ".py",
   "mimetype": "text/x-python",
   "name": "python",
   "nbconvert_exporter": "python",
   "pygments_lexer": "ipython3",
   "version": "3.8.5"
  }
 },
 "nbformat": 4,
 "nbformat_minor": 4
}
