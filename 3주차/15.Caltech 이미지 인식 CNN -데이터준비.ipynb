{
 "cells": [
  {
   "cell_type": "markdown",
   "metadata": {},
   "source": [
    "- 색상이 있는 이미지를 검색한다.\n",
    "- 본 파일에서는 딥러닝 하기전에 이미지 전처리 작업을 한다.\n",
    "- 이미지의 크기가 모두 달라서 머신러닝으로 다루기가 어렵다.\n",
    "- 일정한 크기로 새 이미지를 만들고 24비트 RGB 컬러 형태로 변환하여 모든 이미지의 크기와 색감을 통일 시킨다.\n",
    "- 그리고 머신러닝을 쉽게 하기위해 ndarray 형태로 변환한 다음 이것을 파일로 저장한다."
   ]
  },
  {
   "cell_type": "code",
   "execution_count": 12,
   "metadata": {},
   "outputs": [],
   "source": [
    "from PIL import Image\n",
    "import glob\n",
    "import os\n",
    "import numpy as np\n",
    "from sklearn.model_selection import train_test_split"
   ]
  },
  {
   "cell_type": "code",
   "execution_count": 13,
   "metadata": {},
   "outputs": [],
   "source": [
    "# 하위에 있는 폴더들의 목록을 가져온다.\n",
    "categories = list(os.walk('../images/101_ObjectCategories/'))[0][1]"
   ]
  },
  {
   "cell_type": "code",
   "execution_count": 14,
   "metadata": {},
   "outputs": [],
   "source": [
    "# 이미지 파일들을 가지고 있는 경로의 루트\n",
    "caltech_dir = '../images/101_ObjectCategories'\n",
    "\n",
    "# 전체 카테고리의 개수\n",
    "nb_class = len(categories)"
   ]
  },
  {
   "cell_type": "code",
   "execution_count": 15,
   "metadata": {},
   "outputs": [],
   "source": [
    "# 이미지의 크기\n",
    "image_w = 64\n",
    "image_h = 64\n",
    "pixels = image_w * image_h * 3 # * 3 컬러이미지"
   ]
  },
  {
   "cell_type": "code",
   "execution_count": 19,
   "metadata": {},
   "outputs": [],
   "source": [
    "# 이미지 변형\n",
    "X = []\n",
    "Y = []\n",
    "\n",
    "# 반복문\n",
    "for idx, cat in enumerate(categories):\n",
    "    # print(idx, cat)\n",
    "    \n",
    "    # 이미지의 개수만큼의 0을 채운 리스트를 생성한다.\n",
    "    label = [0 for i in range(nb_class)]\n",
    "    # print(label)\n",
    "    \n",
    "    # 현재 번째의 값을 1로 채워준다.\n",
    "    label[idx] = 1\n",
    "    \n",
    "    # 읽어올 이미지 경로\n",
    "    image_dir = caltech_dir + '/' + cat\n",
    "    \n",
    "    # 이미지 파일\n",
    "    # 해당 경로에 있는 모든 이미지 파일들의 목록을 가져온다.\n",
    "    files = glob.glob(image_dir + '/*.jpg')\n",
    "    # print(files)\n",
    "    \n",
    "    # 파일의 수만큼 반복한다.\n",
    "    for i, f in enumerate(files):\n",
    "        # 이미지를 읽어온다,\n",
    "        img = Image.open(f)\n",
    "        # 24bit RGB로 변환\n",
    "        img = img.convert('RGB')\n",
    "        # 이미지 크기 조정\n",
    "        img = img.resize((image_w, image_h))\n",
    "        # 행렬로 변환\n",
    "        data = np.asarray(img)\n",
    "        # 리스트에 담는다.\n",
    "        X.append(data)\n",
    "        Y.append(label)\n",
    "        \n",
    "        # 10회마다 한번씩 출력한다.\n",
    "#         if i % 10 ==0:\n",
    "#             print(i, '\\n', data)\n",
    "\n",
    "X = np.array(X)\n",
    "Y = np.array(Y)"
   ]
  },
  {
   "cell_type": "code",
   "execution_count": 20,
   "metadata": {},
   "outputs": [
    {
     "name": "stderr",
     "output_type": "stream",
     "text": [
      "C:\\Users\\pnu\\anaconda3\\lib\\site-packages\\numpy\\core\\_asarray.py:136: VisibleDeprecationWarning: Creating an ndarray from ragged nested sequences (which is a list-or-tuple of lists-or-tuples-or ndarrays with different lengths or shapes) is deprecated. If you meant to do this, you must specify 'dtype=object' when creating the ndarray\n",
      "  return array(a, dtype, copy=False, order=order, subok=True)\n"
     ]
    }
   ],
   "source": [
    "# 학습용과 검증용으로 나눈다.\n",
    "X_train, X_test, Y_train, Y_test = train_test_split(X,Y)\n",
    "\n",
    "# 하나로 합친다.\n",
    "xy = (X_train, X_test, Y_train, Y_test)\n",
    "\n",
    "# 저장한다.\n",
    "np.save('../images/caltech_obj_101.npy', xy)"
   ]
  }
 ],
 "metadata": {
  "kernelspec": {
   "display_name": "Python 3",
   "language": "python",
   "name": "python3"
  },
  "language_info": {
   "codemirror_mode": {
    "name": "ipython",
    "version": 3
   },
   "file_extension": ".py",
   "mimetype": "text/x-python",
   "name": "python",
   "nbconvert_exporter": "python",
   "pygments_lexer": "ipython3",
   "version": "3.8.5"
  }
 },
 "nbformat": 4,
 "nbformat_minor": 4
}
