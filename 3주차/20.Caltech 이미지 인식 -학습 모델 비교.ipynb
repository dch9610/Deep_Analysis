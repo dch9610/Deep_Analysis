{
 "cells": [
  {
   "cell_type": "code",
   "execution_count": 1,
   "metadata": {},
   "outputs": [],
   "source": [
    "# 기본\n",
    "import pandas as pd\n",
    "import numpy as np\n",
    "import matplotlib.pyplot as plt\n",
    "import seaborn as sns\n",
    "plt.style.use('seaborn-whitegrid') # sns에 흰색 그리드 유지\n",
    "import missingno # 결측치 시각화\n",
    "\n",
    "# KFold (교차 검증을 사용하기 위해)\n",
    "from sklearn.model_selection import KFold\n",
    "from sklearn.model_selection import StratifiedKFold\n",
    "\n",
    "# 교차검증 함수\n",
    "from sklearn.model_selection import cross_val_score\n",
    "from sklearn.model_selection import cross_validate\n",
    "\n",
    "# 학습 데이터와 검증 데이터로 나누는 함수\n",
    "from sklearn.model_selection import train_test_split\n",
    "\n",
    "# 데이터 전처리\n",
    "from sklearn.preprocessing import LabelEncoder\n",
    "from sklearn.preprocessing import StandardScaler\n",
    "\n",
    "# 하이퍼 파라미터 튜닝\n",
    "from sklearn.model_selection import GridSearchCV\n",
    "\n",
    "# 평가 함수\n",
    "from sklearn.metrics import accuracy_score\n",
    "\n",
    "# 머신러닝 알고리즘 - 분류\n",
    "from sklearn.neighbors import KNeighborsClassifier\n",
    "from sklearn.linear_model import LogisticRegression\n",
    "from sklearn.svm import SVC\n",
    "from sklearn.tree import DecisionTreeClassifier\n",
    "from sklearn.ensemble import RandomForestClassifier\n",
    "from sklearn.ensemble import GradientBoostingClassifier\n",
    "from sklearn.ensemble import ExtraTreesClassifier\n",
    "from sklearn.ensemble import AdaBoostClassifier\n",
    "from sklearn.gaussian_process import GaussianProcessClassifier\n",
    "from sklearn.naive_bayes import GaussianNB\n",
    "from sklearn.ensemble import BaggingClassifier\n",
    "from sklearn.ensemble import VotingClassifier\n",
    "from xgboost import XGBClassifier\n",
    "\n",
    "\n",
    "# 머신러닝 알고리즘 - 회귀\n",
    "from sklearn.neighbors import KNeighborsRegressor\n",
    "from sklearn.linear_model import LinearRegression\n",
    "from sklearn.linear_model import Ridge\n",
    "from sklearn.linear_model import Lasso\n",
    "from sklearn.linear_model import ElasticNet\n",
    "from sklearn.svm import SVR\n",
    "from sklearn.tree import DecisionTreeRegressor\n",
    "from sklearn.ensemble import RandomForestRegressor\n",
    "from sklearn.ensemble import GradientBoostingRegressor\n",
    "from xgboost import  XGBRegressor\n",
    "\n",
    "# 머신러닝 알고리즘 - 군집\n",
    "from sklearn.cluster import KMeans\n",
    "from sklearn.cluster import MeanShift\n",
    "\n",
    "# 머신러닝 알고리즘 - 차원축소\n",
    "from sklearn.decomposition import PCA\n",
    "from sklearn.discriminant_analysis import LinearDiscriminantAnalysis\n",
    "\n",
    "# 다중분류를 위한 원핫 인코더\n",
    "from keras.utils import to_categorical\n",
    "\n",
    "# 학습 자동 중단\n",
    "from keras.callbacks import EarlyStopping\n",
    "\n",
    "# 모델 저장\n",
    "from keras.callbacks import ModelCheckpoint\n",
    "\n",
    "# 저장된 딥러닝 모델 불러오기\n",
    "from keras.models import load_model\n",
    "\n",
    "# 딥러닝\n",
    "from keras.models import Sequential\n",
    "from keras.layers import Dense\n",
    "import tensorflow as tf\n",
    "\n",
    "from keras.utils import np_utils\n",
    "from keras.layers import Dropout\n",
    "from keras.layers import Flatten\n",
    "from keras.layers import Conv2D\n",
    "from keras.layers import MaxPooling2D\n",
    "from keras.layers import Embedding\n",
    "from keras.layers import LSTM\n",
    "from keras.layers import Activation\n",
    "from keras.layers import Conv1D\n",
    "from keras.layers import MaxPooling1D\n",
    "from keras.layers import LeakyReLU\n",
    "from keras.layers import BatchNormalization\n",
    "from keras.layers import Reshape\n",
    "from keras.layers import UpSampling2D\n",
    "from keras.layers import Input\n",
    "from keras.models import Model\n",
    "\n",
    "# 이미지 조작을 위한\n",
    "from PIL import Image\n",
    "\n",
    "import os, glob\n",
    "\n",
    "# 이미지 생성자\n",
    "from keras.preprocessing.image import ImageDataGenerator\n",
    "\n",
    "# VGG16 모델 (이미 학습이 완료되어 있는 이미지 인식 모델)\n",
    "from keras.applications import VGG16\n",
    "\n",
    "# 자연어 처리\n",
    "from keras.preprocessing.text import Tokenizer\n",
    "from keras.preprocessing.text import text_to_word_sequence\n",
    "from keras.preprocessing.sequence import pad_sequences\n",
    "\n",
    "# 전처리, 활성 함수 셋팅\n",
    "from keras import optimizers, initializers, regularizers, metrics\n",
    "\n",
    "# 저장\n",
    "import pickle\n",
    "\n",
    "# 시간 모듈\n",
    "import time\n",
    "\n",
    "# 그래프 설정\n",
    "plt.rcParams['font.family'] = 'Malgun Gothic'   # 윈도우용\n",
    "# plt.rcParams['font.family'] = 'AppleGothic'   # 맥용\n",
    "plt.rcParams['font.size'] = 10                 # 폰트 크기\n",
    "plt.rcParams['figure.figsize'] = 15,8          # 그래프 크기\n",
    "plt.rcParams['axes.unicode_minus'] = False     # - 기호 깨짐 방지\n",
    "\n",
    "\n",
    "# 경고 메시지가 안나오게 하기\n",
    "import warnings\n",
    "warnings.filterwarnings('ignore')\n",
    "\n",
    "# gpu 사용 초기화 및 할당\n",
    "gpus= tf.config.experimental.list_physical_devices('GPU')\n",
    "tf.config.experimental.set_memory_growth(gpus[0], True)"
   ]
  },
  {
   "cell_type": "code",
   "execution_count": 7,
   "metadata": {},
   "outputs": [],
   "source": [
    "root_dir = '../images/101_new/'\n",
    "\n",
    "# 폴더의 이름을 가져와 결과데이터를 구성한다.\n",
    "a1 = os.walk(root_dir)\n",
    "categories = list(a1)[0][1]\n",
    "nb_classes = len(categories)"
   ]
  },
  {
   "cell_type": "code",
   "execution_count": 8,
   "metadata": {},
   "outputs": [],
   "source": [
    "# 데이터 읽어오기.\n",
    "# 이미지데이터 확장전\n",
    "X_train, X_test, y_train, y_test = np.load('../images/caltech_new.npy', allow_pickle = True)"
   ]
  },
  {
   "cell_type": "code",
   "execution_count": 9,
   "metadata": {},
   "outputs": [],
   "source": [
    "# 데이터 정규화 (0~1사이로 조정)\n",
    "X_train = X_train.astype('float')/255\n",
    "X_test  = X_test.astype('float')/255"
   ]
  },
  {
   "cell_type": "code",
   "execution_count": 10,
   "metadata": {},
   "outputs": [],
   "source": [
    "# 결과 데이터 -원핫 인코딩\n",
    "y_train = np_utils.to_categorical(y_train, nb_classes)\n",
    "y_test = np_utils.to_categorical(y_test, nb_classes)"
   ]
  },
  {
   "cell_type": "code",
   "execution_count": 11,
   "metadata": {},
   "outputs": [],
   "source": [
    "# 모델 복원하기\n",
    "\n",
    "# 확장전 모델\n",
    "model1 = load_model('models/Caltech/학습1.hdf5')\n",
    "# 확장후 모델\n",
    "model2 = load_model('models/Caltech/학습2.hdf5')"
   ]
  },
  {
   "cell_type": "markdown",
   "metadata": {},
   "source": [
    "### 변형된 이미지가 없는 데이터를 학습한 모델"
   ]
  },
  {
   "cell_type": "code",
   "execution_count": 13,
   "metadata": {},
   "outputs": [
    {
     "name": "stdout",
     "output_type": "stream",
     "text": [
      "72/72 [==============================] - 0s 4ms/step - loss: 1.3606 - accuracy: 0.9029\n",
      "손실 : 1.3606370687484741\n",
      "정확도 : 0.9029296040534973\n"
     ]
    }
   ],
   "source": [
    "score1= model1.evaluate(X_test, y_test)\n",
    "print(f'손실 : {score1[0]}')\n",
    "print(f'정확도 : {score1[1]}')"
   ]
  },
  {
   "cell_type": "markdown",
   "metadata": {},
   "source": [
    "### 변형된 이미지가 포함된 데이터를 학습한 모델"
   ]
  },
  {
   "cell_type": "code",
   "execution_count": 14,
   "metadata": {},
   "outputs": [
    {
     "name": "stdout",
     "output_type": "stream",
     "text": [
      "72/72 [==============================] - 1s 4ms/step - loss: 0.0322 - accuracy: 0.9965\n",
      "손실 : 0.032204657793045044\n",
      "정확도 : 0.9965019822120667\n"
     ]
    }
   ],
   "source": [
    "score2= model2.evaluate(X_test, y_test)\n",
    "print(f'손실 : {score2[0]}')\n",
    "print(f'정확도 : {score2[1]}')"
   ]
  }
 ],
 "metadata": {
  "kernelspec": {
   "display_name": "Python 3",
   "language": "python",
   "name": "python3"
  },
  "language_info": {
   "codemirror_mode": {
    "name": "ipython",
    "version": 3
   },
   "file_extension": ".py",
   "mimetype": "text/x-python",
   "name": "python",
   "nbconvert_exporter": "python",
   "pygments_lexer": "ipython3",
   "version": "3.8.5"
  }
 },
 "nbformat": 4,
 "nbformat_minor": 4
}
