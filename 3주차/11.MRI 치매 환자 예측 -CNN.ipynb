{
 "cells": [
  {
   "cell_type": "code",
   "execution_count": 1,
   "metadata": {},
   "outputs": [],
   "source": [
    "# 기본\n",
    "import pandas as pd\n",
    "import numpy as np\n",
    "import matplotlib.pyplot as plt\n",
    "import seaborn as sns\n",
    "plt.style.use('seaborn-whitegrid') # sns에 흰색 그리드 유지\n",
    "import missingno # 결측치 시각화\n",
    "\n",
    "# KFold (교차 검증을 사용하기 위해)\n",
    "from sklearn.model_selection import KFold\n",
    "from sklearn.model_selection import StratifiedKFold\n",
    "\n",
    "# 교차검증 함수\n",
    "from sklearn.model_selection import cross_val_score\n",
    "from sklearn.model_selection import cross_validate\n",
    "\n",
    "# 학습 데이터와 검증 데이터로 나누는 함수\n",
    "from sklearn.model_selection import train_test_split\n",
    "\n",
    "# 데이터 전처리\n",
    "from sklearn.preprocessing import LabelEncoder\n",
    "from sklearn.preprocessing import StandardScaler\n",
    "\n",
    "# 하이퍼 파라미터 튜닝\n",
    "from sklearn.model_selection import GridSearchCV\n",
    "\n",
    "# 평가 함수\n",
    "from sklearn.metrics import accuracy_score\n",
    "\n",
    "# 머신러닝 알고리즘 - 분류\n",
    "from sklearn.neighbors import KNeighborsClassifier\n",
    "from sklearn.linear_model import LogisticRegression\n",
    "from sklearn.svm import SVC\n",
    "from sklearn.tree import DecisionTreeClassifier\n",
    "from sklearn.ensemble import RandomForestClassifier\n",
    "from sklearn.ensemble import GradientBoostingClassifier\n",
    "from sklearn.ensemble import ExtraTreesClassifier\n",
    "from sklearn.ensemble import AdaBoostClassifier\n",
    "from sklearn.gaussian_process import GaussianProcessClassifier\n",
    "from sklearn.naive_bayes import GaussianNB\n",
    "from sklearn.ensemble import BaggingClassifier\n",
    "from sklearn.ensemble import VotingClassifier\n",
    "from xgboost import XGBClassifier\n",
    "\n",
    "\n",
    "# 머신러닝 알고리즘 - 회귀\n",
    "from sklearn.neighbors import KNeighborsRegressor\n",
    "from sklearn.linear_model import LinearRegression\n",
    "from sklearn.linear_model import Ridge\n",
    "from sklearn.linear_model import Lasso\n",
    "from sklearn.linear_model import ElasticNet\n",
    "from sklearn.svm import SVR\n",
    "from sklearn.tree import DecisionTreeRegressor\n",
    "from sklearn.ensemble import RandomForestRegressor\n",
    "from sklearn.ensemble import GradientBoostingRegressor\n",
    "from xgboost import  XGBRegressor\n",
    "\n",
    "# 머신러닝 알고리즘 - 군집\n",
    "from sklearn.cluster import KMeans\n",
    "from sklearn.cluster import MeanShift\n",
    "\n",
    "# 머신러닝 알고리즘 - 차원축소\n",
    "from sklearn.decomposition import PCA\n",
    "from sklearn.discriminant_analysis import LinearDiscriminantAnalysis\n",
    "\n",
    "# 다중분류를 위한 원핫 인코더\n",
    "from keras.utils import to_categorical\n",
    "\n",
    "# 학습 자동 중단\n",
    "from keras.callbacks import EarlyStopping\n",
    "\n",
    "# 모델 저장\n",
    "from keras.callbacks import ModelCheckpoint\n",
    "\n",
    "# 저장된 딥러닝 모델 불러오기\n",
    "from keras.models import load_model\n",
    "\n",
    "# 딥러닝\n",
    "from keras.models import Sequential\n",
    "from keras.layers import Dense\n",
    "import tensorflow as tf\n",
    "\n",
    "from keras.utils import np_utils\n",
    "from keras.layers import Dropout\n",
    "from keras.layers import Flatten\n",
    "from keras.layers import Conv2D\n",
    "from keras.layers import MaxPooling2D\n",
    "from keras.layers import Embedding\n",
    "from keras.layers import LSTM\n",
    "from keras.layers import Activation\n",
    "from keras.layers import Conv1D\n",
    "from keras.layers import MaxPooling1D\n",
    "from keras.layers import LeakyReLU\n",
    "from keras.layers import BatchNormalization\n",
    "from keras.layers import Reshape\n",
    "from keras.layers import UpSampling2D\n",
    "from keras.layers import Input\n",
    "from keras.models import Model\n",
    "\n",
    "# 이미지 생성자\n",
    "from keras.preprocessing.image import ImageDataGenerator\n",
    "\n",
    "# 자연어 처리\n",
    "from keras.preprocessing.text import Tokenizer\n",
    "from keras.preprocessing.text import text_to_word_sequence\n",
    "from keras.preprocessing.sequence import pad_sequences\n",
    "\n",
    "# 전처리, 활성 함수 셋팅\n",
    "from keras import optimizers, initializers, regularizers, metrics\n",
    "\n",
    "# 저장\n",
    "import pickle\n",
    "\n",
    "# 시간 모듈\n",
    "import time\n",
    "\n",
    "# 그래프 설정\n",
    "plt.rcParams['font.family'] = 'Malgun Gothic'   # 윈도우용\n",
    "# plt.rcParams['font.family'] = 'AppleGothic'   # 맥용\n",
    "plt.rcParams['font.size'] = 10                 # 폰트 크기\n",
    "plt.rcParams['figure.figsize'] = 10,8          # 그래프 크기\n",
    "plt.rcParams['axes.unicode_minus'] = False     # - 기호 깨짐 방지\n",
    "\n",
    "\n",
    "# 경고 메시지가 안나오게 하기\n",
    "import warnings\n",
    "warnings.filterwarnings('ignore')\n",
    "\n",
    "# gpu 사용 초기화 및 할당\n",
    "gpus= tf.config.experimental.list_physical_devices('GPU')\n",
    "tf.config.experimental.set_memory_growth(gpus[0], True)"
   ]
  },
  {
   "cell_type": "code",
   "execution_count": 2,
   "metadata": {},
   "outputs": [],
   "source": [
    "# seed 설정\n",
    "np.random.seed(3)\n",
    "tf.random.set_seed(3)"
   ]
  },
  {
   "cell_type": "code",
   "execution_count": 3,
   "metadata": {},
   "outputs": [],
   "source": [
    "# 학습용 데이터 준비\n",
    "# 이미지를 읽을 때 적용할 옵션 설정\n",
    "# rescale : 읽어온 이미지 데이터를 0 ~ 1 사이로 모두 변환 (스케일링)\n",
    "# horizontal_flip : 세로를 기준으로 좌우를 똑같이 맞춘다.\n",
    "# width_shift_range : 전체 크기의 10% 범위에서 좌우로 이동한다.\n",
    "# height_shift_range : 전체 크기의 10% 범위에서 위,아래로 이동한다.\n",
    "# fill_mode = 이미지 전체를 꽉 채울 형태\n",
    "\n",
    "train_datagen = ImageDataGenerator(rescale = 1./ 255,\n",
    "                                  horizontal_flip=True,\n",
    "                                  width_shift_range=0.1,\n",
    "                                  height_shift_range=0.1,\n",
    "                                  fill_mode='nearest')"
   ]
  },
  {
   "cell_type": "code",
   "execution_count": 4,
   "metadata": {},
   "outputs": [
    {
     "name": "stdout",
     "output_type": "stream",
     "text": [
      "Found 160 images belonging to 2 classes.\n"
     ]
    }
   ],
   "source": [
    "train_generator = train_datagen.flow_from_directory(\n",
    "    '../images/train',              # 읽어올 이미지가 있는 폴더\n",
    "    target_size = (150,150),        # 읽어올 이미지의 크기\n",
    "    batch_size = 5,                 # 한번에 읽어올 크기\n",
    "    class_mode='binary')            # 결과 데이터 2진"
   ]
  },
  {
   "cell_type": "code",
   "execution_count": 5,
   "metadata": {},
   "outputs": [],
   "source": [
    "# 검증용 데이터\n",
    "test_datagen = ImageDataGenerator(rescale = 1./255)"
   ]
  },
  {
   "cell_type": "code",
   "execution_count": 6,
   "metadata": {},
   "outputs": [
    {
     "name": "stdout",
     "output_type": "stream",
     "text": [
      "Found 120 images belonging to 2 classes.\n"
     ]
    }
   ],
   "source": [
    "test_generator = test_datagen.flow_from_directory(\n",
    "    '../images/test',               # 읽어올 이미지가 있는 폴더\n",
    "    target_size = (150,150),        # 읽어올 이미지의 크기\n",
    "    batch_size = 5,                 # 한번에 읽어올 크기\n",
    "    class_mode='binary')            # 결과 데이터 2진"
   ]
  },
  {
   "cell_type": "code",
   "execution_count": 8,
   "metadata": {},
   "outputs": [],
   "source": [
    "# 모델 설정\n",
    "model = Sequential()\n",
    "model.add(Conv2D(32,(3,3), input_shape=(150,150,3)))\n",
    "model.add(Activation('relu'))\n",
    "model.add(MaxPooling2D(pool_size=(2,2)))\n",
    "\n",
    "model.add(Conv2D(32, (3,3)))\n",
    "model.add(Activation('relu'))\n",
    "model.add(MaxPooling2D(pool_size=(2,2)))\n",
    "\n",
    "model.add(Conv2D(64,(3,3)))\n",
    "model.add(Activation('relu'))\n",
    "model.add(MaxPooling2D(pool_size=(2,2)))\n",
    "\n",
    "model.add(Flatten())\n",
    "model.add(Dense(64))\n",
    "model.add(Activation('relu'))\n",
    "model.add(Dropout(0.5))\n",
    "model.add(Dense(2))\n",
    "model.add(Activation('softmax'))"
   ]
  },
  {
   "cell_type": "code",
   "execution_count": 11,
   "metadata": {},
   "outputs": [],
   "source": [
    "# 컴파일\n",
    "model.compile(loss='sparse_categorical_crossentropy', optimizer = 'adam', metrics = ['accuracy'])"
   ]
  },
  {
   "cell_type": "code",
   "execution_count": 12,
   "metadata": {},
   "outputs": [
    {
     "name": "stdout",
     "output_type": "stream",
     "text": [
      "Epoch 1/20\n",
      "32/32 [==============================] - 3s 32ms/step - loss: 0.7252 - accuracy: 0.3560 - val_loss: 0.6932 - val_accuracy: 0.5000\n",
      "Epoch 2/20\n",
      "32/32 [==============================] - 1s 25ms/step - loss: 0.6927 - accuracy: 0.5848 - val_loss: 0.6920 - val_accuracy: 0.5000\n",
      "Epoch 3/20\n",
      "32/32 [==============================] - 1s 25ms/step - loss: 0.6947 - accuracy: 0.4516 - val_loss: 0.6928 - val_accuracy: 0.6083\n",
      "Epoch 4/20\n",
      "32/32 [==============================] - 1s 25ms/step - loss: 0.6928 - accuracy: 0.5498 - val_loss: 0.6908 - val_accuracy: 0.5000\n",
      "Epoch 5/20\n",
      "32/32 [==============================] - 1s 25ms/step - loss: 0.6952 - accuracy: 0.5266 - val_loss: 0.6870 - val_accuracy: 0.5000\n",
      "Epoch 6/20\n",
      "32/32 [==============================] - 1s 25ms/step - loss: 0.6810 - accuracy: 0.6073 - val_loss: 0.6917 - val_accuracy: 0.5000\n",
      "Epoch 7/20\n",
      "32/32 [==============================] - 1s 25ms/step - loss: 0.6917 - accuracy: 0.5626 - val_loss: 0.6869 - val_accuracy: 0.5833\n",
      "Epoch 8/20\n",
      "32/32 [==============================] - 1s 25ms/step - loss: 0.6841 - accuracy: 0.5599 - val_loss: 0.6697 - val_accuracy: 0.6583\n",
      "Epoch 9/20\n",
      "32/32 [==============================] - 1s 25ms/step - loss: 0.6945 - accuracy: 0.4913 - val_loss: 0.6920 - val_accuracy: 0.5000\n",
      "Epoch 10/20\n",
      "32/32 [==============================] - 1s 26ms/step - loss: 0.6651 - accuracy: 0.6568 - val_loss: 0.6298 - val_accuracy: 0.7250\n",
      "Epoch 11/20\n",
      "32/32 [==============================] - 1s 25ms/step - loss: 0.6860 - accuracy: 0.5639 - val_loss: 0.6340 - val_accuracy: 0.5333\n",
      "Epoch 12/20\n",
      "32/32 [==============================] - 1s 25ms/step - loss: 0.6141 - accuracy: 0.6925 - val_loss: 0.5383 - val_accuracy: 0.6833\n",
      "Epoch 13/20\n",
      "32/32 [==============================] - 1s 26ms/step - loss: 0.5649 - accuracy: 0.7492 - val_loss: 0.4126 - val_accuracy: 0.9333\n",
      "Epoch 14/20\n",
      "32/32 [==============================] - 1s 25ms/step - loss: 0.5139 - accuracy: 0.7666 - val_loss: 0.5468 - val_accuracy: 0.6833\n",
      "Epoch 15/20\n",
      "32/32 [==============================] - 1s 25ms/step - loss: 0.4930 - accuracy: 0.7850 - val_loss: 0.3106 - val_accuracy: 0.8583\n",
      "Epoch 16/20\n",
      "32/32 [==============================] - 1s 26ms/step - loss: 0.3477 - accuracy: 0.8476 - val_loss: 0.1871 - val_accuracy: 0.9500\n",
      "Epoch 17/20\n",
      "32/32 [==============================] - 1s 25ms/step - loss: 0.2766 - accuracy: 0.9131 - val_loss: 0.1934 - val_accuracy: 0.8917\n",
      "Epoch 18/20\n",
      "32/32 [==============================] - 1s 26ms/step - loss: 0.2340 - accuracy: 0.8662 - val_loss: 0.1278 - val_accuracy: 0.9500\n",
      "Epoch 19/20\n",
      "32/32 [==============================] - 1s 25ms/step - loss: 0.2587 - accuracy: 0.8862 - val_loss: 0.1268 - val_accuracy: 0.9667\n",
      "Epoch 20/20\n",
      "32/32 [==============================] - 1s 25ms/step - loss: 0.2984 - accuracy: 0.9227 - val_loss: 0.1463 - val_accuracy: 0.9667\n"
     ]
    }
   ],
   "source": [
    "# 모델 학습\n",
    "history = model.fit_generator(\n",
    "    train_generator,\n",
    "    steps_per_epoch=len(train_generator),\n",
    "    epochs=20,\n",
    "    validation_data=test_generator,\n",
    "    validation_steps=len(test_generator)\n",
    ")"
   ]
  },
  {
   "cell_type": "code",
   "execution_count": 22,
   "metadata": {},
   "outputs": [
    {
     "data": {
      "image/png": "[encoded data removed]",
      "text/plain": [
       "<Figure size 720x576 with 1 Axes>"
      ]
     },
     "metadata": {},
     "output_type": "display_data"
    }
   ],
   "source": [
    "# 결과를 그래프로 표현\n",
    "acc = history.history['accuracy'] # 학습데이터 값\n",
    "val_acc = history.history['val_accuracy'] # 검증데이터값\n",
    "\n",
    "y_loss = history.history['loss']\n",
    "y_vloss = history.history['val_loss']\n",
    "\n",
    "x_len = np.arange(len(y_loss))\n",
    "plt.plot(x_len, acc, marker ='.', c='red', label = '학습 정확도')\n",
    "plt.plot(x_len, val_acc, marker ='.', c='lightcoral', label = '검증 정확도')\n",
    "plt.plot(x_len, y_loss, marker ='.', c='blue', label = '학습 손실률')\n",
    "plt.plot(x_len, y_vloss, marker ='.', c='cornflowerblue', label = '검증 손실률')\n",
    "\n",
    "plt.legend(loc='upper left')\n",
    "plt.show()"
   ]
  }
 ],
 "metadata": {
  "kernelspec": {
   "display_name": "Python 3",
   "language": "python",
   "name": "python3"
  },
  "language_info": {
   "codemirror_mode": {
    "name": "ipython",
    "version": 3
   },
   "file_extension": ".py",
   "mimetype": "text/x-python",
   "name": "python",
   "nbconvert_exporter": "python",
   "pygments_lexer": "ipython3",
   "version": "3.8.5"
  }
 },
 "nbformat": 4,
 "nbformat_minor": 4
}
