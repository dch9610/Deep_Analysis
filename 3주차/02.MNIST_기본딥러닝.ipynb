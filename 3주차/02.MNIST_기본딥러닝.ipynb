{
 "cells": [
  {
   "cell_type": "code",
   "execution_count": 1,
   "metadata": {},
   "outputs": [],
   "source": [
    "# 기본\n",
    "import pandas as pd\n",
    "import numpy as np\n",
    "import matplotlib.pyplot as plt\n",
    "import seaborn as sns\n",
    "plt.style.use('seaborn-whitegrid') # sns에 흰색 그리드 유지\n",
    "import missingno # 결측치 시각화\n",
    "\n",
    "# KFold (교차 검증을 사용하기 위해)\n",
    "from sklearn.model_selection import KFold\n",
    "from sklearn.model_selection import StratifiedKFold\n",
    "\n",
    "# 교차검증 함수\n",
    "from sklearn.model_selection import cross_val_score\n",
    "from sklearn.model_selection import cross_validate\n",
    "\n",
    "# 학습 데이터와 검증 데이터로 나누는 함수\n",
    "from sklearn.model_selection import train_test_split\n",
    "\n",
    "# 데이터 전처리\n",
    "from sklearn.preprocessing import LabelEncoder\n",
    "from sklearn.preprocessing import StandardScaler\n",
    "\n",
    "# 하이퍼 파라미터 튜닝\n",
    "from sklearn.model_selection import GridSearchCV\n",
    "\n",
    "# 평가 함수\n",
    "from sklearn.metrics import accuracy_score\n",
    "\n",
    "# 머신러닝 알고리즘 - 분류\n",
    "from sklearn.neighbors import KNeighborsClassifier\n",
    "from sklearn.linear_model import LogisticRegression\n",
    "from sklearn.svm import SVC\n",
    "from sklearn.tree import DecisionTreeClassifier\n",
    "from sklearn.ensemble import RandomForestClassifier\n",
    "from sklearn.ensemble import GradientBoostingClassifier\n",
    "from sklearn.ensemble import ExtraTreesClassifier\n",
    "from sklearn.ensemble import AdaBoostClassifier\n",
    "from sklearn.gaussian_process import GaussianProcessClassifier\n",
    "from sklearn.naive_bayes import GaussianNB\n",
    "from sklearn.ensemble import BaggingClassifier\n",
    "from sklearn.ensemble import VotingClassifier\n",
    "from xgboost import XGBClassifier\n",
    "\n",
    "\n",
    "# 머신러닝 알고리즘 - 회귀\n",
    "from sklearn.neighbors import KNeighborsRegressor\n",
    "from sklearn.linear_model import LinearRegression\n",
    "from sklearn.linear_model import Ridge\n",
    "from sklearn.linear_model import Lasso\n",
    "from sklearn.linear_model import ElasticNet\n",
    "from sklearn.svm import SVR\n",
    "from sklearn.tree import DecisionTreeRegressor\n",
    "from sklearn.ensemble import RandomForestRegressor\n",
    "from sklearn.ensemble import GradientBoostingRegressor\n",
    "from xgboost import  XGBRegressor\n",
    "\n",
    "# 머신러닝 알고리즘 - 군집\n",
    "from sklearn.cluster import KMeans\n",
    "from sklearn.cluster import MeanShift\n",
    "\n",
    "# 머신러닝 알고리즘 - 차원축소\n",
    "from sklearn.decomposition import PCA\n",
    "from sklearn.discriminant_analysis import LinearDiscriminantAnalysis\n",
    "\n",
    "# 딥러닝 알고리즘 \n",
    "from keras.models import Sequential\n",
    "from keras.layers import Dense\n",
    "import tensorflow as tf\n",
    "\n",
    "# 다중분류를 위한 원핫 인코더\n",
    "from keras.utils import to_categorical\n",
    "\n",
    "# 학습 자동 중단\n",
    "from keras.callbacks import EarlyStopping\n",
    "\n",
    "# 모델 저장\n",
    "from keras.callbacks import ModelCheckpoint\n",
    "\n",
    "# 저장된 딥러닝 모델 불러오기\n",
    "from keras.models import load_model\n",
    "\n",
    "# 저장\n",
    "import pickle\n",
    "\n",
    "# 시간 모듈\n",
    "import time\n",
    "\n",
    "# 그래프 설정\n",
    "# plt.rcParams['font.family'] = 'Malgun Gothic'   # 윈도우용\n",
    "plt.rcParams['font.family'] = 'AppleGothic'   # 맥용\n",
    "plt.rcParams['font.size'] = 10                 # 폰트 크기\n",
    "plt.rcParams['figure.figsize'] = 10,8          # 그래프 크기\n",
    "plt.rcParams['axes.unicode_minus'] = False     # - 기호 깨짐 방지\n",
    "\n",
    "\n",
    "# 경고 메시지가 안나오게 하기\n",
    "import warnings\n",
    "warnings.filterwarnings('ignore')"
   ]
  },
  {
   "cell_type": "code",
   "execution_count": 2,
   "metadata": {},
   "outputs": [],
   "source": [
    "# MNIST를 위한..\n",
    "from keras.datasets import mnist\n",
    "from keras.utils import np_utils"
   ]
  },
  {
   "cell_type": "code",
   "execution_count": 3,
   "metadata": {},
   "outputs": [],
   "source": [
    "# MNIST 데이터를 다운로드 하고 읽어온다.\n",
    "(X_train, y_train), (X_test, y_test) = mnist.load_data()"
   ]
  },
  {
   "cell_type": "code",
   "execution_count": 4,
   "metadata": {},
   "outputs": [
    {
     "name": "stdout",
     "output_type": "stream",
     "text": [
      "학습용 데이터 이미지 수 : 60000\n",
      "테스트용 데이터 이미지 수 : 10000\n"
     ]
    }
   ],
   "source": [
    "print(f'학습용 데이터 이미지 수 : {X_train.shape[0]}')\n",
    "print(f'테스트용 데이터 이미지 수 : {X_test.shape[0]}')"
   ]
  },
  {
   "cell_type": "code",
   "execution_count": 5,
   "metadata": {
    "scrolled": true
   },
   "outputs": [
    {
     "data": {
      "image/png": "[encoded data removed]",
      "text/plain": [
       "<Figure size 720x576 with 1 Axes>"
      ]
     },
     "metadata": {},
     "output_type": "display_data"
    }
   ],
   "source": [
    "# 그래프로 확인\n",
    "plt.imshow(X_train[0])\n",
    "plt.show()"
   ]
  },
  {
   "cell_type": "code",
   "execution_count": 6,
   "metadata": {},
   "outputs": [
    {
     "data": {
      "text/plain": [
       "(60000, 28, 28)"
      ]
     },
     "execution_count": 6,
     "metadata": {},
     "output_type": "execute_result"
    }
   ],
   "source": [
    "X_train.shape"
   ]
  },
  {
   "cell_type": "markdown",
   "metadata": {},
   "source": [
    "### 기본 딥러닝"
   ]
  },
  {
   "cell_type": "code",
   "execution_count": 7,
   "metadata": {},
   "outputs": [],
   "source": [
    "# 랜덤 시드 설정\n",
    "np.random.seed(3)\n",
    "tf.random.set_seed(3)"
   ]
  },
  {
   "cell_type": "code",
   "execution_count": 8,
   "metadata": {},
   "outputs": [],
   "source": [
    "# MNIST 데이터를 다운로드 하고 읽어온다.\n",
    "(X_train, y_train), (X_test, y_test) = mnist.load_data()"
   ]
  },
  {
   "cell_type": "code",
   "execution_count": 9,
   "metadata": {},
   "outputs": [],
   "source": [
    "# 2차원으로 되어 있는 이미지 한장의 데이터를 1차원으로 변환한다.\n",
    "X_train = X_train.reshape(X_train.shape[0], 784)\n",
    "\n",
    "# 데이터 정규화\n",
    "X_train = X_train.astype('float64')\n",
    "X_train = X_train / 255"
   ]
  },
  {
   "cell_type": "code",
   "execution_count": 10,
   "metadata": {},
   "outputs": [],
   "source": [
    "# 2차원으로 되어 있는 이미지 한장의 데이터를 1차원으로 변환한다.\n",
    "X_test = X_test.reshape(X_test.shape[0], 784)\n",
    "\n",
    "# 데이터 정규화\n",
    "X_test = X_test.astype('float64')\n",
    "X_test = X_test / 255"
   ]
  },
  {
   "cell_type": "code",
   "execution_count": 11,
   "metadata": {},
   "outputs": [],
   "source": [
    "# 결과 데이터 원핫 인코딩\n",
    "y_train = np_utils.to_categorical(y_train,10)\n",
    "y_test = np_utils.to_categorical(y_test,10)"
   ]
  },
  {
   "cell_type": "code",
   "execution_count": 12,
   "metadata": {},
   "outputs": [
    {
     "data": {
      "text/plain": [
       "array([0., 0., 0., 0., 0., 1., 0., 0., 0., 0.], dtype=float32)"
      ]
     },
     "execution_count": 12,
     "metadata": {},
     "output_type": "execute_result"
    }
   ],
   "source": [
    "y_train[0]"
   ]
  },
  {
   "cell_type": "code",
   "execution_count": 13,
   "metadata": {},
   "outputs": [],
   "source": [
    "# 모델 설정\n",
    "model = Sequential()\n",
    "model.add(Dense(512, input_dim = 784, activation='relu'))\n",
    "model.add(Dense(10, activation='softmax'))"
   ]
  },
  {
   "cell_type": "code",
   "execution_count": 14,
   "metadata": {},
   "outputs": [],
   "source": [
    "# 모델 컴파일\n",
    "model.compile(loss='categorical_crossentropy', optimizer='adam', metrics=['accuracy'])"
   ]
  },
  {
   "cell_type": "code",
   "execution_count": 15,
   "metadata": {},
   "outputs": [],
   "source": [
    "# 모델 저장, 자동 중지\n",
    "model_path ='models/MNIST/{epoch}-{val_loss}.hdf5'\n",
    "callback1 = ModelCheckpoint(filepath=model_path, monitor='val_loss', verbose=1)\n",
    "callback2 = EarlyStopping(monitor='val_loss', patience=10)"
   ]
  },
  {
   "cell_type": "code",
   "execution_count": 16,
   "metadata": {},
   "outputs": [
    {
     "name": "stdout",
     "output_type": "stream",
     "text": [
      "\n",
      "Epoch 00001: saving model to models/MNIST/1-0.14745670557022095.hdf5\n",
      "\n",
      "Epoch 00002: saving model to models/MNIST/2-0.10213232785463333.hdf5\n",
      "\n",
      "Epoch 00003: saving model to models/MNIST/3-0.08923842757940292.hdf5\n",
      "\n",
      "Epoch 00004: saving model to models/MNIST/4-0.07904107123613358.hdf5\n",
      "\n",
      "Epoch 00005: saving model to models/MNIST/5-0.07360746711492538.hdf5\n",
      "\n",
      "Epoch 00006: saving model to models/MNIST/6-0.06778217852115631.hdf5\n",
      "\n",
      "Epoch 00007: saving model to models/MNIST/7-0.0651363879442215.hdf5\n",
      "\n",
      "Epoch 00008: saving model to models/MNIST/8-0.06271664798259735.hdf5\n",
      "\n",
      "Epoch 00009: saving model to models/MNIST/9-0.06337478756904602.hdf5\n",
      "\n",
      "Epoch 00010: saving model to models/MNIST/10-0.06277049332857132.hdf5\n",
      "\n",
      "Epoch 00011: saving model to models/MNIST/11-0.06598276644945145.hdf5\n",
      "\n",
      "Epoch 00012: saving model to models/MNIST/12-0.07234923541545868.hdf5\n",
      "\n",
      "Epoch 00013: saving model to models/MNIST/13-0.05936126783490181.hdf5\n",
      "\n",
      "Epoch 00014: saving model to models/MNIST/14-0.06517267227172852.hdf5\n",
      "\n",
      "Epoch 00015: saving model to models/MNIST/15-0.0715317651629448.hdf5\n",
      "\n",
      "Epoch 00016: saving model to models/MNIST/16-0.06741386651992798.hdf5\n",
      "\n",
      "Epoch 00017: saving model to models/MNIST/17-0.06512407958507538.hdf5\n",
      "\n",
      "Epoch 00018: saving model to models/MNIST/18-0.06446919590234756.hdf5\n",
      "\n",
      "Epoch 00019: saving model to models/MNIST/19-0.1179191917181015.hdf5\n",
      "\n",
      "Epoch 00020: saving model to models/MNIST/20-0.07965563982725143.hdf5\n",
      "\n",
      "Epoch 00021: saving model to models/MNIST/21-0.07392433285713196.hdf5\n",
      "\n",
      "Epoch 00022: saving model to models/MNIST/22-0.06672090291976929.hdf5\n",
      "\n",
      "Epoch 00023: saving model to models/MNIST/23-0.06818538904190063.hdf5\n"
     ]
    }
   ],
   "source": [
    "# 모델 학습\n",
    "# validation_data 검증데이터도 바로 확인\n",
    "\n",
    "history = model.fit(X_train, y_train, validation_data=(X_test,y_test), \n",
    "          epochs=30, batch_size=200, verbose=0, callbacks=[callback1, callback2])"
   ]
  },
  {
   "cell_type": "code",
   "execution_count": 18,
   "metadata": {},
   "outputs": [
    {
     "data": {
      "text/plain": [
       "<tensorflow.python.keras.engine.sequential.Sequential at 0x7fd9140153a0>"
      ]
     },
     "execution_count": 18,
     "metadata": {},
     "output_type": "execute_result"
    }
   ],
   "source": [
    "# 모델 불러오기\n",
    "best_model = load_model('models/MNIST/23-0.06818538904190063.hdf5')\n",
    "best_model"
   ]
  },
  {
   "cell_type": "code",
   "execution_count": 19,
   "metadata": {},
   "outputs": [
    {
     "name": "stdout",
     "output_type": "stream",
     "text": [
      "313/313 [==============================] - 0s 1ms/step - loss: 0.0682 - accuracy: 0.9833\n"
     ]
    },
    {
     "data": {
      "text/plain": [
       "0.983299970626831"
      ]
     },
     "execution_count": 19,
     "metadata": {},
     "output_type": "execute_result"
    }
   ],
   "source": [
    "# 정확도 측정\n",
    "model.evaluate(X_test, y_test)[1]\n"
   ]
  },
  {
   "cell_type": "code",
   "execution_count": 20,
   "metadata": {},
   "outputs": [
    {
     "data": {
      "text/plain": [
       "[0.14745670557022095,\n",
       " 0.10213232785463333,\n",
       " 0.08923842757940292,\n",
       " 0.07904107123613358,\n",
       " 0.07360746711492538]"
      ]
     },
     "execution_count": 20,
     "metadata": {},
     "output_type": "execute_result"
    }
   ],
   "source": [
    "# 테스트 셋의 오차값\n",
    "y_vloss = history.history['val_loss']\n",
    "y_vloss[:5]"
   ]
  },
  {
   "cell_type": "code",
   "execution_count": 21,
   "metadata": {},
   "outputs": [
    {
     "data": {
      "text/plain": [
       "[0.3026984930038452,\n",
       " 0.1237625777721405,\n",
       " 0.0812748447060585,\n",
       " 0.06019718572497368,\n",
       " 0.045109156519174576]"
      ]
     },
     "execution_count": 21,
     "metadata": {},
     "output_type": "execute_result"
    }
   ],
   "source": [
    "# 학습 데이터의 오차\n",
    "y_loss = history.history['loss']\n",
    "y_loss[:5]"
   ]
  },
  {
   "cell_type": "markdown",
   "metadata": {},
   "source": [
    "- 학습한 데이터에 잘 적응되어 loss값이 점차 낮아지나 테스트 데이터에서 loss값이 점차 낮아지지 않을때 과적합을 의심"
   ]
  },
  {
   "cell_type": "code",
   "execution_count": 22,
   "metadata": {},
   "outputs": [
    {
     "data": {
      "image/png": "[encoded data removed]",
      "text/plain": [
       "<Figure size 720x576 with 1 Axes>"
      ]
     },
     "metadata": {},
     "output_type": "display_data"
    }
   ],
   "source": [
    "# 그래프 \n",
    "x_len = np.arange(len(y_loss))\n",
    "\n",
    "plt.plot(x_len, y_vloss, label='검증 데이터 손실률')\n",
    "plt.plot(x_len, y_loss,  label='학습 데이터 손실률')\n",
    "plt.legend()\n",
    "plt.show()"
   ]
  },
  {
   "cell_type": "code",
   "execution_count": null,
   "metadata": {},
   "outputs": [],
   "source": []
  }
 ],
 "metadata": {
  "kernelspec": {
   "display_name": "Python 3",
   "language": "python",
   "name": "python3"
  },
  "language_info": {
   "codemirror_mode": {
    "name": "ipython",
    "version": 3
   },
   "file_extension": ".py",
   "mimetype": "text/x-python",
   "name": "python",
   "nbconvert_exporter": "python",
   "pygments_lexer": "ipython3",
   "version": "3.8.5"
  }
 },
 "nbformat": 4,
 "nbformat_minor": 4
}
