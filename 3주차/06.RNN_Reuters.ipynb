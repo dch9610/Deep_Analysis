{
 "cells": [
  {
   "cell_type": "code",
   "execution_count": 1,
   "metadata": {},
   "outputs": [],
   "source": [
    "# 기본\n",
    "import pandas as pd\n",
    "import numpy as np\n",
    "import matplotlib.pyplot as plt\n",
    "import seaborn as sns\n",
    "plt.style.use('seaborn-whitegrid') # sns에 흰색 그리드 유지\n",
    "import missingno # 결측치 시각화\n",
    "\n",
    "# KFold (교차 검증을 사용하기 위해)\n",
    "from sklearn.model_selection import KFold\n",
    "from sklearn.model_selection import StratifiedKFold\n",
    "\n",
    "# 교차검증 함수\n",
    "from sklearn.model_selection import cross_val_score\n",
    "from sklearn.model_selection import cross_validate\n",
    "\n",
    "# 학습 데이터와 검증 데이터로 나누는 함수\n",
    "from sklearn.model_selection import train_test_split\n",
    "\n",
    "# 데이터 전처리\n",
    "from sklearn.preprocessing import LabelEncoder\n",
    "from sklearn.preprocessing import StandardScaler\n",
    "\n",
    "# 하이퍼 파라미터 튜닝\n",
    "from sklearn.model_selection import GridSearchCV\n",
    "\n",
    "# 평가 함수\n",
    "from sklearn.metrics import accuracy_score\n",
    "\n",
    "# 머신러닝 알고리즘 - 분류\n",
    "from sklearn.neighbors import KNeighborsClassifier\n",
    "from sklearn.linear_model import LogisticRegression\n",
    "from sklearn.svm import SVC\n",
    "from sklearn.tree import DecisionTreeClassifier\n",
    "from sklearn.ensemble import RandomForestClassifier\n",
    "from sklearn.ensemble import GradientBoostingClassifier\n",
    "from sklearn.ensemble import ExtraTreesClassifier\n",
    "from sklearn.ensemble import AdaBoostClassifier\n",
    "from sklearn.gaussian_process import GaussianProcessClassifier\n",
    "from sklearn.naive_bayes import GaussianNB\n",
    "from sklearn.ensemble import BaggingClassifier\n",
    "from sklearn.ensemble import VotingClassifier\n",
    "from xgboost import XGBClassifier\n",
    "\n",
    "\n",
    "# 머신러닝 알고리즘 - 회귀\n",
    "from sklearn.neighbors import KNeighborsRegressor\n",
    "from sklearn.linear_model import LinearRegression\n",
    "from sklearn.linear_model import Ridge\n",
    "from sklearn.linear_model import Lasso\n",
    "from sklearn.linear_model import ElasticNet\n",
    "from sklearn.svm import SVR\n",
    "from sklearn.tree import DecisionTreeRegressor\n",
    "from sklearn.ensemble import RandomForestRegressor\n",
    "from sklearn.ensemble import GradientBoostingRegressor\n",
    "from xgboost import  XGBRegressor\n",
    "\n",
    "# 머신러닝 알고리즘 - 군집\n",
    "from sklearn.cluster import KMeans\n",
    "from sklearn.cluster import MeanShift\n",
    "\n",
    "# 머신러닝 알고리즘 - 차원축소\n",
    "from sklearn.decomposition import PCA\n",
    "from sklearn.discriminant_analysis import LinearDiscriminantAnalysis\n",
    "\n",
    "# 딥러닝 알고리즘 \n",
    "from keras.models import Sequential\n",
    "from keras.layers import Dense\n",
    "import tensorflow as tf\n",
    "\n",
    "# 다중분류를 위한 원핫 인코더\n",
    "from keras.utils import to_categorical\n",
    "\n",
    "# 학습 자동 중단\n",
    "from keras.callbacks import EarlyStopping\n",
    "\n",
    "# 모델 저장\n",
    "from keras.callbacks import ModelCheckpoint\n",
    "\n",
    "# 저장된 딥러닝 모델 불러오기\n",
    "from keras.models import load_model\n",
    "\n",
    "# 딥러닝\n",
    "from keras.models import Sequential\n",
    "from keras.layers import Dense\n",
    "import tensorflow as tf\n",
    "\n",
    "from keras.utils import np_utils\n",
    "from keras.layers import Dropout\n",
    "from keras.layers import Flatten\n",
    "from keras.layers import Conv2D\n",
    "from keras.layers import MaxPooling2D\n",
    "from keras.layers import Embedding\n",
    "from keras.layers import LSTM\n",
    "\n",
    "# 자연어 처리\n",
    "from keras.preprocessing.text import Tokenizer\n",
    "from keras.preprocessing.text import text_to_word_sequence\n",
    "from keras.preprocessing.sequence import pad_sequences\n",
    "\n",
    "# 저장\n",
    "import pickle\n",
    "\n",
    "# 시간 모듈\n",
    "import time\n",
    "\n",
    "# 그래프 설정\n",
    "# plt.rcParams['font.family'] = 'Malgun Gothic'   # 윈도우용\n",
    "plt.rcParams['font.family'] = 'AppleGothic'   # 맥용\n",
    "plt.rcParams['font.size'] = 10                 # 폰트 크기\n",
    "plt.rcParams['figure.figsize'] = 10,8          # 그래프 크기\n",
    "plt.rcParams['axes.unicode_minus'] = False     # - 기호 깨짐 방지\n",
    "\n",
    "\n",
    "# 경고 메시지가 안나오게 하기\n",
    "import warnings\n",
    "warnings.filterwarnings('ignore')\n",
    "\n",
    "# gpu 사용 초기화 및 할당\n",
    "gpus= tf.config.experimental.list_physical_devices('GPU')\n",
    "tf.config.experimental.set_memory_growth(gpus[0], True)"
   ]
  },
  {
   "cell_type": "code",
   "execution_count": 2,
   "metadata": {},
   "outputs": [],
   "source": [
    "# seed값 설정\n",
    "np.random.seed(3)\n",
    "tf.random.set_seed(3)"
   ]
  },
  {
   "cell_type": "code",
   "execution_count": 3,
   "metadata": {},
   "outputs": [
    {
     "name": "stdout",
     "output_type": "stream",
     "text": [
      "Downloading data from https://storage.googleapis.com/tensorflow/tf-keras-datasets/reuters.npz\n",
      "2113536/2110848 [==============================] - 0s 0us/step\n"
     ]
    }
   ],
   "source": [
    "# 로이터 데이터 불러오기\n",
    "from keras.datasets import reuters\n",
    "\n",
    "# 빈도가 높은 1000개의 단어 \n",
    "(X_train, y_train), (X_test, y_test)=reuters.load_data(num_words=1000, test_split=0.2)"
   ]
  },
  {
   "cell_type": "code",
   "execution_count": 4,
   "metadata": {},
   "outputs": [
    {
     "name": "stdout",
     "output_type": "stream",
     "text": [
      "카테고리 개수: 46\n",
      "학습용 뉴스 기사 개수 : 8982\n",
      "테스트용 뉴스 기사 개수 : 2246\n",
      "[1, 2, 2, 8, 43, 10, 447, 5, 25, 207, 270, 5, 2, 111, 16, 369, 186, 90, 67, 7, 89, 5, 19, 102, 6, 19, 124, 15, 90, 67, 84, 22, 482, 26, 7, 48, 4, 49, 8, 864, 39, 209, 154, 6, 151, 6, 83, 11, 15, 22, 155, 11, 15, 7, 48, 9, 2, 2, 504, 6, 258, 6, 272, 11, 15, 22, 134, 44, 11, 15, 16, 8, 197, 2, 90, 67, 52, 29, 209, 30, 32, 132, 6, 109, 15, 17, 12]\n"
     ]
    }
   ],
   "source": [
    "# 데이터 확인\n",
    "# 카테고리 개수\n",
    "a1 = np.max(y_train)+1\n",
    "print(f'카테고리 개수: {a1}')\n",
    "\n",
    "# 학습용 뉴스 기사 개수\n",
    "a2 = len(X_train)\n",
    "print(f'학습용 뉴스 기사 개수 : {a2}')\n",
    "\n",
    "# 테스트용 뉴스 기사 개수\n",
    "a3 = len(X_test)\n",
    "print(f'테스트용 뉴스 기사 개수 : {a3}')\n",
    "\n",
    "print(X_train[0])"
   ]
  },
  {
   "cell_type": "code",
   "execution_count": 5,
   "metadata": {},
   "outputs": [],
   "source": [
    "# 서로 개수가 다른 뉴스기사 리스트 원소의 개수를 똑같이 맞춰준다.\n",
    "# 부족한 부분은 0으로 채워준다.\n",
    "X_train = pad_sequences(X_train)\n",
    "X_test  = pad_sequences(X_test)"
   ]
  },
  {
   "cell_type": "code",
   "execution_count": 6,
   "metadata": {},
   "outputs": [],
   "source": [
    "# 결과 데이터를 원핫 인코딩\n",
    "y_train = np_utils.to_categorical(y_train)\n",
    "y_test = np_utils.to_categorical(y_test)"
   ]
  },
  {
   "cell_type": "code",
   "execution_count": 7,
   "metadata": {},
   "outputs": [
    {
     "data": {
      "text/plain": [
       "array([0., 0., 0., 1., 0., 0., 0., 0., 0., 0., 0., 0., 0., 0., 0., 0., 0.,\n",
       "       0., 0., 0., 0., 0., 0., 0., 0., 0., 0., 0., 0., 0., 0., 0., 0., 0.,\n",
       "       0., 0., 0., 0., 0., 0., 0., 0., 0., 0., 0., 0.], dtype=float32)"
      ]
     },
     "execution_count": 7,
     "metadata": {},
     "output_type": "execute_result"
    }
   ],
   "source": [
    "y_train[0]"
   ]
  },
  {
   "cell_type": "code",
   "execution_count": 8,
   "metadata": {},
   "outputs": [],
   "source": [
    "# 모델 설정\n",
    "model = Sequential()\n",
    "\n",
    "# 문장당 최대 1000개의 데이터를 100개로 줄여라\n",
    "model.add(Embedding(1000,100))\n",
    "# RNN(LSTM)을 이용한 학습\n",
    "model.add(LSTM(100, activation='tanh'))\n",
    "# 출력층 (카테고리의 개수)\n",
    "model.add(Dense(46, activation='softmax'))"
   ]
  },
  {
   "cell_type": "code",
   "execution_count": 9,
   "metadata": {},
   "outputs": [],
   "source": [
    "# 모델 컴파일\n",
    "model.compile(loss='categorical_crossentropy', optimizer = 'adam', metrics=['accuracy'])"
   ]
  },
  {
   "cell_type": "code",
   "execution_count": 10,
   "metadata": {},
   "outputs": [
    {
     "name": "stdout",
     "output_type": "stream",
     "text": [
      "Epoch 1/20\n",
      "90/90 [==============================] - 41s 383ms/step - loss: 2.9662 - accuracy: 0.3179 - val_loss: 2.1452 - val_accuracy: 0.4804\n",
      "Epoch 2/20\n",
      "90/90 [==============================] - 33s 369ms/step - loss: 2.0572 - accuracy: 0.4873 - val_loss: 1.9287 - val_accuracy: 0.5111\n",
      "Epoch 3/20\n",
      "90/90 [==============================] - 33s 369ms/step - loss: 1.8966 - accuracy: 0.5163 - val_loss: 1.7559 - val_accuracy: 0.5557\n",
      "Epoch 4/20\n",
      "90/90 [==============================] - 33s 370ms/step - loss: 1.7092 - accuracy: 0.5602 - val_loss: 1.8184 - val_accuracy: 0.5356\n",
      "Epoch 5/20\n",
      "90/90 [==============================] - 33s 370ms/step - loss: 1.8837 - accuracy: 0.5222 - val_loss: 1.7216 - val_accuracy: 0.5717\n",
      "Epoch 6/20\n",
      "90/90 [==============================] - 33s 371ms/step - loss: 1.6748 - accuracy: 0.5795 - val_loss: 1.6750 - val_accuracy: 0.5824\n",
      "Epoch 7/20\n",
      "90/90 [==============================] - 33s 372ms/step - loss: 1.7258 - accuracy: 0.5488 - val_loss: 1.6871 - val_accuracy: 0.5761\n",
      "Epoch 8/20\n",
      "90/90 [==============================] - 33s 371ms/step - loss: 1.6056 - accuracy: 0.5921 - val_loss: 1.6380 - val_accuracy: 0.6180\n",
      "Epoch 9/20\n",
      "90/90 [==============================] - 33s 370ms/step - loss: 1.5956 - accuracy: 0.6047 - val_loss: 1.7768 - val_accuracy: 0.5606\n",
      "Epoch 10/20\n",
      "90/90 [==============================] - 33s 370ms/step - loss: 1.6281 - accuracy: 0.5905 - val_loss: 1.5123 - val_accuracy: 0.6238\n",
      "Epoch 11/20\n",
      "90/90 [==============================] - 33s 370ms/step - loss: 1.4411 - accuracy: 0.6351 - val_loss: 1.6421 - val_accuracy: 0.6082\n",
      "Epoch 12/20\n",
      "90/90 [==============================] - 33s 370ms/step - loss: 1.5193 - accuracy: 0.6349 - val_loss: 1.5111 - val_accuracy: 0.6211\n",
      "Epoch 13/20\n",
      "90/90 [==============================] - 33s 370ms/step - loss: 1.3368 - accuracy: 0.6624 - val_loss: 1.4760 - val_accuracy: 0.6242\n",
      "Epoch 14/20\n",
      "90/90 [==============================] - 33s 370ms/step - loss: 1.3701 - accuracy: 0.6431 - val_loss: 1.6364 - val_accuracy: 0.5441\n",
      "Epoch 15/20\n",
      "90/90 [==============================] - 33s 371ms/step - loss: 1.5194 - accuracy: 0.6125 - val_loss: 1.5645 - val_accuracy: 0.6100\n",
      "Epoch 16/20\n",
      "90/90 [==============================] - 33s 370ms/step - loss: 1.4042 - accuracy: 0.6367 - val_loss: 1.4185 - val_accuracy: 0.6465\n",
      "Epoch 17/20\n",
      "90/90 [==============================] - 33s 370ms/step - loss: 1.2459 - accuracy: 0.6808 - val_loss: 1.3954 - val_accuracy: 0.6460\n",
      "Epoch 18/20\n",
      "90/90 [==============================] - 33s 369ms/step - loss: 1.1582 - accuracy: 0.6984 - val_loss: 1.3054 - val_accuracy: 0.6692\n",
      "Epoch 19/20\n",
      "90/90 [==============================] - 33s 368ms/step - loss: 1.1507 - accuracy: 0.7024 - val_loss: 1.2929 - val_accuracy: 0.6710\n",
      "Epoch 20/20\n",
      "90/90 [==============================] - 33s 367ms/step - loss: 1.1837 - accuracy: 0.6937 - val_loss: 1.2628 - val_accuracy: 0.6830\n"
     ]
    }
   ],
   "source": [
    "# 모델 학습 실행\n",
    "history = model.fit(X_train, y_train, validation_data=(X_test,y_test), batch_size=100, epochs=20, verbose=1)"
   ]
  },
  {
   "cell_type": "code",
   "execution_count": 12,
   "metadata": {},
   "outputs": [
    {
     "name": "stdout",
     "output_type": "stream",
     "text": [
      "71/71 [==============================] - 1s 19ms/step - loss: 1.2628 - accuracy: 0.6830\n"
     ]
    },
    {
     "data": {
      "text/plain": [
       "0.6829919815063477"
      ]
     },
     "execution_count": 12,
     "metadata": {},
     "output_type": "execute_result"
    }
   ],
   "source": [
    "# 테스트 정확도 출력\n",
    "model.evaluate(X_test, y_test)[1]"
   ]
  },
  {
   "cell_type": "code",
   "execution_count": 13,
   "metadata": {},
   "outputs": [],
   "source": [
    "# 테스트 데이터의 오차\n",
    "y_vloss = history.history['val_loss']\n",
    "\n",
    "# 학습 데이터의 오차\n",
    "y_loss = history.history['loss']"
   ]
  },
  {
   "cell_type": "code",
   "execution_count": 14,
   "metadata": {},
   "outputs": [
    {
     "name": "stderr",
     "output_type": "stream",
     "text": [
      "findfont: Font family ['AppleGothic'] not found. Falling back to DejaVu Sans.\n"
     ]
    },
    {
     "data": {
      "image/png": "[encoded data removed]",
      "text/plain": [
       "<Figure size 720x576 with 1 Axes>"
      ]
     },
     "metadata": {},
     "output_type": "display_data"
    }
   ],
   "source": [
    "# 그래프\n",
    "x_len = np.arange(len(y_loss))\n",
    "\n",
    "plt.plot(x_len, y_vloss, marker='.', c='red', label='test')\n",
    "plt.plot(x_len, y_loss, marker='.', c='blue', label='train')\n",
    "\n",
    "plt.legend()\n",
    "plt.grid()\n",
    "plt.show()"
   ]
  },
  {
   "cell_type": "code",
   "execution_count": null,
   "metadata": {},
   "outputs": [],
   "source": []
  }
 ],
 "metadata": {
  "kernelspec": {
   "display_name": "Python 3",
   "language": "python",
   "name": "python3"
  },
  "language_info": {
   "codemirror_mode": {
    "name": "ipython",
    "version": 3
   },
   "file_extension": ".py",
   "mimetype": "text/x-python",
   "name": "python",
   "nbconvert_exporter": "python",
   "pygments_lexer": "ipython3",
   "version": "3.8.5"
  }
 },
 "nbformat": 4,
 "nbformat_minor": 4
}
