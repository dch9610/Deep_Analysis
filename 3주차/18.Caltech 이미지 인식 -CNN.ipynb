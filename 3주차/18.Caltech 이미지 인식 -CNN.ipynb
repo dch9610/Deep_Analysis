{
 "cells": [
  {
   "cell_type": "code",
   "execution_count": 1,
   "metadata": {},
   "outputs": [],
   "source": [
    "# 기본\n",
    "import pandas as pd\n",
    "import numpy as np\n",
    "import matplotlib.pyplot as plt\n",
    "import seaborn as sns\n",
    "plt.style.use('seaborn-whitegrid') # sns에 흰색 그리드 유지\n",
    "import missingno # 결측치 시각화\n",
    "\n",
    "# KFold (교차 검증을 사용하기 위해)\n",
    "from sklearn.model_selection import KFold\n",
    "from sklearn.model_selection import StratifiedKFold\n",
    "\n",
    "# 교차검증 함수\n",
    "from sklearn.model_selection import cross_val_score\n",
    "from sklearn.model_selection import cross_validate\n",
    "\n",
    "# 학습 데이터와 검증 데이터로 나누는 함수\n",
    "from sklearn.model_selection import train_test_split\n",
    "\n",
    "# 데이터 전처리\n",
    "from sklearn.preprocessing import LabelEncoder\n",
    "from sklearn.preprocessing import StandardScaler\n",
    "\n",
    "# 하이퍼 파라미터 튜닝\n",
    "from sklearn.model_selection import GridSearchCV\n",
    "\n",
    "# 평가 함수\n",
    "from sklearn.metrics import accuracy_score\n",
    "\n",
    "# 머신러닝 알고리즘 - 분류\n",
    "from sklearn.neighbors import KNeighborsClassifier\n",
    "from sklearn.linear_model import LogisticRegression\n",
    "from sklearn.svm import SVC\n",
    "from sklearn.tree import DecisionTreeClassifier\n",
    "from sklearn.ensemble import RandomForestClassifier\n",
    "from sklearn.ensemble import GradientBoostingClassifier\n",
    "from sklearn.ensemble import ExtraTreesClassifier\n",
    "from sklearn.ensemble import AdaBoostClassifier\n",
    "from sklearn.gaussian_process import GaussianProcessClassifier\n",
    "from sklearn.naive_bayes import GaussianNB\n",
    "from sklearn.ensemble import BaggingClassifier\n",
    "from sklearn.ensemble import VotingClassifier\n",
    "from xgboost import XGBClassifier\n",
    "\n",
    "\n",
    "# 머신러닝 알고리즘 - 회귀\n",
    "from sklearn.neighbors import KNeighborsRegressor\n",
    "from sklearn.linear_model import LinearRegression\n",
    "from sklearn.linear_model import Ridge\n",
    "from sklearn.linear_model import Lasso\n",
    "from sklearn.linear_model import ElasticNet\n",
    "from sklearn.svm import SVR\n",
    "from sklearn.tree import DecisionTreeRegressor\n",
    "from sklearn.ensemble import RandomForestRegressor\n",
    "from sklearn.ensemble import GradientBoostingRegressor\n",
    "from xgboost import  XGBRegressor\n",
    "\n",
    "# 머신러닝 알고리즘 - 군집\n",
    "from sklearn.cluster import KMeans\n",
    "from sklearn.cluster import MeanShift\n",
    "\n",
    "# 머신러닝 알고리즘 - 차원축소\n",
    "from sklearn.decomposition import PCA\n",
    "from sklearn.discriminant_analysis import LinearDiscriminantAnalysis\n",
    "\n",
    "# 다중분류를 위한 원핫 인코더\n",
    "from keras.utils import to_categorical\n",
    "\n",
    "# 학습 자동 중단\n",
    "from keras.callbacks import EarlyStopping\n",
    "\n",
    "# 모델 저장\n",
    "from keras.callbacks import ModelCheckpoint\n",
    "\n",
    "# 저장된 딥러닝 모델 불러오기\n",
    "from keras.models import load_model\n",
    "\n",
    "# 딥러닝\n",
    "from keras.models import Sequential\n",
    "from keras.layers import Dense\n",
    "import tensorflow as tf\n",
    "\n",
    "from keras.utils import np_utils\n",
    "from keras.layers import Dropout\n",
    "from keras.layers import Flatten\n",
    "from keras.layers import Conv2D\n",
    "from keras.layers import MaxPooling2D\n",
    "from keras.layers import Embedding\n",
    "from keras.layers import LSTM\n",
    "from keras.layers import Activation\n",
    "from keras.layers import Conv1D\n",
    "from keras.layers import MaxPooling1D\n",
    "from keras.layers import LeakyReLU\n",
    "from keras.layers import BatchNormalization\n",
    "from keras.layers import Reshape\n",
    "from keras.layers import UpSampling2D\n",
    "from keras.layers import Input\n",
    "from keras.models import Model\n",
    "\n",
    "# 이미지 조작을 위한\n",
    "from PIL import Image\n",
    "\n",
    "import os, glob\n",
    "\n",
    "# 이미지 생성자\n",
    "from keras.preprocessing.image import ImageDataGenerator\n",
    "\n",
    "# VGG16 모델 (이미 학습이 완료되어 있는 이미지 인식 모델)\n",
    "from keras.applications import VGG16\n",
    "\n",
    "# 자연어 처리\n",
    "from keras.preprocessing.text import Tokenizer\n",
    "from keras.preprocessing.text import text_to_word_sequence\n",
    "from keras.preprocessing.sequence import pad_sequences\n",
    "\n",
    "# 전처리, 활성 함수 셋팅\n",
    "from keras import optimizers, initializers, regularizers, metrics\n",
    "\n",
    "# 저장\n",
    "import pickle\n",
    "\n",
    "# 시간 모듈\n",
    "import time\n",
    "\n",
    "# 그래프 설정\n",
    "plt.rcParams['font.family'] = 'Malgun Gothic'   # 윈도우용\n",
    "# plt.rcParams['font.family'] = 'AppleGothic'   # 맥용\n",
    "plt.rcParams['font.size'] = 10                 # 폰트 크기\n",
    "plt.rcParams['figure.figsize'] = 15,8          # 그래프 크기\n",
    "plt.rcParams['axes.unicode_minus'] = False     # - 기호 깨짐 방지\n",
    "\n",
    "\n",
    "# 경고 메시지가 안나오게 하기\n",
    "import warnings\n",
    "warnings.filterwarnings('ignore')\n",
    "\n",
    "# gpu 사용 초기화 및 할당\n",
    "gpus= tf.config.experimental.list_physical_devices('GPU')\n",
    "tf.config.experimental.set_memory_growth(gpus[0], True)"
   ]
  },
  {
   "cell_type": "code",
   "execution_count": 2,
   "metadata": {},
   "outputs": [],
   "source": [
    "root_dir = '../images/101_new/'\n",
    "\n",
    "# 폴더의 이름을 가져와 결과데이터를 구성한다.\n",
    "a1 = os.walk(root_dir)\n",
    "categories = list(a1)[0][1]\n",
    "nb_classes = len(categories)"
   ]
  },
  {
   "cell_type": "code",
   "execution_count": 3,
   "metadata": {},
   "outputs": [],
   "source": [
    "# seed 설정\n",
    "np.random.seed(3)\n",
    "tf.random.set_seed(3)"
   ]
  },
  {
   "cell_type": "code",
   "execution_count": 4,
   "metadata": {},
   "outputs": [],
   "source": [
    "# 데이터를 복원한다.\n",
    "# 이미지데이터 확장전\n",
    "# X_train, X_test, y_train, y_test = np.load('../images/caltech_new.npy', allow_pickle = True)\n",
    "\n",
    "# 이미지 데이터 확장후\n",
    "X_train, X_test, y_train, y_test = np.load('../images/calthec_new2.npy', allow_pickle = True)"
   ]
  },
  {
   "cell_type": "code",
   "execution_count": 5,
   "metadata": {},
   "outputs": [],
   "source": [
    "# 데이터 정규화 (0~1사이로 조정)\n",
    "X_train = X_train.astype('float')/255\n",
    "X_test  = X_test.astype('float')/255"
   ]
  },
  {
   "cell_type": "code",
   "execution_count": 6,
   "metadata": {},
   "outputs": [],
   "source": [
    "# 결과 데이터 -원핫 인코딩\n",
    "y_train = np_utils.to_categorical(y_train, nb_classes)\n",
    "y_test = np_utils.to_categorical(y_test, nb_classes)"
   ]
  },
  {
   "cell_type": "code",
   "execution_count": 7,
   "metadata": {},
   "outputs": [],
   "source": [
    "# 학습 모델을 구축한다.\n",
    "model = Sequential()\n",
    "\n",
    "# 입력층 + 첫번째 은닉층\n",
    "model.add(Conv2D(32, kernel_size=(3,3), padding='same', input_shape=X_train.shape[1:]))\n",
    "model.add(Activation('relu'))\n",
    "model.add(MaxPooling2D(pool_size=(2,2)))\n",
    "model.add(Dropout(0.25))\n",
    "\n",
    "# 두번째 은닉층\n",
    "model.add(Conv2D(64, kernel_size=(3,3), padding='same'))\n",
    "model.add(Activation('relu'))\n",
    "\n",
    "# 세번째 은닉층\n",
    "model.add(Conv2D(64, kernel_size=(3,3)))\n",
    "model.add(MaxPooling2D(pool_size=(2,2)))\n",
    "model.add(Dropout(0.25))\n",
    "model.add(Flatten())\n",
    "model.add(Dense(512))\n",
    "model.add(Activation('relu'))\n",
    "model.add(Dropout(0.5))\n",
    "\n",
    "# 출력층\n",
    "model.add(Dense(nb_classes))\n",
    "model.add(Activation('softmax'))"
   ]
  },
  {
   "cell_type": "code",
   "execution_count": 8,
   "metadata": {
    "scrolled": true
   },
   "outputs": [
    {
     "name": "stdout",
     "output_type": "stream",
     "text": [
      "Model: \"sequential\"\n",
      "_________________________________________________________________\n",
      "Layer (type)                 Output Shape              Param #   \n",
      "=================================================================\n",
      "conv2d (Conv2D)              (None, 64, 64, 32)        896       \n",
      "_________________________________________________________________\n",
      "activation (Activation)      (None, 64, 64, 32)        0         \n",
      "_________________________________________________________________\n",
      "max_pooling2d (MaxPooling2D) (None, 32, 32, 32)        0         \n",
      "_________________________________________________________________\n",
      "dropout (Dropout)            (None, 32, 32, 32)        0         \n",
      "_________________________________________________________________\n",
      "conv2d_1 (Conv2D)            (None, 32, 32, 64)        18496     \n",
      "_________________________________________________________________\n",
      "activation_1 (Activation)    (None, 32, 32, 64)        0         \n",
      "_________________________________________________________________\n",
      "conv2d_2 (Conv2D)            (None, 30, 30, 64)        36928     \n",
      "_________________________________________________________________\n",
      "max_pooling2d_1 (MaxPooling2 (None, 15, 15, 64)        0         \n",
      "_________________________________________________________________\n",
      "dropout_1 (Dropout)          (None, 15, 15, 64)        0         \n",
      "_________________________________________________________________\n",
      "flatten (Flatten)            (None, 14400)             0         \n",
      "_________________________________________________________________\n",
      "dense (Dense)                (None, 512)               7373312   \n",
      "_________________________________________________________________\n",
      "activation_2 (Activation)    (None, 512)               0         \n",
      "_________________________________________________________________\n",
      "dropout_2 (Dropout)          (None, 512)               0         \n",
      "_________________________________________________________________\n",
      "dense_1 (Dense)              (None, 102)               52326     \n",
      "_________________________________________________________________\n",
      "activation_3 (Activation)    (None, 102)               0         \n",
      "=================================================================\n",
      "Total params: 7,481,958\n",
      "Trainable params: 7,481,958\n",
      "Non-trainable params: 0\n",
      "_________________________________________________________________\n"
     ]
    }
   ],
   "source": [
    "model.summary()"
   ]
  },
  {
   "cell_type": "code",
   "execution_count": 9,
   "metadata": {},
   "outputs": [],
   "source": [
    "# 모델 컴파일\n",
    "model.compile(loss='categorical_crossentropy', optimizer = 'adam', metrics=['accuracy'])"
   ]
  },
  {
   "cell_type": "code",
   "execution_count": 10,
   "metadata": {},
   "outputs": [],
   "source": [
    "# 모델 저장 조건\n",
    "model_path = 'models/Caltech/{epoch}-{loss}.hdf5'\n",
    "callback1 = ModelCheckpoint(filepath=model_path, monitor='loss', verbose=1, save_best_only=True)\n"
   ]
  },
  {
   "cell_type": "code",
   "execution_count": 11,
   "metadata": {},
   "outputs": [],
   "source": [
    "# 조기 중단 조건\n",
    "callback2 = EarlyStopping(monitor='loss', patience=20)"
   ]
  },
  {
   "cell_type": "code",
   "execution_count": null,
   "metadata": {},
   "outputs": [
    {
     "name": "stdout",
     "output_type": "stream",
     "text": [
      "\n",
      "Epoch 00001: loss improved from inf to 1.69347, saving model to models/Caltech\\1-1.6934669017791748.hdf5\n",
      "\n",
      "Epoch 00002: loss improved from 1.69347 to 0.78640, saving model to models/Caltech\\2-0.786404013633728.hdf5\n",
      "\n",
      "Epoch 00003: loss improved from 0.78640 to 0.55772, saving model to models/Caltech\\3-0.5577186346054077.hdf5\n",
      "\n",
      "Epoch 00004: loss improved from 0.55772 to 0.46451, saving model to models/Caltech\\4-0.46451398730278015.hdf5\n",
      "\n",
      "Epoch 00005: loss improved from 0.46451 to 0.41123, saving model to models/Caltech\\5-0.4112284779548645.hdf5\n",
      "\n",
      "Epoch 00006: loss improved from 0.41123 to 0.38655, saving model to models/Caltech\\6-0.3865501582622528.hdf5\n",
      "\n",
      "Epoch 00007: loss improved from 0.38655 to 0.36719, saving model to models/Caltech\\7-0.3671877086162567.hdf5\n",
      "\n",
      "Epoch 00008: loss improved from 0.36719 to 0.35978, saving model to models/Caltech\\8-0.3597817122936249.hdf5\n",
      "\n",
      "Epoch 00009: loss improved from 0.35978 to 0.34773, saving model to models/Caltech\\9-0.3477347195148468.hdf5\n",
      "\n",
      "Epoch 00010: loss improved from 0.34773 to 0.34530, saving model to models/Caltech\\10-0.34529733657836914.hdf5\n",
      "\n",
      "Epoch 00011: loss improved from 0.34530 to 0.34285, saving model to models/Caltech\\11-0.3428506553173065.hdf5\n",
      "\n",
      "Epoch 00012: loss improved from 0.34285 to 0.33875, saving model to models/Caltech\\12-0.3387526571750641.hdf5\n",
      "\n",
      "Epoch 00013: loss improved from 0.33875 to 0.33189, saving model to models/Caltech\\13-0.3318944275379181.hdf5\n",
      "\n",
      "Epoch 00014: loss improved from 0.33189 to 0.32948, saving model to models/Caltech\\14-0.3294830918312073.hdf5\n",
      "\n",
      "Epoch 00015: loss improved from 0.32948 to 0.32015, saving model to models/Caltech\\15-0.3201533854007721.hdf5\n",
      "\n",
      "Epoch 00016: loss did not improve from 0.32015\n",
      "\n",
      "Epoch 00017: loss did not improve from 0.32015\n",
      "\n",
      "Epoch 00018: loss did not improve from 0.32015\n",
      "\n",
      "Epoch 00019: loss did not improve from 0.32015\n",
      "\n",
      "Epoch 00020: loss did not improve from 0.32015\n",
      "\n",
      "Epoch 00021: loss did not improve from 0.32015\n",
      "\n",
      "Epoch 00022: loss did not improve from 0.32015\n",
      "\n",
      "Epoch 00023: loss did not improve from 0.32015\n",
      "\n",
      "Epoch 00024: loss did not improve from 0.32015\n",
      "\n",
      "Epoch 00025: loss did not improve from 0.32015\n",
      "\n",
      "Epoch 00026: loss did not improve from 0.32015\n",
      "\n",
      "Epoch 00027: loss did not improve from 0.32015\n",
      "\n",
      "Epoch 00028: loss did not improve from 0.32015\n",
      "\n",
      "Epoch 00029: loss did not improve from 0.32015\n",
      "\n",
      "Epoch 00030: loss did not improve from 0.32015\n",
      "\n",
      "Epoch 00031: loss did not improve from 0.32015\n",
      "\n",
      "Epoch 00032: loss did not improve from 0.32015\n"
     ]
    }
   ],
   "source": [
    "# 모델 학습\n",
    "model.fit(X_train, y_train, batch_size=32, epochs=1000, callbacks=[callback1, callback2], verbose=0)"
   ]
  },
  {
   "cell_type": "code",
   "execution_count": 15,
   "metadata": {},
   "outputs": [
    {
     "name": "stdout",
     "output_type": "stream",
     "text": [
      "1215/1215 [==============================] - 5s 4ms/step - loss: 0.1120 - accuracy: 0.9729\n",
      "손실 : 0.11202547699213028\n",
      "정확도 : 0.9728818535804749\n"
     ]
    }
   ],
   "source": [
    "# 검증 데이터를 통한 평가\n",
    "score = model.evaluate(X_test, y_test)\n",
    "print(f'손실 : {score[0]}')\n",
    "print(f'정확도 : {score[1]}')"
   ]
  },
  {
   "cell_type": "code",
   "execution_count": 16,
   "metadata": {},
   "outputs": [
    {
     "name": "stdout",
     "output_type": "stream",
     "text": [
      "3644/3644 [==============================] - 15s 4ms/step - loss: 0.0124 - accuracy: 0.9967\n",
      "손실 : 0.012396670877933502\n",
      "정확도 : 0.9966723322868347\n"
     ]
    }
   ],
   "source": [
    "# 학습 데이터를 통한 평가\n",
    "score2 = model.evaluate(X_train, y_train)\n",
    "print(f'손실 : {score2[0]}')\n",
    "print(f'정확도 : {score2[1]}')"
   ]
  },
  {
   "cell_type": "code",
   "execution_count": null,
   "metadata": {},
   "outputs": [],
   "source": []
  }
 ],
 "metadata": {
  "kernelspec": {
   "display_name": "Python 3",
   "language": "python",
   "name": "python3"
  },
  "language_info": {
   "codemirror_mode": {
    "name": "ipython",
    "version": 3
   },
   "file_extension": ".py",
   "mimetype": "text/x-python",
   "name": "python",
   "nbconvert_exporter": "python",
   "pygments_lexer": "ipython3",
   "version": "3.8.5"
  }
 },
 "nbformat": 4,
 "nbformat_minor": 4
}
