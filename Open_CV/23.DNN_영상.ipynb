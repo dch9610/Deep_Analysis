{
 "cells": [
  {
   "cell_type": "code",
   "execution_count": 1,
   "metadata": {},
   "outputs": [],
   "source": [
    "import cv2\n",
    "import numpy as np"
   ]
  },
  {
   "cell_type": "code",
   "execution_count": 2,
   "metadata": {},
   "outputs": [],
   "source": [
    "model_name = 'opencv_data/res10_300x300_ssd_iter_140000.caffemodel'\n",
    "prototxt_name = 'opencv_data/deploy.prototxt.txt'\n",
    "\n",
    "# 최소 예측 정확도\n",
    "min_confidence = 0.5\n",
    "file_name = 'opencv_data/video/obama_01.mp4'"
   ]
  },
  {
   "cell_type": "code",
   "execution_count": 3,
   "metadata": {},
   "outputs": [],
   "source": [
    "# 분석 모델을 생성한다.\n",
    "model = cv2.dnn.readNetFromCaffe(prototxt_name, model_name)"
   ]
  },
  {
   "cell_type": "code",
   "execution_count": null,
   "metadata": {},
   "outputs": [],
   "source": []
  },
  {
   "cell_type": "code",
   "execution_count": null,
   "metadata": {},
   "outputs": [],
   "source": []
  },
  {
   "cell_type": "code",
   "execution_count": 9,
   "metadata": {},
   "outputs": [],
   "source": [
    "# 영상을 재생한다.\n",
    "cap = cv2.VideoCapture(file_name)\n",
    "\n",
    "while True:\n",
    "    # 영상 프레임 하나를 읽어온다.\n",
    "    ret, frame = cap.read()\n",
    "    \n",
    "    # 더 이상 읽어온 프레임이 없다면 중단시킨다.\n",
    "    if frame is None:\n",
    "        break\n",
    "        \n",
    "    # frame의 사이즈를 300x300으로 조정한다.\n",
    "    a1 = cv2.resize(frame,(300,300))\n",
    "    # 2진 데이터로 변환한다.\n",
    "    blob = cv2.dnn.blobFromImage(a1, 1.0, (300,300), (104.0, 177.0, 123.0))\n",
    "    # 변환된 데이터를 모델에 넣어준다.\n",
    "    model.setInput(blob)\n",
    "    \n",
    "    # 얼굴을 인식한다.\n",
    "    detections = model.forward()\n",
    "    #print(detections.shape[2]) # 인식된 얼굴의 수\n",
    "    \n",
    "    # 인식된 얼굴의 수만큼 반복한다.\n",
    "    for i in range(0,detections.shape[2]):\n",
    "        \n",
    "        # 얼굴임을 예측한 정확도를 가져온다.\n",
    "        confidence = detections[0,0,i,2]\n",
    "        # print(confidence)\n",
    "        \n",
    "        # 원본 이미지의 가로, 세로 길이를 구한다.\n",
    "        height = frame.shape[0]\n",
    "        width = frame.shape[1]\n",
    "        \n",
    "        # 인식된 얼굴의 위치(비율)를 추출한다.\n",
    "        box1 = detections[0,0,i,3:7]\n",
    "        # 비율을 실제 조표로 환산한다.\n",
    "        box2 = box1 * np.array([width, height, width, height])\n",
    "        x1, y1, x2, y2 = box2.astype('int')\n",
    "        # print(x1,y1,x2,y2)\n",
    "        \n",
    "        # 예측 정확도가 최소 정확도보다 높은 것만 처리한다.\n",
    "        if confidence > min_confidence:\n",
    "            # 영역을 표시한다.(사각형을 그린다.)\n",
    "            cv2.rectangle(frame, (x1,y1),(x2,y2), (0,255,0),2)\n",
    "            # 예측 정확도를 표시한다.\n",
    "            text = f'{int(confidence*100)}%'\n",
    "            cv2.putText(frame, text, (x1,y1-5), cv2.FONT_HERSHEY_SCRIPT_SIMPLEX, 0.5, (0,0,255),2)   \n",
    "    \n",
    "    \n",
    "    cv2.imshow('test', frame)\n",
    "    \n",
    "    if cv2.waitKey(1) & 0xFF == ord('q'):\n",
    "        break\n",
    "        \n",
    "cv2.destroyAllWindows()"
   ]
  },
  {
   "cell_type": "code",
   "execution_count": null,
   "metadata": {},
   "outputs": [],
   "source": []
  }
 ],
 "metadata": {
  "kernelspec": {
   "display_name": "Python 3",
   "language": "python",
   "name": "python3"
  },
  "language_info": {
   "codemirror_mode": {
    "name": "ipython",
    "version": 3
   },
   "file_extension": ".py",
   "mimetype": "text/x-python",
   "name": "python",
   "nbconvert_exporter": "python",
   "pygments_lexer": "ipython3",
   "version": "3.8.5"
  }
 },
 "nbformat": 4,
 "nbformat_minor": 4
}
