{
 "cells": [
  {
   "cell_type": "code",
   "execution_count": 1,
   "metadata": {},
   "outputs": [],
   "source": [
    "import cv2 \n",
    "import numpy as np"
   ]
  },
  {
   "cell_type": "code",
   "execution_count": null,
   "metadata": {},
   "outputs": [],
   "source": []
  },
  {
   "cell_type": "code",
   "execution_count": 2,
   "metadata": {},
   "outputs": [],
   "source": [
    "# 이미지를 불러온다.\n",
    "# img = cv2.imread('opencv_data/image/marathon_01.jpg')\n",
    "# img = cv2.imread('opencv_data/image/marathon_02.jpg')\n",
    "img = cv2.imread('opencv_data/image/soccer_01.jpg')"
   ]
  },
  {
   "cell_type": "code",
   "execution_count": 3,
   "metadata": {},
   "outputs": [],
   "source": [
    "# 이미지를 띄운다.\n",
    "cv2.imshow('Original image', img)"
   ]
  },
  {
   "cell_type": "code",
   "execution_count": 4,
   "metadata": {
    "scrolled": true
   },
   "outputs": [],
   "source": [
    "# 사진 정보\n",
    "print(f'width : {img.shape[1]}')\n",
    "print(f'height : {img.shape[0]}')\n",
    "print(f'channels : {img.shape[2]}')"
   ]
  },
  {
   "cell_type": "code",
   "execution_count": 5,
   "metadata": {},
   "outputs": [],
   "source": [
    "# Haar Classifier 사용을 위한 케스케이트 파일\n",
    "# Haar Obiect Detection은 학습을 통해 구해진 가중치와 레이어의 구조가 정의되어 있는\n",
    "# 파일을 불러와 사물을 인식하는 형태로 동작을 한다.\n",
    "# 학습과정은 존재하지 않음. \n",
    "# 작업속도는 빠르지만 인지하지 못하는 사물들이 존재할 수 있다.\n",
    "\n",
    "# 얼굴 인식\n",
    "face_cascade_name = 'opencv_data/haarcascades/haarcascade_frontalface_alt.xml'\n",
    "# 눈 인식\n",
    "eyes_cascade_name = 'opencv_data/haarcascades/haarcascade_eye_tree_eyeglasses.xml'"
   ]
  },
  {
   "cell_type": "code",
   "execution_count": 6,
   "metadata": {},
   "outputs": [],
   "source": [
    "# cascadeClassifier 생성\n",
    "face_cascade = cv2.CascadeClassifier()\n",
    "eyes_cascade = cv2.CascadeClassifier()"
   ]
  },
  {
   "cell_type": "code",
   "execution_count": 7,
   "metadata": {},
   "outputs": [],
   "source": [
    "# 각 분류기에 cascade 파일을 지정한다.\n",
    "face_cascade.load(cv2.samples.findFile(face_cascade_name))\n",
    "eyes_cascade.load(cv2.samples.findFile(eyes_cascade_name))"
   ]
  },
  {
   "cell_type": "code",
   "execution_count": 8,
   "metadata": {},
   "outputs": [],
   "source": [
    "# 사용할 이미지를 그레이스케일로 변환 (인식률 향상)\n",
    "frame_gray = cv2.cvtColor(img, cv2.COLOR_BGR2GRAY)\n",
    "\n",
    "# 이미지 데이터를 표준화 한다 (인식률 향상)\n",
    "frame_gray = cv2.equalizeHist(frame_gray)\n",
    "\n",
    "# 얼굴을 인식한다.\n",
    "# 인식된 부분은 이미지상의 좌측 상단 지점 x,y 좌표와 가로 세로 길이로 반환된다.\n",
    "faces = face_cascade.detectMultiScale(frame_gray)\n",
    "# print(faces)\n",
    "\n",
    "# 인식한 얼굴의 수만큼 반복한다.\n",
    "for x,y,w,h in faces:\n",
    "    # 인식한 얼굴을 네모로 그려준다.\n",
    "    # 이미지, 사각형의 좌측상단점, 사각형의 우측 하단점, 색상, 두께\n",
    "    frame = cv2.rectangle(img,(x,y), (x+w,y+h), (0,255,0),4)\n",
    "    \n",
    "    # 눈을 찾기위해 얼굴 데이터만 가져온다.\n",
    "    faceROI = frame_gray[y:y+h,x:x+w,]\n",
    "    # 추출한 얼굴 데이터에서 눈을 인식한다.\n",
    "    eyes = eyes_cascade.detectMultiScale(faceROI)\n",
    "    # print(eyes)\n",
    "    \n",
    "    # 눈의 수만큼 반복하며 동그라미로 표시한다.\n",
    "    for x2, y2,w2,h2 in eyes:\n",
    "        # 눈의 중심점\n",
    "        eye_center = x + x2 + w2//2, y + y2 + h2//2\n",
    "        # 반경을 계산한다.\n",
    "        radius = int(round((w2 + h2) * 0.25))\n",
    "        # 원을 그린다.\n",
    "        frame = cv2. circle(img, eye_center, radius, (255,0,0),4)\n",
    "    \n",
    "    \n",
    "cv2.imshow('Face detection',frame)"
   ]
  },
  {
   "cell_type": "code",
   "execution_count": 9,
   "metadata": {},
   "outputs": [],
   "source": [
    "cv2.waitKey()\n",
    "cv2.destroyAllWindows()"
   ]
  }
 ],
 "metadata": {
  "kernelspec": {
   "display_name": "Python 3",
   "language": "python",
   "name": "python3"
  },
  "language_info": {
   "codemirror_mode": {
    "name": "ipython",
    "version": 3
   },
   "file_extension": ".py",
   "mimetype": "text/x-python",
   "name": "python",
   "nbconvert_exporter": "python",
   "pygments_lexer": "ipython3",
   "version": "3.8.5"
  }
 },
 "nbformat": 4,
 "nbformat_minor": 4
}
