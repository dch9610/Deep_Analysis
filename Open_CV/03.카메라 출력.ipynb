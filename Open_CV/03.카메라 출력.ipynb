{
 "cells": [
  {
   "cell_type": "markdown",
   "metadata": {},
   "source": [
    "### 카메라를 통해 스트리밍 방식으로 촬영할 수 있다.\n",
    "- 카메라 장치 ID를 지정해야 한다.\n",
    "- 노트북에 장착되어 있는 기본 카메라는 0\n",
    "- USB등으로 연결한 외부 카메라는 1부터 ~ n까지에 해당"
   ]
  },
  {
   "cell_type": "code",
   "execution_count": 1,
   "metadata": {},
   "outputs": [],
   "source": [
    "import cv2\n",
    "import matplotlib.pyplot as plt\n",
    "from IPython.display import clear_output"
   ]
  },
  {
   "cell_type": "code",
   "execution_count": 2,
   "metadata": {},
   "outputs": [],
   "source": [
    "# 노트북 내장 카메라에 연결\n",
    "# d\n",
    "camera = cv2.VideoCapture(0)"
   ]
  },
  {
   "cell_type": "code",
   "execution_count": 3,
   "metadata": {},
   "outputs": [
    {
     "data": {
      "text/plain": [
       "False"
      ]
     },
     "execution_count": 3,
     "metadata": {},
     "output_type": "execute_result"
    }
   ],
   "source": [
    "# 카메라 사용 가능여부 확인\n",
    "camera.isOpened()"
   ]
  },
  {
   "cell_type": "code",
   "execution_count": 4,
   "metadata": {},
   "outputs": [
    {
     "data": {
      "text/plain": [
       "False"
      ]
     },
     "execution_count": 4,
     "metadata": {},
     "output_type": "execute_result"
    }
   ],
   "source": [
    "# 촬영 사이즈\n",
    "camera.set(cv2.CAP_PROP_FRAME_WIDTH, 640)\n",
    "camera.set(cv2.CAP_PROP_FRAME_HEIGHT, 640)"
   ]
  },
  {
   "cell_type": "code",
   "execution_count": null,
   "metadata": {},
   "outputs": [],
   "source": [
    "# 촬영 시작\n",
    "# waitKey() : 키입력 대기, 33은 엔터키를 의미한다. \n",
    "while cv2.waitKey(33) < 0:\n",
    "    # 촬영한다.\n",
    "    ret, frame = camera.read()\n",
    "    \n",
    "    # 촬영한 화명을 화면에 띄운다.\n",
    "    cv2.imshow('VideoFrame', frame)\n",
    "    \n",
    "    # 주피터에서 보여줌\n",
    "    # clear_output(wait=True)\n",
    "    # plt.imshow(frame)\n",
    "    # plt.show()\n",
    "    \n",
    "# 종료\n",
    "camera.release()\n",
    "cv2.destroyAllWindows()"
   ]
  }
 ],
 "metadata": {
  "kernelspec": {
   "display_name": "Python 3",
   "language": "python",
   "name": "python3"
  },
  "language_info": {
   "codemirror_mode": {
    "name": "ipython",
    "version": 3
   },
   "file_extension": ".py",
   "mimetype": "text/x-python",
   "name": "python",
   "nbconvert_exporter": "python",
   "pygments_lexer": "ipython3",
   "version": "3.8.5"
  }
 },
 "nbformat": 4,
 "nbformat_minor": 4
}
