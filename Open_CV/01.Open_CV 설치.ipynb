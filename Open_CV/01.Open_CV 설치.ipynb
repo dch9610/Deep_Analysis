{
 "cells": [
  {
   "cell_type": "markdown",
   "metadata": {},
   "source": [
    "- 설치 참고 : http://hello-bryan.tistory.com/29\n",
    "- 공식 사이트 : https://opencv.org/\n",
    "- 다운로드 주소 :\n",
    "https://sourceforge.net/projects/opencvlibrary/files/4.5.1/opencv-4.5.1-vc14_vc15.exe/download"
   ]
  },
  {
   "cell_type": "markdown",
   "metadata": {},
   "source": [
    "- 파일을 내려받아 실행하면 압축이 풀림\n",
    "- 압축을 해제한 opencv 폴더를 찾기 쉬운곳으로 이동시킴\n",
    "---\n",
    "- 환경변수를 설정한다.\n",
    "    1. opencv 폴더의 위치를 설정하는 작업을 한다.\n",
    "    2. 환경변수에 OPENCV_BUILD를 추가하고 bulid까지의 경로를 설정한다.\n",
    "        - 내PC 우클릭후 속성으로 들어가 고급 시스템 설정 => 환경변수\n",
    "        - 새로 만들기를 눌러 환경변수 설정 => \n",
    "            변수이름 : OPENCV_BUILD, 변수값 : C:\\opencv\\build\n",
    "    3. opencv에서 제공하는 파일을 모든 위치에서 사용할 수 있도록 설정\n",
    "        - 시스템 변수 path를 클릭 => 경로 추가 : C:\\opencv\\build\\x64\\vc15\\bin\n",
    "\n",
    "\n",
    "- 파이썬용 라이브러리를 설치한다.\n",
    "    - pip install opencv-python"
   ]
  }
 ],
 "metadata": {
  "kernelspec": {
   "display_name": "Python 3",
   "language": "python",
   "name": "python3"
  },
  "language_info": {
   "codemirror_mode": {
    "name": "ipython",
    "version": 3
   },
   "file_extension": ".py",
   "mimetype": "text/x-python",
   "name": "python",
   "nbconvert_exporter": "python",
   "pygments_lexer": "ipython3",
   "version": "3.8.5"
  }
 },
 "nbformat": 4,
 "nbformat_minor": 4
}
