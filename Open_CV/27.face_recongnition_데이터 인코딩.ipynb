{
 "cells": [
  {
   "cell_type": "code",
   "execution_count": 1,
   "metadata": {},
   "outputs": [],
   "source": [
    "import cv2\n",
    "import face_recognition\n",
    "import pickle"
   ]
  },
  {
   "cell_type": "code",
   "execution_count": 3,
   "metadata": {},
   "outputs": [],
   "source": [
    "# 학습 데이터가 있는 폴더 리스트\n",
    "dataset_paths = ['opencv_data/dataset/son/', 'opencv_data/dataset/tedy/']\n",
    "\n",
    "# 결과 데이터\n",
    "names = ['Son','Tedy']\n",
    "\n",
    "# 이미지의 개수 (폴더당 이미지 수)\n",
    "number_images = 10\n",
    "\n",
    "# 확장자 \n",
    "image_type = '.jpg'\n",
    "\n",
    "# 인코딩된 데이터를 저장할 파일 이름\n",
    "encoding_file = 'encoding.pickle'\n",
    "\n",
    "# 신경망 종류(cnn, hog)\n",
    "# cnn : 속도가 느리지만 정확도가 높다. gpu를 사용할 수 있는 환경이라면 hog와 속도가 비슷\n",
    "# hog : 속도가 빠르지만 정확도가 낮다. gpu를 사용할 수 없는 환경이라면 cnn보다 20배정도 빠르다\n",
    "model_method = 'cnn'"
   ]
  },
  {
   "cell_type": "code",
   "execution_count": 4,
   "metadata": {},
   "outputs": [],
   "source": [
    "# 이미지를 인코딩한 데이터를 담을 리스트\n",
    "knownEncodings = []\n",
    "\n",
    "# 결과 데이터를 담을 리스트\n",
    "knownNames = []"
   ]
  },
  {
   "cell_type": "code",
   "execution_count": 12,
   "metadata": {},
   "outputs": [],
   "source": [
    "# 학습할 이미지가 들어 있는 폴더의 수 만큼 반복한다.\n",
    "for i, path in enumerate(dataset_paths):\n",
    "    # i 번째 결과 데이터\n",
    "    name = names[i]\n",
    "    # print(name)\n",
    "    \n",
    "    # 폴더 내의 이미지 수 만틈 반복한다.\n",
    "    for idx in range(number_images):\n",
    "        # 데이터를 읽어올 이미지 파일명\n",
    "        file_name = path + str(idx + 1) + image_type\n",
    "        # print(file_name)\n",
    "        \n",
    "        # 이미지 데이터를 읽어온다.\n",
    "        image = cv2.imread(file_name)\n",
    "        \n",
    "        # BGR 형태의 색상 체계를 RGB형태로 변환한다.\n",
    "        rgb = cv2.cvtColor(image, cv2.COLOR_BGR2RGB)\n",
    "        \n",
    "        # face_recognition을 이용해 학습 사진의 얼굴 부위 데이터를 추출한다.\n",
    "        boxes = face_recognition.face_locations(rgb, model=model_method)\n",
    "        # print(boxes)\n",
    "        \n",
    "        # 추출한 얼굴 부위와 이미지 데이터를 이용해 얼굴 데이터를 인코딩한다.\n",
    "        encodings = face_recognition.face_encodings(rgb, boxes)\n",
    "        # print(encodings)\n",
    "        \n",
    "        # 추출한 얼굴 부위 데이터를 담아준다.\n",
    "        for enc in encodings:\n",
    "            knownEncodings.append(enc)\n",
    "            knownNames.append(name)"
   ]
  },
  {
   "cell_type": "code",
   "execution_count": 13,
   "metadata": {},
   "outputs": [
    {
     "name": "stdout",
     "output_type": "stream",
     "text": [
      "저장완료\n"
     ]
    }
   ],
   "source": [
    "# 파일로 저장한다.\n",
    "data = {'encodings' : knownEncodings, 'names': knownNames}\n",
    "\n",
    "with open(encoding_file, 'wb') as fp:\n",
    "    fp.write(pickle.dumps(data))\n",
    "    \n",
    "print('저장완료')"
   ]
  }
 ],
 "metadata": {
  "kernelspec": {
   "display_name": "Python 3",
   "language": "python",
   "name": "python3"
  },
  "language_info": {
   "codemirror_mode": {
    "name": "ipython",
    "version": 3
   },
   "file_extension": ".py",
   "mimetype": "text/x-python",
   "name": "python",
   "nbconvert_exporter": "python",
   "pygments_lexer": "ipython3",
   "version": "3.8.5"
  }
 },
 "nbformat": 4,
 "nbformat_minor": 4
}
