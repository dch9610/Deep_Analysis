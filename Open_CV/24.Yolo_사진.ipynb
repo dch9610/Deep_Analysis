{
 "cells": [
  {
   "cell_type": "code",
   "execution_count": 1,
   "metadata": {},
   "outputs": [],
   "source": [
    "import cv2\n",
    "import numpy as np"
   ]
  },
  {
   "cell_type": "code",
   "execution_count": 2,
   "metadata": {},
   "outputs": [],
   "source": [
    "# 최소 정확도\n",
    "min_confidence = 0.9"
   ]
  },
  {
   "cell_type": "code",
   "execution_count": 3,
   "metadata": {},
   "outputs": [],
   "source": [
    "# yolo 모델을 로딩한다.\n",
    "net = cv2.dnn.readNet('opencv_data/yolo/yolov3.weights', 'opencv_data/yolo/yolov3.cfg')"
   ]
  },
  {
   "cell_type": "code",
   "execution_count": 4,
   "metadata": {},
   "outputs": [],
   "source": [
    "# 물체 종류를 리스트로 추출한다.\n",
    "with open('opencv_data/yolo/coco.names', 'r') as fp:\n",
    "    classes = [line.strip() for line in fp.readlines()]\n",
    "    # print(classes)"
   ]
  },
  {
   "cell_type": "code",
   "execution_count": 5,
   "metadata": {},
   "outputs": [],
   "source": [
    "# 은닉층의 이름들을 추출한다.\n",
    "layer_names = net.getLayerNames()\n",
    "\n",
    "# 다수의 신경망을 사용하는 yolo  모델에서 각 신경망의 출력층 이름을 가져온다.\n",
    "output_layers = [layer_names[i[0] - 1] for i in net.getUnconnectedOutLayers()]"
   ]
  },
  {
   "cell_type": "code",
   "execution_count": 6,
   "metadata": {},
   "outputs": [],
   "source": [
    "# 각 물체에 대해 표시할 영역의 색상을 랜덤으로 정해준다,\n",
    "colors = np.random.uniform(0, 255, size=(len(classes),  2))"
   ]
  },
  {
   "cell_type": "code",
   "execution_count": 7,
   "metadata": {},
   "outputs": [],
   "source": [
    "# 이미지를 불러온다.\n",
    "# img = cv2.imread('opencv_data/image/yolo_01.jpg')\n",
    "img = cv2.imread('opencv_data/image/marathon_02.jpg')"
   ]
  },
  {
   "cell_type": "code",
   "execution_count": 8,
   "metadata": {},
   "outputs": [],
   "source": [
    "# 이미지 정보를 추출한다.\n",
    "height, width, channels = img.shape\n",
    "\n",
    "# 원본 이미지를 띄운다.\n",
    "cv2.imshow('Orinigal',img)"
   ]
  },
  {
   "cell_type": "code",
   "execution_count": 9,
   "metadata": {},
   "outputs": [],
   "source": [
    "# 이미지를 리사이징해서 2진데이터로 바꾼다.\n",
    "# (320x320) 크기를 작게하면 정확도는 떨어지지만 속도는 올라간다.\n",
    "blob = cv2.dnn.blobFromImage(img, 0.00382,(416, 416), (0,0,0), True, crop=False)"
   ]
  },
  {
   "cell_type": "code",
   "execution_count": 10,
   "metadata": {},
   "outputs": [],
   "source": [
    "# 2진 데이터를 넣어서 예측 결과를 가져온다.\n",
    "net.setInput(blob)\n",
    "outs = net.forward(output_layers)\n",
    "#print(outs)"
   ]
  },
  {
   "cell_type": "code",
   "execution_count": 11,
   "metadata": {},
   "outputs": [],
   "source": [
    "# 예측된 결과를 담을 리스트\n",
    "# 인지된 사물의 인덱스 번호\n",
    "class_ids = []\n",
    "# 예측 정확도\n",
    "confidences = []\n",
    "# 인지된 사물의 영역\n",
    "boxes = []"
   ]
  },
  {
   "cell_type": "code",
   "execution_count": 12,
   "metadata": {},
   "outputs": [],
   "source": [
    "# 각 신경망이 예측한 결과 묶음의 개수(3개)만큼 반복한다.\n",
    "for out in outs:\n",
    "    # 예측된 사물의 수만큼 반복한다.\n",
    "    for detection in out:\n",
    "        \n",
    "        # 예측 정확도를 가지고 있는 배열을 추출한다.\n",
    "        scores = detection[5:]\n",
    "        \n",
    "        # 가장 높은 정확도를 가지고 있는 곳의 인덱스를 추출한다.\n",
    "        class_id = np.argmax(scores)\n",
    "        # print(class_id)\n",
    "        # print(collections.Counter(scores))\n",
    "        \n",
    "        # 예측 정확도를 가져온다.\n",
    "        confidence = scores[class_id]\n",
    "        # print(confidence)\n",
    "        \n",
    "        # 예측 정확도가 설정한 최소 정확도보다 큰것만 사용한다.\n",
    "        if confidence > min_confidence:\n",
    "            # 감지한 물체에 영역을 표시한다.\n",
    "            # 물체의 중앙점 x,y 좌표\n",
    "            center_x = int(detection[0] * width)\n",
    "            center_y = int(detection[1] * height)\n",
    "\n",
    "            # 물체의 가로 세로 길이\n",
    "            w = int(detection[2] * width)\n",
    "            h = int(detection[3] * height)\n",
    "\n",
    "            # 영역의 x,y 좌표\n",
    "            x = int(center_x - w/2)\n",
    "            y = int(center_y - h/2)\n",
    "\n",
    "            # print(x,y,w,h)\n",
    "\n",
    "            cv2.rectangle(img,(x,y), (x+w, y+h), colors[class_id],2)\n",
    "            \n",
    "            # 물체 이름을 표시한다.\n",
    "            # 물체이름과 정확도 표시\n",
    "            text = f'{classes[class_id]} : {int(confidence * 100)}'\n",
    "            cv2.putText(img, text, (x,y-5), cv2.FONT_HERSHEY_SIMPLEX, 1, colors[class_id],1)\n",
    "            \n",
    "            # 검출된 항목의 인덱스를 담는다.\n",
    "            class_ids.append(class_id)\n",
    "            # 검출된 항목의 예측 정확도를 담는다.\n",
    "            confidences.append(confidence)\n",
    "            # 인지된 사물의 영역을 담는다.\n",
    "            boxes.append((x,y,w,h))"
   ]
  },
  {
   "cell_type": "code",
   "execution_count": 13,
   "metadata": {},
   "outputs": [
    {
     "name": "stdout",
     "output_type": "stream",
     "text": [
      "이름:person\n",
      "정확도:0.9992872476577759\n",
      "영역 : (-5, 10, 228, 186)\n",
      "--------------------\n",
      "이름:person\n",
      "정확도:0.9999347925186157\n",
      "영역 : (6, 10, 231, 185)\n",
      "--------------------\n",
      "이름:person\n",
      "정확도:0.9856717586517334\n",
      "영역 : (28, 7, 214, 190)\n",
      "--------------------\n",
      "이름:tie\n",
      "정확도:0.9214240312576294\n",
      "영역 : (110, 194, 50, 10)\n",
      "--------------------\n"
     ]
    }
   ],
   "source": [
    "# 결과 출력\n",
    "for idx in range(len(class_ids)):\n",
    "    a1 = classes[class_ids[idx]]\n",
    "    a2 = confidences[idx]\n",
    "    a3 = boxes[idx]\n",
    "    \n",
    "    print(f'이름:{a1}')\n",
    "    print(f'정확도:{a2}')\n",
    "    print(f'영역 : {a3}')\n",
    "    print('-'*20)"
   ]
  },
  {
   "cell_type": "code",
   "execution_count": 14,
   "metadata": {},
   "outputs": [],
   "source": [
    "cv2.imshow('YOLO',img)\n",
    "cv2.waitKey()\n",
    "cv2.destroyAllWindows()"
   ]
  },
  {
   "cell_type": "markdown",
   "metadata": {},
   "source": [
    "haar \n",
    "=> [좌측상단 x, 좌측상단 y, 가로 w, 세로 h]\n",
    "\n",
    "dnn \n",
    "=> [좌측상단 x비율, 좌측상단 y비율, 우측하단 x비율, 우측하단 y비율]\n",
    "\n",
    "yolo\n",
    "=> [좌측상단 x비율, 좌측상단 y비율, 가로 비율, 세로 비율]"
   ]
  }
 ],
 "metadata": {
  "kernelspec": {
   "display_name": "Python 3",
   "language": "python",
   "name": "python3"
  },
  "language_info": {
   "codemirror_mode": {
    "name": "ipython",
    "version": 3
   },
   "file_extension": ".py",
   "mimetype": "text/x-python",
   "name": "python",
   "nbconvert_exporter": "python",
   "pygments_lexer": "ipython3",
   "version": "3.8.5"
  }
 },
 "nbformat": 4,
 "nbformat_minor": 4
}
