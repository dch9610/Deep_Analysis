{
 "cells": [
  {
   "cell_type": "code",
   "execution_count": 1,
   "metadata": {},
   "outputs": [],
   "source": [
    "import cv2"
   ]
  },
  {
   "cell_type": "code",
   "execution_count": 4,
   "metadata": {},
   "outputs": [],
   "source": [
    "# 이미지를 불러온다.\n",
    "image = cv2.imread('../images/opencv_image/1.jpg', cv2.IMREAD_REDUCED_COLOR_2)\n",
    "cv2.imshow(\"Moon\", image)\n",
    "\n",
    "# 키 입력 대기 후 창 없어지게 하기\n",
    "cv2.waitKey()\n",
    "cv2.destroyAllWindows()"
   ]
  },
  {
   "cell_type": "markdown",
   "metadata": {},
   "source": [
    "- cv2.imread(파일명, 초기상태 설정)\n",
    "- 초기상태\n",
    "- cv2.IMREAD_UNCHANGED : 원본 그대로\n",
    "- cv2.IMREAD_GRAYSCALE : 1채널, 그레이스케일 적용\n",
    "- cv2.IMREAD_COLOR : 3채널, BGR 이미지 사용\n",
    "- cv2.IMREAD_ANYDEPTH : 이미지에 따라 정밀도를 16/32비트 또는 8비트로 사용\n",
    "- cv2.IMREAD_ANYCOLOR : 가능한 3채널, 색상 이미지로 사용한다.\n",
    "- cv2.IMREAD_REDUCED_GRAYSCALE_2 : 1채널, 1/2크기, 그레이스케일 적용\n",
    "- cv2.IMREAD_REDUCED_GRAYSCALE_4 : 1채널, 1/4크기, 그레이스케일 적용\n",
    "- cv2.IMREAD_REDUCED_GRAYSCALE_8 : 1채널, 1/8크기, 그레이스케일 적용\n",
    "- cv2.IMREAD_REDUCED_COLOR_2 : 3채널, 1/2크기, BGR 이미지 사용\n",
    "- cv2.IMREAD_REDUCED_COLOR_4 : 3채널, 1/4크기, BGR 이미지 사용\n",
    "- cv2.IMREAD_REDUCED_COLOR_8 : 3채널, 1/8크기, BGR 이미지 사용"
   ]
  },
  {
   "cell_type": "code",
   "execution_count": null,
   "metadata": {},
   "outputs": [],
   "source": []
  }
 ],
 "metadata": {
  "kernelspec": {
   "display_name": "Python 3",
   "language": "python",
   "name": "python3"
  },
  "language_info": {
   "codemirror_mode": {
    "name": "ipython",
    "version": 3
   },
   "file_extension": ".py",
   "mimetype": "text/x-python",
   "name": "python",
   "nbconvert_exporter": "python",
   "pygments_lexer": "ipython3",
   "version": "3.8.5"
  }
 },
 "nbformat": 4,
 "nbformat_minor": 4
}
