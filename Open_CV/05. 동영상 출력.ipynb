{
 "cells": [
  {
   "cell_type": "markdown",
   "metadata": {},
   "source": [
    "- OpenCV는 FFmpeg를 지원하므로 avi, mp4 등 다양한 형태의 동영상을 재생할 수 있다.\n",
    "- gif 이미지도 지원한다.\n"
   ]
  },
  {
   "cell_type": "code",
   "execution_count": 1,
   "metadata": {},
   "outputs": [],
   "source": [
    "import cv2"
   ]
  },
  {
   "cell_type": "code",
   "execution_count": 2,
   "metadata": {},
   "outputs": [],
   "source": [
    "# 영상 파일을 설정한다.\n",
    "video = cv2.VideoCapture('../images/opencv_image/video.mp4')"
   ]
  },
  {
   "cell_type": "code",
   "execution_count": 3,
   "metadata": {},
   "outputs": [
    {
     "data": {
      "text/plain": [
       "0.0"
      ]
     },
     "execution_count": 3,
     "metadata": {},
     "output_type": "execute_result"
    }
   ],
   "source": [
    "# 현재 재생되고 있는 프레임 위치\n",
    "video.get(cv2.CAP_PROP_POS_FRAMES)"
   ]
  },
  {
   "cell_type": "code",
   "execution_count": 4,
   "metadata": {},
   "outputs": [
    {
     "data": {
      "text/plain": [
       "8662.0"
      ]
     },
     "execution_count": 4,
     "metadata": {},
     "output_type": "execute_result"
    }
   ],
   "source": [
    "# 전체 프레임 수\n",
    "video.get(cv2.CAP_PROP_FRAME_COUNT)"
   ]
  },
  {
   "cell_type": "code",
   "execution_count": 5,
   "metadata": {},
   "outputs": [],
   "source": [
    "# 엔터키 누르면 종료되게 설정\n",
    "while cv2.waitKey(33) < 0:\n",
    "    # 현재 재생위치\n",
    "    a1 = video.get(cv2.CAP_PROP_POS_FRAMES)\n",
    "    # 현재 프레임 수\n",
    "    a2 = video.get(cv2.CAP_PROP_FRAME_COUNT)\n",
    "    # 현재 재생위치가 마지막 위치라면 제일 처음으로 이동한다.\n",
    "    if a1 == a2:\n",
    "        video.set(cv2.CAP_PROP_POS_FRAMES, 0)\n",
    "        \n",
    "    # 재생 \n",
    "    ret, frame = video.read()\n",
    "    cv2.imshow('VideoFrame', frame)\n",
    "    \n",
    "video.release()\n",
    "cv2.destroyAllWindows()"
   ]
  },
  {
   "cell_type": "markdown",
   "metadata": {},
   "source": [
    "### VideoCapture 제공 메서드\n",
    "- isOpened : 동영상 파일 열기 성공 여부 확인\n",
    "- open(파일명) : 동영상 파일 열기\n",
    "- set(설정할 값 종류, 설정값) : 동영상 속성 설정\n",
    "- get(속성) : 동영상 속성값 가져오기\n",
    "- release : 동영상 파일을 닫고 메모리에서 제거"
   ]
  },
  {
   "cell_type": "markdown",
   "metadata": {},
   "source": [
    "### VIdeoCapture 속성\n",
    "- cv2.CAP_PROP_FRAME_WIDTH : 영상 가로길이\n",
    "- cv2.CAP_PROP_FRAME_HEIGHT : 영상 세로길이\n",
    "- cv2.CAP_PROP_FRAME_COUNT : 총 프레임 수\n",
    "- cv2.CAP_PROP_FPS : 프레임 속도\n",
    "- cv2.CAP_PROP_FOURCC : 코덱 종류\n",
    "- cv2.CAP_PROP_POS_MSEC : 재생 시간 (MS)\n",
    "- cv2.CAP_PROP_POS_FRAMES : 재생 프레임\n",
    "- cv2.CAP_PROP_AVI_RATIO : 비디오 파일 상대 위치 (0: 시작, 1:끝)\n",
    "---\n",
    "- cv2.CAP_PROP_BRIGHTNESS : 밝기 (카메라만 해당)\n",
    "- cv2.CAP_PROP_CONTRAST : 대비 (카메라만 해당)\n",
    "- cv2.CAP_PROP_SATURATION : 채도 (카메라만 해당)\n",
    "- cv2.CAP_PROP_HUE : 색상 (카메라만 해당)\n",
    "- cv2.CAP_PROP_GAIN : 게인값 (카메라만 해당)\n",
    "- cv2.CAP_PROP_EXPOSURE : 노출 (카메라만 해당)"
   ]
  }
 ],
 "metadata": {
  "kernelspec": {
   "display_name": "Python 3",
   "language": "python",
   "name": "python3"
  },
  "language_info": {
   "codemirror_mode": {
    "name": "ipython",
    "version": 3
   },
   "file_extension": ".py",
   "mimetype": "text/x-python",
   "name": "python",
   "nbconvert_exporter": "python",
   "pygments_lexer": "ipython3",
   "version": "3.8.5"
  }
 },
 "nbformat": 4,
 "nbformat_minor": 4
}
