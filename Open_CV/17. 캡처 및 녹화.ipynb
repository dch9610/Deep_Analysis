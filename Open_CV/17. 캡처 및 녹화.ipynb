{
 "cells": [
  {
   "cell_type": "code",
   "execution_count": 1,
   "metadata": {},
   "outputs": [],
   "source": [
    "import datetime\n",
    "import cv2"
   ]
  },
  {
   "cell_type": "code",
   "execution_count": 2,
   "metadata": {},
   "outputs": [],
   "source": [
    "# 비디오 불러오기\n",
    "video = cv2.VideoCapture('../images/opencv_image/video.mp4')"
   ]
  },
  {
   "cell_type": "code",
   "execution_count": 3,
   "metadata": {},
   "outputs": [],
   "source": [
    "# 녹화시 사용할 영상의 인코딩 방식\n",
    "fourcc = cv2.VideoWriter_fourcc(*'XVID')"
   ]
  },
  {
   "cell_type": "code",
   "execution_count": 4,
   "metadata": {},
   "outputs": [],
   "source": [
    "# 현재 녹화중인지 확인을 위한 변수\n",
    "record = False"
   ]
  },
  {
   "cell_type": "code",
   "execution_count": 5,
   "metadata": {},
   "outputs": [
    {
     "name": "stdout",
     "output_type": "stream",
     "text": [
      "녹화 시작\n",
      "녹화 중지\n"
     ]
    }
   ],
   "source": [
    "while True : \n",
    "    # 영상 출력\n",
    "    ret, frame = video.read()\n",
    "    cv2.imshow('VideoFrame', frame)\n",
    "    \n",
    "    # 키 입력을 받는다.\n",
    "    key = cv2.waitKey(33)\n",
    "    \n",
    "    # 입력한 키별로 분기한다.\n",
    "    \n",
    "    # esc 키\n",
    "    if key == 27:\n",
    "        break\n",
    "        \n",
    "    # Ctrl + z\n",
    "    elif key == 26:\n",
    "        print(\"캡처\")\n",
    "        now = datetime.datetime.now().strftime('%d_%H-%M-%S')\n",
    "        \n",
    "        # 현재 화면을 저장한다.\n",
    "        cv2.imwrite(now + '.png', frame)\n",
    "    \n",
    "    # Ctrl + x\n",
    "    elif key == 24:\n",
    "        print('녹화 시작')\n",
    "        now = datetime.datetime.now().strftime('%d_%H-%M-%S')\n",
    "        # 파일명, 코덱, FPS, (녹화 세로길이, 가로길이)\n",
    "        vw = cv2.VideoWriter(now + '.avi', fourcc,20, (frame.shape[1], frame.shape[0]))\n",
    "        record = True\n",
    "    # Ctrl + c\n",
    "    elif key == 3:\n",
    "        print('녹화 중지')\n",
    "        vw.release()\n",
    "        record =False\n",
    "        \n",
    "    # 녹화 처리\n",
    "    if record == True:\n",
    "        vw.write(frame)\n",
    "        \n",
    "video.release()\n",
    "cv2.destroyAllWindows()"
   ]
  }
 ],
 "metadata": {
  "kernelspec": {
   "display_name": "Python 3",
   "language": "python",
   "name": "python3"
  },
  "language_info": {
   "codemirror_mode": {
    "name": "ipython",
    "version": 3
   },
   "file_extension": ".py",
   "mimetype": "text/x-python",
   "name": "python",
   "nbconvert_exporter": "python",
   "pygments_lexer": "ipython3",
   "version": "3.8.5"
  }
 },
 "nbformat": 4,
 "nbformat_minor": 4
}
