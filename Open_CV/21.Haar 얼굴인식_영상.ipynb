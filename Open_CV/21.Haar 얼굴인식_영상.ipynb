{
 "cells": [
  {
   "cell_type": "code",
   "execution_count": 1,
   "metadata": {},
   "outputs": [],
   "source": [
    "import cv2\n",
    "import numpy as np"
   ]
  },
  {
   "cell_type": "code",
   "execution_count": 2,
   "metadata": {},
   "outputs": [],
   "source": [
    "# cascade 파일\n",
    "face_cascade_name = 'opencv_data/haarcascades/haarcascade_frontalface_alt.xml'\n",
    "eyes_cascade_name = 'opencv_data/haarcascades/haarcascade_eye_tree_eyeglasses.xml'"
   ]
  },
  {
   "cell_type": "code",
   "execution_count": 3,
   "metadata": {},
   "outputs": [],
   "source": [
    "# 영상 파일 이름\n",
    "file_name = 'opencv_data/video/obama_01.mp4'"
   ]
  },
  {
   "cell_type": "code",
   "execution_count": 4,
   "metadata": {},
   "outputs": [],
   "source": [
    "# 영상 데이터를 불러온다.\n",
    "cap = cv2.VideoCapture(file_name)"
   ]
  },
  {
   "cell_type": "code",
   "execution_count": 5,
   "metadata": {},
   "outputs": [
    {
     "data": {
      "text/plain": [
       "True"
      ]
     },
     "execution_count": 5,
     "metadata": {},
     "output_type": "execute_result"
    }
   ],
   "source": [
    "# 얼굴을 인식할 수 있는 모델을 생성한다.\n",
    "face_cascade = cv2.CascadeClassifier()\n",
    "eyes_cascade = cv2.CascadeClassifier()\n",
    "\n",
    "# cascade 파일을 로딩한다.\n",
    "face_cascade.load(cv2.samples.findFile(face_cascade_name))\n",
    "eyes_cascade.load(cv2.samples.findFile(eyes_cascade_name))"
   ]
  },
  {
   "cell_type": "code",
   "execution_count": 6,
   "metadata": {},
   "outputs": [],
   "source": [
    "# 영상 재생\n",
    "while True:\n",
    "    # 영상의 다음 프레임을 읽어온다.\n",
    "    ret, frame = cap.read()\n",
    "    # 더 이상 읽어올 영상이 없다면 중단시킨다.\n",
    "    if frame is None:\n",
    "        break\n",
    "    \n",
    "    # 추출한 이미지를 그레이 스케일로 변환한다.\n",
    "    frame_gray = cv2.cvtColor(frame, cv2.COLOR_BGR2GRAY)\n",
    "    # 그레이 스케일 이미지를 표준화한다.\n",
    "    frame_gray = cv2.equalizeHist(frame_gray)\n",
    "    # 얼굴을 인식한다.\n",
    "    faces = face_cascade.detectMultiScale(frame_gray)\n",
    "    # print(faces)\n",
    "    \n",
    "    # 인식된 얼굴의 수만큼 반복한다.\n",
    "    for x,y,w,h in faces:\n",
    "        # 인식된 얼굴에 사각형을 그린다.\n",
    "        frame = cv2.rectangle(frame, (x,y), (x+w, y+h), (0,255,0),3)\n",
    "        # 인식된 얼굴 데이터를 추출한다.\n",
    "        faceROI = frame_gray[y:y+h, x:x+h]\n",
    "        \n",
    "        # 인식된 얼굴에서 눈을 인식한다.\n",
    "        eyes = eyes_cascade.detectMultiScale(faceROI)\n",
    "        #print(eyes)\n",
    "        \n",
    "        # 인식된 눈의 수만큼 반복한다.\n",
    "        for x2, y2, w2, h2 in eyes:\n",
    "            # 원의 중심점\n",
    "            eye_center = x + x2 + w2//2, y + y2 +h2//2\n",
    "            # 반경\n",
    "            radius = int(round((w2 + h2)*0.25))\n",
    "            # 원을 그린다.\n",
    "            frame = cv2.circle(frame, eye_center, radius, (255,0,0),3)\n",
    "    \n",
    "    # 영상 보여주기 (원본 이미지)\n",
    "    cv2.imshow('face detection',frame)\n",
    "    \n",
    "    # 키를 누르면 중단한다.\n",
    "    if cv2.waitKey(1) & 0xFF == ord('q'):\n",
    "        break"
   ]
  },
  {
   "cell_type": "code",
   "execution_count": 7,
   "metadata": {},
   "outputs": [],
   "source": [
    "cv2.destroyAllWindows()"
   ]
  }
 ],
 "metadata": {
  "kernelspec": {
   "display_name": "Python 3",
   "language": "python",
   "name": "python3"
  },
  "language_info": {
   "codemirror_mode": {
    "name": "ipython",
    "version": 3
   },
   "file_extension": ".py",
   "mimetype": "text/x-python",
   "name": "python",
   "nbconvert_exporter": "python",
   "pygments_lexer": "ipython3",
   "version": "3.8.5"
  }
 },
 "nbformat": 4,
 "nbformat_minor": 4
}
