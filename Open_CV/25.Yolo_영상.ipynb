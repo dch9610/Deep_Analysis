{
 "cells": [
  {
   "cell_type": "code",
   "execution_count": 1,
   "metadata": {},
   "outputs": [],
   "source": [
    "import cv2\n",
    "import numpy as np"
   ]
  },
  {
   "cell_type": "code",
   "execution_count": 2,
   "metadata": {},
   "outputs": [],
   "source": [
    "file_name = 'opencv_data/video/son_01.mp4'\n",
    "min_confidence = 0.8"
   ]
  },
  {
   "cell_type": "code",
   "execution_count": 3,
   "metadata": {},
   "outputs": [],
   "source": [
    "# Yolo 모델을 로딩한다.\n",
    "net = cv2.dnn.readNet('opencv_data/yolo/yolov3.weights',\n",
    "                     'opencv_data/yolo/yolov3.cfg')"
   ]
  },
  {
   "cell_type": "code",
   "execution_count": 4,
   "metadata": {},
   "outputs": [],
   "source": [
    "# 인식 가능한 항목들의 리스트를 가져온다.\n",
    "with open('opencv_data/yolo/coco.names','r') as fp:\n",
    "    classes = [line.strip() for line in fp.readlines()]"
   ]
  },
  {
   "cell_type": "code",
   "execution_count": 5,
   "metadata": {},
   "outputs": [
    {
     "data": {
      "text/plain": [
       "['yolo_82', 'yolo_94', 'yolo_106']"
      ]
     },
     "execution_count": 5,
     "metadata": {},
     "output_type": "execute_result"
    }
   ],
   "source": [
    "# 은닉층들 이름\n",
    "layer_names = net.getLayerNames()\n",
    "\n",
    "# 각 신경망의 출력층 이름\n",
    "output_layers=[layer_names[i[0] -1] for i in net.getUnconnectedOutLayers()]\n",
    "output_layers"
   ]
  },
  {
   "cell_type": "code",
   "execution_count": 6,
   "metadata": {},
   "outputs": [],
   "source": [
    "# 각 물체의 영역 색상을 랜덤하게 생성한다.\n",
    "colors = np.random.uniform(0, 255, size=(len(classes),3))"
   ]
  },
  {
   "cell_type": "code",
   "execution_count": null,
   "metadata": {},
   "outputs": [],
   "source": [
    "# 동영상을 띄운다.\n",
    "cap = cv2.VideoCapture(file_name)\n",
    "\n",
    "while True:\n",
    "    ret, frame = cap.read()\n",
    "    if frame is None:\n",
    "        break\n",
    "        \n",
    "    # 인식\n",
    "    # 현재 프레임의 정보를 가져온다.\n",
    "    height, width, channels = frame.shape\n",
    "    cv2.imshow('video', frame)\n",
    "    \n",
    "    # 현재 프레임을 리사이징해서 2진 데이터로 만든다.\n",
    "    # 320x320, 416x416, 609x606\n",
    "    blob = cv2.dnn.blobFromImage(frame, 0.00392, (416,416), (0,0,0), True,crop=False)\n",
    "    \n",
    "    # 2진 데이터를 넣어서 예측결과를 가져온다.\n",
    "    net.setInput(blob)\n",
    "    outs = net.forward(output_layers)\n",
    "    \n",
    "    # 각 신경망이 예측한 결과 묶음의 개수(3개)만큼 반복한다.\n",
    "    for out in outs:\n",
    "        # 예측된 사물의 수만큼 반복한다.\n",
    "        for detection in out:\n",
    "\n",
    "            # 예측 정확도를 가지고 있는 배열을 추출한다.\n",
    "            scores = detection[5:]\n",
    "\n",
    "            # 가장 높은 정확도를 가지고 있는 곳의 인덱스를 추출한다.\n",
    "            class_id = np.argmax(scores)\n",
    "            # print(class_id)\n",
    "            # print(collections.Counter(scores))\n",
    "\n",
    "            # 예측 정확도를 가져온다.\n",
    "            confidence = scores[class_id]\n",
    "            # print(confidence)\n",
    "\n",
    "            # 예측 정확도가 설정한 최소 정확도보다 큰것만 사용한다.\n",
    "            if confidence > min_confidence:\n",
    "                # 감지한 물체에 영역을 표시한다.\n",
    "                # 물체의 중앙점 x,y 좌표\n",
    "                center_x = int(detection[0] * width)\n",
    "                center_y = int(detection[1] * height)\n",
    "\n",
    "                # 물체의 가로 세로 길이\n",
    "                w = int(detection[2] * width)\n",
    "                h = int(detection[3] * height)\n",
    "\n",
    "                # 영역의 x,y 좌표\n",
    "                x = int(center_x - w/2)\n",
    "                y = int(center_y - h/2)\n",
    "\n",
    "                # print(x,y,w,h)\n",
    "\n",
    "                cv2.rectangle(frame,(x,y), (x+w, y+h), colors[class_id],2)\n",
    "\n",
    "                # 물체 이름을 표시한다.\n",
    "                # 물체이름과 정확도 표시\n",
    "                text = f'{classes[class_id]} : {int(confidence * 100)}'\n",
    "                cv2.putText(frame, text, (x,y-5), cv2.FONT_HERSHEY_SIMPLEX, 1, colors[class_id],1)\n",
    "\n",
    "        \n",
    "    cv2.imshow('yolo', frame)\n",
    "    \n",
    "    if cv2.waitKey(1) & 0xFF == ord('q'):\n",
    "        break\n",
    "        \n",
    "        \n",
    "cv2.destoryAllWindows()"
   ]
  },
  {
   "cell_type": "code",
   "execution_count": null,
   "metadata": {},
   "outputs": [],
   "source": []
  }
 ],
 "metadata": {
  "kernelspec": {
   "display_name": "Python 3",
   "language": "python",
   "name": "python3"
  },
  "language_info": {
   "codemirror_mode": {
    "name": "ipython",
    "version": 3
   },
   "file_extension": ".py",
   "mimetype": "text/x-python",
   "name": "python",
   "nbconvert_exporter": "python",
   "pygments_lexer": "ipython3",
   "version": "3.8.5"
  }
 },
 "nbformat": 4,
 "nbformat_minor": 4
}
