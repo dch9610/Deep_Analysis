{
 "cells": [
  {
   "cell_type": "markdown",
   "metadata": {},
   "source": [
    "- 영상이나 이미지에서 코너를 검출하는 알고리즘\n",
    "- 정확하게 트래킹하기 좋은 지점을 찾을 수 있다.\n",
    "- 다각형 등에서 꼭지점을 찾는 목적으로 사용한다."
   ]
  },
  {
   "cell_type": "code",
   "execution_count": 1,
   "metadata": {},
   "outputs": [],
   "source": [
    "import cv2"
   ]
  },
  {
   "cell_type": "code",
   "execution_count": 2,
   "metadata": {},
   "outputs": [],
   "source": [
    "src = cv2.imread('../images/opencv_image/19.jpg', cv2.IMREAD_REDUCED_COLOR_2)"
   ]
  },
  {
   "cell_type": "code",
   "execution_count": 3,
   "metadata": {},
   "outputs": [],
   "source": [
    "# 작업을 위해 이미지를 복제한다.\n",
    "dst = src.copy()"
   ]
  },
  {
   "cell_type": "code",
   "execution_count": 4,
   "metadata": {},
   "outputs": [],
   "source": [
    "# 그레이 스케일\n",
    "gray = cv2.cvtColor(src, cv2.COLOR_RGB2GRAY)"
   ]
  },
  {
   "cell_type": "code",
   "execution_count": 9,
   "metadata": {},
   "outputs": [],
   "source": [
    "# 코너를 검출한다.\n",
    "# 그레이스케일이 적용된 이미지, 코너 최댓값, 코너 품질, 최소거리\n",
    "corners = cv2.goodFeaturesToTrack(gray, 100, 0.01,5)"
   ]
  },
  {
   "cell_type": "code",
   "execution_count": 11,
   "metadata": {},
   "outputs": [
    {
     "name": "stderr",
     "output_type": "stream",
     "text": [
      "<ipython-input-11-fb464a338248>:4: DeprecationWarning: an integer is required (got type numpy.float32).  Implicit conversion to integers using __int__ is deprecated, and may be removed in a future version of Python.\n",
      "  cv2.circle(dst, tuple(i[0]), 0, (0,0,255),2)\n"
     ]
    }
   ],
   "source": [
    "for i in corners:\n",
    "    # 원으로 표시한다\n",
    "    # 원의 중심점 좌표, 선의 두께, 색상, 반경\n",
    "    cv2.circle(dst, tuple(i[0]), 0, (0,0,255),2)"
   ]
  },
  {
   "cell_type": "code",
   "execution_count": 12,
   "metadata": {},
   "outputs": [],
   "source": [
    "cv2.imshow('dst',dst)\n",
    "\n",
    "cv2.waitKey()\n",
    "cv2.destroyAllWindows()"
   ]
  }
 ],
 "metadata": {
  "kernelspec": {
   "display_name": "Python 3",
   "language": "python",
   "name": "python3"
  },
  "language_info": {
   "codemirror_mode": {
    "name": "ipython",
    "version": 3
   },
   "file_extension": ".py",
   "mimetype": "text/x-python",
   "name": "python",
   "nbconvert_exporter": "python",
   "pygments_lexer": "ipython3",
   "version": "3.8.5"
  }
 },
 "nbformat": 4,
 "nbformat_minor": 4
}
